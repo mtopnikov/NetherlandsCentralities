{
 "cells": [
  {
   "cell_type": "markdown",
   "metadata": {},
   "source": [
    "# Reshaping statistical data"
   ]
  },
  {
   "cell_type": "code",
   "execution_count": 1,
   "metadata": {},
   "outputs": [],
   "source": [
    "import pandas as pd\n",
    "import geopandas as gpd\n",
    "import json\n",
    "import os\n",
    "import googlemaps\n",
    "from collections import defaultdict, OrderedDict\n",
    "from tqdm import tqdm"
   ]
  },
  {
   "cell_type": "code",
   "execution_count": 2,
   "metadata": {},
   "outputs": [],
   "source": [
    "os.chdir('D:/bachelors/datasets/')"
   ]
  },
  {
   "cell_type": "markdown",
   "metadata": {},
   "source": [
    "## Read mappers for columns"
   ]
  },
  {
   "cell_type": "code",
   "execution_count": 3,
   "metadata": {},
   "outputs": [],
   "source": [
    "metadata = pd.read_excel('territory_bases_v2/all_meta_edited.xlsx', sheet_name = None)\n",
    "del metadata['2019']\n",
    "\n",
    "mapper_columns = defaultdict(dict)\n",
    "for yearspan, md_table in metadata.items():\n",
    "    mapper_columns[yearspan] = metadata[yearspan].dropna(\n",
    "        subset = ['Key', 'mapped']\n",
    "    )[['Key', 'mapped']].set_index('Key').to_dict()['mapped']"
   ]
  },
  {
   "cell_type": "code",
   "execution_count": 25,
   "metadata": {},
   "outputs": [],
   "source": [
    "with open('Variables/mappers/territory_bases_map.json', 'w') as outfile:\n",
    "    json.dump(mapper_columns, outfile)"
   ]
  },
  {
   "cell_type": "code",
   "execution_count": 4,
   "metadata": {},
   "outputs": [],
   "source": [
    "with open('Variables/mappers/territory_bases_map.json') as infile:\n",
    "    mapper_columns = json.load(infile)"
   ]
  },
  {
   "cell_type": "markdown",
   "metadata": {},
   "source": [
    "## Read, filter and map columns of datatables"
   ]
  },
  {
   "cell_type": "code",
   "execution_count": 5,
   "metadata": {},
   "outputs": [
    {
     "name": "stderr",
     "output_type": "stream",
     "text": [
      "C:\\Users\\mtopn\\Anaconda3\\lib\\site-packages\\IPython\\core\\interactiveshell.py:3057: DtypeWarning: Columns (35,88,93,111) have mixed types. Specify dtype option on import or set low_memory=False.\n",
      "  interactivity=interactivity, compiler=compiler, result=result)\n",
      "C:\\Users\\mtopn\\Anaconda3\\lib\\site-packages\\IPython\\core\\interactiveshell.py:3057: DtypeWarning: Columns (36,37,98,122,142,143,158,159) have mixed types. Specify dtype option on import or set low_memory=False.\n",
      "  interactivity=interactivity, compiler=compiler, result=result)\n"
     ]
    }
   ],
   "source": [
    "databases = defaultdict(dict)\n",
    "for yearspan, col_renamer in mapper_columns.items():\n",
    "    base = pd.read_csv(f'territory_bases_v2/database_{yearspan}.csv', sep = ';')\n",
    "    base = base[base['SoortRegio_2'] == 'Gemeente  ']\n",
    "    databases[yearspan] = base[list(col_renamer.keys())].rename(columns = col_renamer)"
   ]
  },
  {
   "cell_type": "markdown",
   "metadata": {},
   "source": [
    "## Get communes names, geocode, map to 2018 communes"
   ]
  },
  {
   "cell_type": "code",
   "execution_count": 5,
   "metadata": {},
   "outputs": [],
   "source": [
    "def getCommunes(df):\n",
    "    \"\"\"\n",
    "    Returns the set of unique communes\n",
    "    \"\"\"\n",
    "    return set().union(set(df.geo_commune.dropna()))"
   ]
  },
  {
   "cell_type": "code",
   "execution_count": 6,
   "metadata": {},
   "outputs": [],
   "source": [
    "with open('Variables/mappers/commune_mapper_stats.json') as infile:\n",
    "    commune_map = json.load(infile)"
   ]
  },
  {
   "cell_type": "code",
   "execution_count": 7,
   "metadata": {},
   "outputs": [],
   "source": [
    "communes_set = set()\n",
    "for dset in databases:\n",
    "    communes_set = communes_set.union(getCommunes(databases[dset]))\n",
    "    \n",
    "communes = pd.DataFrame({'commune' : list(communes_set)}).assign(\n",
    "    commune = lambda frame: frame.commune.str.strip()\n",
    ")"
   ]
  },
  {
   "cell_type": "code",
   "execution_count": 8,
   "metadata": {},
   "outputs": [],
   "source": [
    "communes['commune_renewed'] = pd.Series()\n",
    "communes.loc[communes.commune.isin(commune_map.keys()), 'commune_renewed'] = communes.loc[communes.commune.isin(commune_map.keys()), 'commune'].map(commune_map)\n",
    "communes.fillna(method = 'ffill', axis = 1, inplace = True)"
   ]
  },
  {
   "cell_type": "code",
   "execution_count": 117,
   "metadata": {},
   "outputs": [],
   "source": [
    "communes_geocode = pd.DataFrame(communes.commune_renewed.unique()).rename(columns = {0 : 'commune_ok'}).assign(\n",
    "    address = lambda frame: frame.commune_ok.apply(lambda x: x + ', Netherlands'),\n",
    "    lat = pd.Series(),\n",
    "    lon = pd.Series()\n",
    ")"
   ]
  },
  {
   "cell_type": "code",
   "execution_count": 120,
   "metadata": {},
   "outputs": [],
   "source": [
    "gmaps = googlemaps.Client(key= '')"
   ]
  },
  {
   "cell_type": "code",
   "execution_count": 121,
   "metadata": {},
   "outputs": [],
   "source": [
    "def gcode_gmaps(location):\n",
    "    try:\n",
    "        response = gmaps.geocode(location)\n",
    "        most_relevant = response[0]\n",
    "        location = most_relevant['geometry']['location']\n",
    "        \n",
    "        return location['lat'], location['lng'], response\n",
    "    except Exception as e:\n",
    "        print(e)\n",
    "        return None, None, response"
   ]
  },
  {
   "cell_type": "code",
   "execution_count": 122,
   "metadata": {},
   "outputs": [
    {
     "name": "stderr",
     "output_type": "stream",
     "text": [
      "108it [00:05, 13.63it/s]"
     ]
    },
    {
     "name": "stdout",
     "output_type": "stream",
     "text": [
      "list index out of range\n"
     ]
    },
    {
     "name": "stderr",
     "output_type": "stream",
     "text": [
      "147it [00:08, 23.93it/s]"
     ]
    },
    {
     "name": "stdout",
     "output_type": "stream",
     "text": [
      "list index out of range\n"
     ]
    },
    {
     "name": "stderr",
     "output_type": "stream",
     "text": [
      "282it [00:13, 27.46it/s]"
     ]
    },
    {
     "name": "stdout",
     "output_type": "stream",
     "text": [
      "list index out of range\n"
     ]
    },
    {
     "name": "stderr",
     "output_type": "stream",
     "text": [
      "297it [00:14, 23.53it/s]"
     ]
    },
    {
     "name": "stdout",
     "output_type": "stream",
     "text": [
      "list index out of range\n"
     ]
    },
    {
     "name": "stderr",
     "output_type": "stream",
     "text": [
      "399it [00:18, 26.56it/s]"
     ]
    },
    {
     "name": "stdout",
     "output_type": "stream",
     "text": [
      "list index out of range\n"
     ]
    },
    {
     "name": "stderr",
     "output_type": "stream",
     "text": [
      "411it [00:19, 22.25it/s]"
     ]
    },
    {
     "name": "stdout",
     "output_type": "stream",
     "text": [
      "list index out of range\n"
     ]
    },
    {
     "name": "stderr",
     "output_type": "stream",
     "text": [
      "504it [00:23, 21.88it/s]"
     ]
    },
    {
     "name": "stdout",
     "output_type": "stream",
     "text": [
      "list index out of range\n"
     ]
    },
    {
     "name": "stderr",
     "output_type": "stream",
     "text": [
      "537it [00:24, 25.48it/s]\n"
     ]
    }
   ],
   "source": [
    "responses = defaultdict(dict)\n",
    "for i, row in tqdm(communes_geocode.iterrows()):\n",
    "    location = row['address']\n",
    "    lat, lon, response = gcode_gmaps(location)\n",
    "#     sleep(1)\n",
    "    \n",
    "    responses[row['commune_ok']] = response\n",
    "    \n",
    "    communes_geocode.loc[communes_geocode.address == location, 'lat'] = lat\n",
    "    communes_geocode.loc[communes_geocode.address == location, 'lon'] = lon\n",
    "    \n",
    "with open('communes_responses_google_terra.json', 'w') as outfile:\n",
    "    json.dump(responses, outfile)"
   ]
  },
  {
   "cell_type": "code",
   "execution_count": 134,
   "metadata": {},
   "outputs": [
    {
     "data": {
      "text/html": [
       "<div>\n",
       "<style scoped>\n",
       "    .dataframe tbody tr th:only-of-type {\n",
       "        vertical-align: middle;\n",
       "    }\n",
       "\n",
       "    .dataframe tbody tr th {\n",
       "        vertical-align: top;\n",
       "    }\n",
       "\n",
       "    .dataframe thead th {\n",
       "        text-align: right;\n",
       "    }\n",
       "</style>\n",
       "<table border=\"1\" class=\"dataframe\">\n",
       "  <thead>\n",
       "    <tr style=\"text-align: right;\">\n",
       "      <th></th>\n",
       "      <th>commune_ok</th>\n",
       "      <th>address</th>\n",
       "      <th>lat</th>\n",
       "      <th>lon</th>\n",
       "    </tr>\n",
       "  </thead>\n",
       "  <tbody>\n",
       "    <tr>\n",
       "      <th>110</th>\n",
       "      <td>Harenkarspel</td>\n",
       "      <td>Harenkarspel, Netherlands</td>\n",
       "      <td>NaN</td>\n",
       "      <td>NaN</td>\n",
       "    </tr>\n",
       "    <tr>\n",
       "      <th>147</th>\n",
       "      <td>Wûnseradiel</td>\n",
       "      <td>Wûnseradiel, Netherlands</td>\n",
       "      <td>NaN</td>\n",
       "      <td>NaN</td>\n",
       "    </tr>\n",
       "    <tr>\n",
       "      <th>282</th>\n",
       "      <td>Skarsterlân</td>\n",
       "      <td>Skarsterlân, Netherlands</td>\n",
       "      <td>NaN</td>\n",
       "      <td>NaN</td>\n",
       "    </tr>\n",
       "    <tr>\n",
       "      <th>297</th>\n",
       "      <td>Lemsterland</td>\n",
       "      <td>Lemsterland, Netherlands</td>\n",
       "      <td>NaN</td>\n",
       "      <td>NaN</td>\n",
       "    </tr>\n",
       "    <tr>\n",
       "      <th>401</th>\n",
       "      <td>Ooststelli</td>\n",
       "      <td>Ooststelli, Netherlands</td>\n",
       "      <td>NaN</td>\n",
       "      <td>NaN</td>\n",
       "    </tr>\n",
       "    <tr>\n",
       "      <th>411</th>\n",
       "      <td>Wymbritseradiel</td>\n",
       "      <td>Wymbritseradiel, Netherlands</td>\n",
       "      <td>NaN</td>\n",
       "      <td>NaN</td>\n",
       "    </tr>\n",
       "    <tr>\n",
       "      <th>506</th>\n",
       "      <td>W¹nseradie</td>\n",
       "      <td>W¹nseradie, Netherlands</td>\n",
       "      <td>NaN</td>\n",
       "      <td>NaN</td>\n",
       "    </tr>\n",
       "  </tbody>\n",
       "</table>\n",
       "</div>"
      ],
      "text/plain": [
       "          commune_ok                       address  lat  lon\n",
       "110     Harenkarspel     Harenkarspel, Netherlands  NaN  NaN\n",
       "147      Wûnseradiel      Wûnseradiel, Netherlands  NaN  NaN\n",
       "282      Skarsterlân      Skarsterlân, Netherlands  NaN  NaN\n",
       "297      Lemsterland      Lemsterland, Netherlands  NaN  NaN\n",
       "401       Ooststelli       Ooststelli, Netherlands  NaN  NaN\n",
       "411  Wymbritseradiel  Wymbritseradiel, Netherlands  NaN  NaN\n",
       "506       W¹nseradie       W¹nseradie, Netherlands  NaN  NaN"
      ]
     },
     "execution_count": 134,
     "metadata": {},
     "output_type": "execute_result"
    }
   ],
   "source": [
    "communes_geocode.loc[(communes_geocode.lat.isna()) | (communes_geocode.lon.isna())]"
   ]
  },
  {
   "cell_type": "code",
   "execution_count": 135,
   "metadata": {},
   "outputs": [],
   "source": [
    "fix_my_communes = {\n",
    "    'Wymbritseradiel' : [52.999456, 5.578561],\n",
    "    'Ooststelli' : [53, 6.3],\n",
    "    'Lemsterland' : [52.85, 5.716667],\n",
    "    'Wûnseradiel' : [53.1, 5.466667],\n",
    "    'W¹nseradie' : [53.1, 5.466667],\n",
    "    'Skarsterlân' : [52.966667, 5.783333],\n",
    "    'Harenkarspel' : [52.73, 4.75],\n",
    "    'Skarsterlân' : [52.966667, 5.783333]\n",
    "}"
   ]
  },
  {
   "cell_type": "code",
   "execution_count": 136,
   "metadata": {},
   "outputs": [],
   "source": [
    "communes_geocode.loc[\n",
    "    communes_geocode.lat.isna(), 'lat'\n",
    "] = communes_geocode.loc[communes_geocode.lat.isna(), 'commune_ok'].map(fix_my_communes).str[0]\n",
    "\n",
    "communes_geocode.loc[\n",
    "    communes_geocode.lon.isna(), 'lon'\n",
    "] = communes_geocode.loc[communes_geocode.lon.isna(), 'commune_ok'].map(fix_my_communes).str[1]"
   ]
  },
  {
   "cell_type": "code",
   "execution_count": 138,
   "metadata": {},
   "outputs": [],
   "source": [
    "coordinates_map = {commune : {'lat' : lat, 'lon' : lon} for commune, lat, lon in zip(communes_geocode.commune_ok, communes_geocode.lat, communes_geocode.lon)}\n",
    "\n",
    "with open('Variables/mappers/coordinates_map_google_geocode_TERRA.json', 'w') as outfile:\n",
    "    json.dump(coordinates_map, outfile)"
   ]
  },
  {
   "cell_type": "code",
   "execution_count": 140,
   "metadata": {},
   "outputs": [],
   "source": [
    "from shapely.geometry import Point"
   ]
  },
  {
   "cell_type": "code",
   "execution_count": 141,
   "metadata": {},
   "outputs": [
    {
     "ename": "CPLE_AppDefinedError",
     "evalue": "b'sqlite3_exec(CREATE VIRTUAL TABLE \"rtree_communes_points_google_TERRA_geom\" USING rtree(id, minx, maxx, miny, maxy)) failed: no such module: rtree'",
     "output_type": "error",
     "traceback": [
      "\u001b[1;31m---------------------------------------------------------------------------\u001b[0m",
      "\u001b[1;31mCPLE_AppDefinedError\u001b[0m                      Traceback (most recent call last)",
      "\u001b[1;32mfiona/_err.pyx\u001b[0m in \u001b[0;36mfiona._err.GDALErrCtxManager.__exit__\u001b[1;34m()\u001b[0m\n",
      "\u001b[1;31mCPLE_AppDefinedError\u001b[0m: b'sqlite3_exec(CREATE VIRTUAL TABLE \"rtree_communes_points_google_TERRA_geom\" USING rtree(id, minx, maxx, miny, maxy)) failed: no such module: rtree'"
     ]
    },
    {
     "name": "stderr",
     "output_type": "stream",
     "text": [
      "Exception ignored in: 'fiona._shim.gdal_flush_cache'\n",
      "Traceback (most recent call last):\n",
      "  File \"fiona/_err.pyx\", line 201, in fiona._err.GDALErrCtxManager.__exit__\n",
      "fiona._err.CPLE_AppDefinedError: b'sqlite3_exec(CREATE VIRTUAL TABLE \"rtree_communes_points_google_TERRA_geom\" USING rtree(id, minx, maxx, miny, maxy)) failed: no such module: rtree'\n"
     ]
    }
   ],
   "source": [
    "geo_points_communes = gpd.GeoDataFrame(communes_geocode, \n",
    "                                       crs = {'init' : 'epsg:4326'}, \n",
    "                                       geometry = [Point(xy) for xy in zip(communes_geocode.lon, communes_geocode.lat)])\n",
    "\n",
    "geo_points_communes.to_file('communes_points_google_TERRA.gpkg', driver = 'GPKG')"
   ]
  },
  {
   "cell_type": "code",
   "execution_count": 13,
   "metadata": {},
   "outputs": [
    {
     "data": {
      "text/plain": [
       "<matplotlib.axes._subplots.AxesSubplot at 0x21d0481fb38>"
      ]
     },
     "execution_count": 13,
     "metadata": {},
     "output_type": "execute_result"
    },
    {
     "data": {
      "image/png": "[encoded data removed]",
      "text/plain": [
       "<Figure size 432x288 with 1 Axes>"
      ]
     },
     "metadata": {
      "needs_background": "light"
     },
     "output_type": "display_data"
    }
   ],
   "source": [
    "geo_points_communes = gpd.read_file('communes_points_google_TERRA.gpkg')\n",
    "geo_points_communes.plot()"
   ]
  },
  {
   "cell_type": "code",
   "execution_count": 14,
   "metadata": {},
   "outputs": [
    {
     "data": {
      "text/plain": [
       "<matplotlib.axes._subplots.AxesSubplot at 0x21d056a34e0>"
      ]
     },
     "execution_count": 14,
     "metadata": {},
     "output_type": "execute_result"
    },
    {
     "data": {
      "image/png": "[encoded data removed]",
      "text/plain": [
       "<Figure size 432x288 with 1 Axes>"
      ]
     },
     "metadata": {
      "needs_background": "light"
     },
     "output_type": "display_data"
    }
   ],
   "source": [
    "communes_2018 = gpd.read_file('../qgis/base/Netherlands_communes.gpkg')\n",
    "communes_2018.plot()"
   ]
  },
  {
   "cell_type": "code",
   "execution_count": 15,
   "metadata": {},
   "outputs": [
    {
     "data": {
      "text/html": [
       "<div>\n",
       "<style scoped>\n",
       "    .dataframe tbody tr th:only-of-type {\n",
       "        vertical-align: middle;\n",
       "    }\n",
       "\n",
       "    .dataframe tbody tr th {\n",
       "        vertical-align: top;\n",
       "    }\n",
       "\n",
       "    .dataframe thead th {\n",
       "        text-align: right;\n",
       "    }\n",
       "</style>\n",
       "<table border=\"1\" class=\"dataframe\">\n",
       "  <thead>\n",
       "    <tr style=\"text-align: right;\">\n",
       "      <th></th>\n",
       "      <th>NAME</th>\n",
       "      <th>POPULATION</th>\n",
       "      <th>Area</th>\n",
       "      <th>DENSITY</th>\n",
       "      <th>geometry</th>\n",
       "      <th>index_right</th>\n",
       "      <th>commune_ok</th>\n",
       "      <th>address</th>\n",
       "      <th>lat</th>\n",
       "      <th>lon</th>\n",
       "    </tr>\n",
       "  </thead>\n",
       "  <tbody>\n",
       "    <tr>\n",
       "      <th>0</th>\n",
       "      <td>Aa en Hunze</td>\n",
       "      <td>25390</td>\n",
       "      <td>279914646</td>\n",
       "      <td>90.71</td>\n",
       "      <td>(POLYGON ((6.944836772102481 52.99215596570361...</td>\n",
       "      <td>179</td>\n",
       "      <td>Aa en Hunze</td>\n",
       "      <td>Aa en Hunze, Netherlands</td>\n",
       "      <td>53.010485</td>\n",
       "      <td>6.749528</td>\n",
       "    </tr>\n",
       "    <tr>\n",
       "      <th>1</th>\n",
       "      <td>Assen</td>\n",
       "      <td>67708</td>\n",
       "      <td>83621452</td>\n",
       "      <td>809.70</td>\n",
       "      <td>(POLYGON ((6.568604595030538 52.94576501347922...</td>\n",
       "      <td>290</td>\n",
       "      <td>Assen</td>\n",
       "      <td>Assen, Netherlands</td>\n",
       "      <td>52.992753</td>\n",
       "      <td>6.564228</td>\n",
       "    </tr>\n",
       "    <tr>\n",
       "      <th>2</th>\n",
       "      <td>Borger-Odoorn</td>\n",
       "      <td>25351</td>\n",
       "      <td>272907572</td>\n",
       "      <td>92.89</td>\n",
       "      <td>(POLYGON ((7.020432471769706 52.87130845397606...</td>\n",
       "      <td>100</td>\n",
       "      <td>Borger-Odoorn</td>\n",
       "      <td>Borger-Odoorn, Netherlands</td>\n",
       "      <td>52.889372</td>\n",
       "      <td>6.888404</td>\n",
       "    </tr>\n",
       "    <tr>\n",
       "      <th>3</th>\n",
       "      <td>Coevorden</td>\n",
       "      <td>35299</td>\n",
       "      <td>299357668</td>\n",
       "      <td>117.92</td>\n",
       "      <td>(POLYGON ((6.815015728840681 52.64786459842855...</td>\n",
       "      <td>248</td>\n",
       "      <td>Coevorden</td>\n",
       "      <td>Coevorden, Netherlands</td>\n",
       "      <td>52.661357</td>\n",
       "      <td>6.741062</td>\n",
       "    </tr>\n",
       "    <tr>\n",
       "      <th>4</th>\n",
       "      <td>De Wolden</td>\n",
       "      <td>23917</td>\n",
       "      <td>226940619</td>\n",
       "      <td>105.39</td>\n",
       "      <td>(POLYGON ((6.454367764449058 52.78519798884386...</td>\n",
       "      <td>251</td>\n",
       "      <td>De Wolden</td>\n",
       "      <td>De Wolden, Netherlands</td>\n",
       "      <td>52.681979</td>\n",
       "      <td>6.366039</td>\n",
       "    </tr>\n",
       "  </tbody>\n",
       "</table>\n",
       "</div>"
      ],
      "text/plain": [
       "            NAME  POPULATION       Area  DENSITY  \\\n",
       "0    Aa en Hunze       25390  279914646    90.71   \n",
       "1          Assen       67708   83621452   809.70   \n",
       "2  Borger-Odoorn       25351  272907572    92.89   \n",
       "3      Coevorden       35299  299357668   117.92   \n",
       "4      De Wolden       23917  226940619   105.39   \n",
       "\n",
       "                                            geometry  index_right  \\\n",
       "0  (POLYGON ((6.944836772102481 52.99215596570361...          179   \n",
       "1  (POLYGON ((6.568604595030538 52.94576501347922...          290   \n",
       "2  (POLYGON ((7.020432471769706 52.87130845397606...          100   \n",
       "3  (POLYGON ((6.815015728840681 52.64786459842855...          248   \n",
       "4  (POLYGON ((6.454367764449058 52.78519798884386...          251   \n",
       "\n",
       "      commune_ok                     address        lat       lon  \n",
       "0    Aa en Hunze    Aa en Hunze, Netherlands  53.010485  6.749528  \n",
       "1          Assen          Assen, Netherlands  52.992753  6.564228  \n",
       "2  Borger-Odoorn  Borger-Odoorn, Netherlands  52.889372  6.888404  \n",
       "3      Coevorden      Coevorden, Netherlands  52.661357  6.741062  \n",
       "4      De Wolden      De Wolden, Netherlands  52.681979  6.366039  "
      ]
     },
     "execution_count": 15,
     "metadata": {},
     "output_type": "execute_result"
    }
   ],
   "source": [
    "joined_communes = gpd.sjoin(communes_2018, geo_points_communes, how = 'left', op = 'intersects')\n",
    "joined_communes.head()"
   ]
  },
  {
   "cell_type": "code",
   "execution_count": 16,
   "metadata": {},
   "outputs": [],
   "source": [
    "names_map = dict(zip(joined_communes.commune_ok, joined_communes.NAME))\n",
    "\n",
    "with open('Variables/mappers/communes_names_map_TERRA.json', 'w') as outfile:\n",
    "    json.dump(names_map, outfile)"
   ]
  },
  {
   "cell_type": "markdown",
   "metadata": {},
   "source": [
    "### Map'em all"
   ]
  },
  {
   "cell_type": "code",
   "execution_count": 6,
   "metadata": {},
   "outputs": [],
   "source": [
    "with open('Variables/mappers/communes_names_map_TERRA.json') as infile:\n",
    "    names_map = json.load(infile)"
   ]
  },
  {
   "cell_type": "code",
   "execution_count": null,
   "metadata": {},
   "outputs": [],
   "source": [
    "communes = communes.assign(\n",
    "    commune_2018 = lambda frame: frame.commune_renewed.map(names_map)\n",
    ")\n",
    "\n",
    "final_commune_mapper =  dict(zip(communes['commune'], communes['commune_2018']))"
   ]
  },
  {
   "cell_type": "code",
   "execution_count": 23,
   "metadata": {},
   "outputs": [],
   "source": [
    "with open('Variables/mappers/communes_raw_to_2018_Terra.json', 'w') as outfile:\n",
    "    json.dump(final_commune_mapper, outfile)"
   ]
  },
  {
   "cell_type": "code",
   "execution_count": 8,
   "metadata": {},
   "outputs": [],
   "source": [
    "with open('Variables/mappers/communes_raw_to_2018_Terra.json') as infile:\n",
    "    final_commune_mapper = json.load(infile)"
   ]
  },
  {
   "cell_type": "markdown",
   "metadata": {},
   "source": [
    "## Statistics aggregation by communes"
   ]
  },
  {
   "cell_type": "markdown",
   "metadata": {},
   "source": [
    "### Create aggregation functions data"
   ]
  },
  {
   "cell_type": "code",
   "execution_count": 9,
   "metadata": {},
   "outputs": [],
   "source": [
    "dataframe = defaultdict(dict)\n",
    "for yearspan, database in databases.items():\n",
    "    dataframe[yearspan] = list(database)"
   ]
  },
  {
   "cell_type": "code",
   "execution_count": 34,
   "metadata": {},
   "outputs": [],
   "source": [
    "writer = pd.ExcelWriter('Variables/StatsComputationRules.xlsx')\n",
    "\n",
    "for yearspan, columns in dataframe.items():\n",
    "    pd.Series(columns).rename('columns').to_excel(writer, sheet_name = yearspan, index = None)\n",
    "    \n",
    "writer.save()"
   ]
  },
  {
   "cell_type": "code",
   "execution_count": 10,
   "metadata": {},
   "outputs": [],
   "source": [
    "aggregation_rules = pd.read_excel('Variables/StatsComputationRules.xlsx', sheet_name = None)\n",
    "\n",
    "def get_dict(df):\n",
    "    return df.dropna().set_index('columns').to_dict()['agg_func']\n",
    "\n",
    "aggregation_rules_map = {yearspan : get_dict(df) for yearspan, df in aggregation_rules.items()}"
   ]
  },
  {
   "cell_type": "code",
   "execution_count": 45,
   "metadata": {},
   "outputs": [],
   "source": [
    "with open('Variables/mappers/aggregation_rules.json', 'w') as outfile:\n",
    "    json.dump(aggregation_rules_map, outfile)"
   ]
  },
  {
   "cell_type": "code",
   "execution_count": 11,
   "metadata": {},
   "outputs": [],
   "source": [
    "with open('Variables/mappers/aggregation_rules.json') as infile:\n",
    "    aggregation_rules_map = json.load(infile)"
   ]
  },
  {
   "cell_type": "code",
   "execution_count": 12,
   "metadata": {},
   "outputs": [],
   "source": [
    "def aggregate(yearspan, database):\n",
    "    if yearspan in ['2009 - 2012', '2004 - 2008']:\n",
    "        agg_columns = ['year', 'commune_mapped']\n",
    "    else:\n",
    "        agg_columns = ['commune_mapped']\n",
    "    current_rules = aggregation_rules_map[yearspan]\n",
    "    db = database.assign(\n",
    "        commune_mapped = lambda frame: frame.geo_commune.str.strip().map(final_commune_mapper)\n",
    "    )[\n",
    "        list(current_rules.keys()) + agg_columns\n",
    "    ]\n",
    "    communes = db['commune_mapped'].copy()\n",
    "    \n",
    "    db = db.apply(lambda column: pd.to_numeric(column, errors = 'coerce'))\n",
    "    db['commune_mapped'] = communes\n",
    "    db = db.groupby(agg_columns).agg(current_rules)\n",
    "    return db"
   ]
  },
  {
   "cell_type": "code",
   "execution_count": 13,
   "metadata": {},
   "outputs": [],
   "source": [
    "aggregated_stats = defaultdict(dict)\n",
    "for yearspan, database in databases.items():\n",
    "    \n",
    "#     current_rules = aggregation_rules_map[yearspan]\n",
    "#     db = database.assign(\n",
    "#         commune_mapped = lambda frame: frame.geo_commune.str.strip().map(final_commune_mapper)\n",
    "#     )[\n",
    "#         list(current_rules.keys()) + ['commune_mapped']\n",
    "#     ]\n",
    "#     communes = db['commune_mapped'].copy()\n",
    "    \n",
    "#     db = db.apply(lambda column: pd.to_numeric(column, errors = 'coerce'))\n",
    "#     db['commune_mapped'] = communes\n",
    "#     db = db.groupby('commune_mapped').agg(current_rules)\n",
    "    \n",
    "    db = aggregate(yearspan, database)\n",
    "    aggregated_stats[yearspan] = db\n",
    "#     break"
   ]
  },
  {
   "cell_type": "code",
   "execution_count": 16,
   "metadata": {},
   "outputs": [],
   "source": [
    "writer = pd.ExcelWriter('reshaped_stats.xlsx')\n",
    "\n",
    "for yearspan, df in aggregated_stats.items():\n",
    "    df.to_excel(writer, sheet_name = yearspan)\n",
    "    \n",
    "writer.save()"
   ]
  },
  {
   "cell_type": "code",
   "execution_count": null,
   "metadata": {},
   "outputs": [],
   "source": []
  }
 ],
 "metadata": {
  "kernelspec": {
   "display_name": "Python 3",
   "language": "python",
   "name": "python3"
  },
  "language_info": {
   "codemirror_mode": {
    "name": "ipython",
    "version": 3
   },
   "file_extension": ".py",
   "mimetype": "text/x-python",
   "name": "python",
   "nbconvert_exporter": "python",
   "pygments_lexer": "ipython3",
   "version": "3.7.3"
  }
 },
 "nbformat": 4,
 "nbformat_minor": 2
}
