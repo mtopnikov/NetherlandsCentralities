{
 "cells": [
  {
   "cell_type": "code",
   "execution_count": 1,
   "metadata": {},
   "outputs": [],
   "source": [
    "import geopandas as gpd\n",
    "import pandas as pd\n",
    "import os\n",
    "from shapely.geometry import LineString, Point"
   ]
  },
  {
   "cell_type": "code",
   "execution_count": 2,
   "metadata": {},
   "outputs": [],
   "source": [
    "os.chdir('D:/bachelors/datasets/')"
   ]
  },
  {
   "cell_type": "code",
   "execution_count": 3,
   "metadata": {},
   "outputs": [],
   "source": [
    "graphs = [\n",
    "    pd.read_csv(\n",
    "        'analysis/yearly_graphs_v4/total/' + i\n",
    "    ) for i in os.listdir('analysis/yearly_graphs_v4/total/') if 'edges' in i and 'csv' in i\n",
    "]\n",
    "\n",
    "\n",
    "nodes = [\n",
    "    pd.read_csv(\n",
    "        'analysis/yearly_graphs_v4/total/' + i\n",
    "    ) for i in os.listdir('analysis/yearly_graphs_v4/total/') if 'nodes' in i and 'csv' in i\n",
    "]"
   ]
  },
  {
   "cell_type": "code",
   "execution_count": 4,
   "metadata": {},
   "outputs": [
    {
     "data": {
      "text/html": [
       "<div>\n",
       "<style scoped>\n",
       "    .dataframe tbody tr th:only-of-type {\n",
       "        vertical-align: middle;\n",
       "    }\n",
       "\n",
       "    .dataframe tbody tr th {\n",
       "        vertical-align: top;\n",
       "    }\n",
       "\n",
       "    .dataframe thead th {\n",
       "        text-align: right;\n",
       "    }\n",
       "</style>\n",
       "<table border=\"1\" class=\"dataframe\">\n",
       "  <thead>\n",
       "    <tr style=\"text-align: right;\">\n",
       "      <th></th>\n",
       "      <th>commune</th>\n",
       "      <th>flow_cent</th>\n",
       "      <th>flow_cent_weighted</th>\n",
       "      <th>lat</th>\n",
       "      <th>lon</th>\n",
       "    </tr>\n",
       "  </thead>\n",
       "  <tbody>\n",
       "    <tr>\n",
       "      <td>0</td>\n",
       "      <td>'s-Hertogenbosch</td>\n",
       "      <td>3613.827049</td>\n",
       "      <td>5927.624465</td>\n",
       "      <td>51.716578</td>\n",
       "      <td>5.354612</td>\n",
       "    </tr>\n",
       "    <tr>\n",
       "      <td>1</td>\n",
       "      <td>Aalburg</td>\n",
       "      <td>427.784161</td>\n",
       "      <td>1255.413914</td>\n",
       "      <td>51.745721</td>\n",
       "      <td>5.068460</td>\n",
       "    </tr>\n",
       "    <tr>\n",
       "      <td>2</td>\n",
       "      <td>Alkmaar</td>\n",
       "      <td>1658.776524</td>\n",
       "      <td>2484.944069</td>\n",
       "      <td>52.600515</td>\n",
       "      <td>4.804279</td>\n",
       "    </tr>\n",
       "    <tr>\n",
       "      <td>3</td>\n",
       "      <td>Almere</td>\n",
       "      <td>2943.174698</td>\n",
       "      <td>5051.166692</td>\n",
       "      <td>52.366282</td>\n",
       "      <td>5.249946</td>\n",
       "    </tr>\n",
       "    <tr>\n",
       "      <td>4</td>\n",
       "      <td>Amersfoort</td>\n",
       "      <td>2809.391779</td>\n",
       "      <td>4822.651704</td>\n",
       "      <td>52.173152</td>\n",
       "      <td>5.388570</td>\n",
       "    </tr>\n",
       "    <tr>\n",
       "      <td>...</td>\n",
       "      <td>...</td>\n",
       "      <td>...</td>\n",
       "      <td>...</td>\n",
       "      <td>...</td>\n",
       "      <td>...</td>\n",
       "    </tr>\n",
       "    <tr>\n",
       "      <td>374</td>\n",
       "      <td>Ommen</td>\n",
       "      <td>347.854964</td>\n",
       "      <td>734.611838</td>\n",
       "      <td>52.515771</td>\n",
       "      <td>6.442287</td>\n",
       "    </tr>\n",
       "    <tr>\n",
       "      <td>375</td>\n",
       "      <td>Olst-Wijhe</td>\n",
       "      <td>403.777764</td>\n",
       "      <td>814.046731</td>\n",
       "      <td>52.366562</td>\n",
       "      <td>6.159955</td>\n",
       "    </tr>\n",
       "    <tr>\n",
       "      <td>376</td>\n",
       "      <td>Roerdalen</td>\n",
       "      <td>310.453735</td>\n",
       "      <td>444.555228</td>\n",
       "      <td>51.146364</td>\n",
       "      <td>6.044111</td>\n",
       "    </tr>\n",
       "    <tr>\n",
       "      <td>377</td>\n",
       "      <td>Eijsden-Margraten</td>\n",
       "      <td>575.186315</td>\n",
       "      <td>589.939585</td>\n",
       "      <td>50.802984</td>\n",
       "      <td>5.782201</td>\n",
       "    </tr>\n",
       "    <tr>\n",
       "      <td>378</td>\n",
       "      <td>Gulpen-Wittem</td>\n",
       "      <td>394.800012</td>\n",
       "      <td>480.432417</td>\n",
       "      <td>50.803984</td>\n",
       "      <td>5.906796</td>\n",
       "    </tr>\n",
       "  </tbody>\n",
       "</table>\n",
       "<p>379 rows × 5 columns</p>\n",
       "</div>"
      ],
      "text/plain": [
       "               commune    flow_cent  flow_cent_weighted        lat       lon\n",
       "0     's-Hertogenbosch  3613.827049         5927.624465  51.716578  5.354612\n",
       "1              Aalburg   427.784161         1255.413914  51.745721  5.068460\n",
       "2              Alkmaar  1658.776524         2484.944069  52.600515  4.804279\n",
       "3               Almere  2943.174698         5051.166692  52.366282  5.249946\n",
       "4           Amersfoort  2809.391779         4822.651704  52.173152  5.388570\n",
       "..                 ...          ...                 ...        ...       ...\n",
       "374              Ommen   347.854964          734.611838  52.515771  6.442287\n",
       "375         Olst-Wijhe   403.777764          814.046731  52.366562  6.159955\n",
       "376          Roerdalen   310.453735          444.555228  51.146364  6.044111\n",
       "377  Eijsden-Margraten   575.186315          589.939585  50.802984  5.782201\n",
       "378      Gulpen-Wittem   394.800012          480.432417  50.803984  5.906796\n",
       "\n",
       "[379 rows x 5 columns]"
      ]
     },
     "execution_count": 4,
     "metadata": {},
     "output_type": "execute_result"
    }
   ],
   "source": [
    "nodes[0]"
   ]
  },
  {
   "cell_type": "code",
   "execution_count": 5,
   "metadata": {},
   "outputs": [],
   "source": [
    "import json\n",
    "with open('Variables/mappers/coordinates_map_final.json') as infile:\n",
    "    coordinates_map = json.load(infile)"
   ]
  },
  {
   "cell_type": "code",
   "execution_count": 6,
   "metadata": {},
   "outputs": [],
   "source": [
    "def get_geoLines(edge_list):\n",
    "    return gpd.GeoDataFrame(\n",
    "        edge_list,\n",
    "        geometry = [\n",
    "            LineString([(lon_start, lat_start),\n",
    "                       (lon_finish, lat_finish)]) for lat_start, lon_start, lat_finish, lon_finish in zip(edge_list.lat_start,\n",
    "                                                                                       edge_list.lon_start,\n",
    "                                                                                       edge_list.lat_finish,\n",
    "                                                                                       edge_list.lon_finish)],\n",
    "        crs = {'init' : 'epsg:4326'}\n",
    "    )\n",
    "\n",
    "\n",
    "def get_geoPoints(node_list):\n",
    "    return gpd.GeoDataFrame(\n",
    "        node_list,\n",
    "        geometry = [Point(xy) for xy in zip(node_list.lon, node_list.lat)],\n",
    "        crs = {'init' : 'epsg:4326'}\n",
    "    )"
   ]
  },
  {
   "cell_type": "code",
   "execution_count": 7,
   "metadata": {},
   "outputs": [],
   "source": [
    "graph_dev = get_geoLines(\n",
    "    pd.concat(graphs).groupby(['local_1', 'local_2'])['flow'].std().reset_index().dropna().assign(\n",
    "        lat_start = lambda frame: frame.local_1.map(coordinates_map).str['lat'],\n",
    "        lon_start = lambda frame: frame.local_1.map(coordinates_map).str['lon'],\n",
    "        lat_finish = lambda frame: frame.local_2.map(coordinates_map).str['lat'],\n",
    "        lon_finish = lambda frame: frame.local_2.map(coordinates_map).str['lon']\n",
    "    )\n",
    ")\n",
    "\n",
    "node_dev = get_geoPoints(\n",
    "    pd.concat(nodes).groupby('commune')['flow_cent'].std().reset_index().dropna().assign(\n",
    "        lat = lambda frame: frame.commune.map(coordinates_map).str['lat'],\n",
    "        lon = lambda frame: frame.commune.map(coordinates_map).str['lon']\n",
    "    )\n",
    ")"
   ]
  },
  {
   "cell_type": "code",
   "execution_count": 8,
   "metadata": {},
   "outputs": [],
   "source": [
    "import numpy as np"
   ]
  },
  {
   "cell_type": "code",
   "execution_count": 9,
   "metadata": {},
   "outputs": [],
   "source": [
    "graph_dev = get_geoLines(\n",
    "    pd.concat(graphs).groupby(['local_1', 'local_2'])['flow'].agg(\n",
    "        lambda x: np.mean(abs(x - x.mean())/ x.mean())\n",
    "    ).reset_index().dropna().assign(\n",
    "        lat_start = lambda frame: frame.local_1.map(coordinates_map).str['lat'],\n",
    "        lon_start = lambda frame: frame.local_1.map(coordinates_map).str['lon'],\n",
    "        lat_finish = lambda frame: frame.local_2.map(coordinates_map).str['lat'],\n",
    "        lon_finish = lambda frame: frame.local_2.map(coordinates_map).str['lon']\n",
    "    )\n",
    ")\n",
    "\n",
    "node_dev = get_geoPoints(\n",
    "    pd.concat(nodes).groupby('commune')['flow_cent'].agg(\n",
    "        lambda x: np.mean(abs(x - x.mean())/ x.mean())\n",
    "    ).reset_index().dropna().assign(\n",
    "        lat = lambda frame: frame.commune.map(coordinates_map).str['lat'],\n",
    "        lon = lambda frame: frame.commune.map(coordinates_map).str['lon']\n",
    "    )\n",
    ")"
   ]
  },
  {
   "cell_type": "code",
   "execution_count": 10,
   "metadata": {},
   "outputs": [
    {
     "ename": "CPLE_AppDefinedError",
     "evalue": "b'sqlite3_exec(CREATE VIRTUAL TABLE \"rtree_link_deviation_geom\" USING rtree(id, minx, maxx, miny, maxy)) failed: no such module: rtree'",
     "output_type": "error",
     "traceback": [
      "\u001b[1;31m---------------------------------------------------------------------------\u001b[0m",
      "\u001b[1;31mCPLE_AppDefinedError\u001b[0m                      Traceback (most recent call last)",
      "\u001b[1;32mfiona/_err.pyx\u001b[0m in \u001b[0;36mfiona._err.GDALErrCtxManager.__exit__\u001b[1;34m()\u001b[0m\n",
      "\u001b[1;31mCPLE_AppDefinedError\u001b[0m: b'sqlite3_exec(CREATE VIRTUAL TABLE \"rtree_link_deviation_geom\" USING rtree(id, minx, maxx, miny, maxy)) failed: no such module: rtree'"
     ]
    },
    {
     "name": "stderr",
     "output_type": "stream",
     "text": [
      "Exception ignored in: 'fiona._shim.gdal_flush_cache'\n",
      "Traceback (most recent call last):\n",
      "  File \"fiona/_err.pyx\", line 201, in fiona._err.GDALErrCtxManager.__exit__\n",
      "fiona._err.CPLE_AppDefinedError: b'sqlite3_exec(CREATE VIRTUAL TABLE \"rtree_link_deviation_geom\" USING rtree(id, minx, maxx, miny, maxy)) failed: no such module: rtree'\n"
     ]
    },
    {
     "ename": "CPLE_AppDefinedError",
     "evalue": "b'sqlite3_exec(CREATE VIRTUAL TABLE \"rtree_node_deviation_geom\" USING rtree(id, minx, maxx, miny, maxy)) failed: no such module: rtree'",
     "output_type": "error",
     "traceback": [
      "\u001b[1;31m---------------------------------------------------------------------------\u001b[0m",
      "\u001b[1;31mCPLE_AppDefinedError\u001b[0m                      Traceback (most recent call last)",
      "\u001b[1;32mfiona/_err.pyx\u001b[0m in \u001b[0;36mfiona._err.GDALErrCtxManager.__exit__\u001b[1;34m()\u001b[0m\n",
      "\u001b[1;31mCPLE_AppDefinedError\u001b[0m: b'sqlite3_exec(CREATE VIRTUAL TABLE \"rtree_node_deviation_geom\" USING rtree(id, minx, maxx, miny, maxy)) failed: no such module: rtree'"
     ]
    },
    {
     "name": "stderr",
     "output_type": "stream",
     "text": [
      "Exception ignored in: 'fiona._shim.gdal_flush_cache'\n",
      "Traceback (most recent call last):\n",
      "  File \"fiona/_err.pyx\", line 201, in fiona._err.GDALErrCtxManager.__exit__\n",
      "fiona._err.CPLE_AppDefinedError: b'sqlite3_exec(CREATE VIRTUAL TABLE \"rtree_node_deviation_geom\" USING rtree(id, minx, maxx, miny, maxy)) failed: no such module: rtree'\n"
     ]
    }
   ],
   "source": [
    "graph_dev.to_file('analysis/link_deviation.gpkg', driver = 'GPKG')\n",
    "node_dev.to_file('analysis/node_deviation.gpkg', driver = 'GPKG')"
   ]
  },
  {
   "cell_type": "code",
   "execution_count": 20,
   "metadata": {},
   "outputs": [
    {
     "data": {
      "text/plain": [
       "<matplotlib.axes._subplots.AxesSubplot at 0x1a83a9c91c8>"
      ]
     },
     "execution_count": 20,
     "metadata": {},
     "output_type": "execute_result"
    },
    {
     "data": {
      "image/png": "[encoded data removed]",
      "text/plain": [
       "<Figure size 432x288 with 1 Axes>"
      ]
     },
     "metadata": {
      "needs_background": "light"
     },
     "output_type": "display_data"
    }
   ],
   "source": [
    "communes = gpd.read_file('../qgis/base/Netherlands_communes.gpkg')\n",
    "communes.plot()"
   ]
  },
  {
   "cell_type": "code",
   "execution_count": 22,
   "metadata": {},
   "outputs": [
    {
     "data": {
      "text/html": [
       "<div>\n",
       "<style scoped>\n",
       "    .dataframe tbody tr th:only-of-type {\n",
       "        vertical-align: middle;\n",
       "    }\n",
       "\n",
       "    .dataframe tbody tr th {\n",
       "        vertical-align: top;\n",
       "    }\n",
       "\n",
       "    .dataframe thead th {\n",
       "        text-align: right;\n",
       "    }\n",
       "</style>\n",
       "<table border=\"1\" class=\"dataframe\">\n",
       "  <thead>\n",
       "    <tr style=\"text-align: right;\">\n",
       "      <th></th>\n",
       "      <th>commune</th>\n",
       "      <th>flow_cent</th>\n",
       "      <th>lat</th>\n",
       "      <th>lon</th>\n",
       "      <th>geometry</th>\n",
       "    </tr>\n",
       "  </thead>\n",
       "  <tbody>\n",
       "    <tr>\n",
       "      <td>0</td>\n",
       "      <td>'s-Hertogenbosch</td>\n",
       "      <td>0.121914</td>\n",
       "      <td>51.716578</td>\n",
       "      <td>5.354612</td>\n",
       "      <td>POINT (5.35461 51.71658)</td>\n",
       "    </tr>\n",
       "    <tr>\n",
       "      <td>1</td>\n",
       "      <td>Aa en Hunze</td>\n",
       "      <td>0.219305</td>\n",
       "      <td>52.992338</td>\n",
       "      <td>6.735571</td>\n",
       "      <td>POINT (6.73557 52.99234)</td>\n",
       "    </tr>\n",
       "    <tr>\n",
       "      <td>2</td>\n",
       "      <td>Aalburg</td>\n",
       "      <td>0.208823</td>\n",
       "      <td>51.745721</td>\n",
       "      <td>5.068460</td>\n",
       "      <td>POINT (5.06846 51.74572)</td>\n",
       "    </tr>\n",
       "    <tr>\n",
       "      <td>3</td>\n",
       "      <td>Aalsmeer</td>\n",
       "      <td>0.146056</td>\n",
       "      <td>52.256592</td>\n",
       "      <td>4.756445</td>\n",
       "      <td>POINT (4.75644 52.25659)</td>\n",
       "    </tr>\n",
       "    <tr>\n",
       "      <td>4</td>\n",
       "      <td>Aalten</td>\n",
       "      <td>0.150606</td>\n",
       "      <td>51.923426</td>\n",
       "      <td>6.569697</td>\n",
       "      <td>POINT (6.56970 51.92343)</td>\n",
       "    </tr>\n",
       "    <tr>\n",
       "      <td>...</td>\n",
       "      <td>...</td>\n",
       "      <td>...</td>\n",
       "      <td>...</td>\n",
       "      <td>...</td>\n",
       "      <td>...</td>\n",
       "    </tr>\n",
       "    <tr>\n",
       "      <td>374</td>\n",
       "      <td>Zundert</td>\n",
       "      <td>0.253123</td>\n",
       "      <td>51.478423</td>\n",
       "      <td>4.644465</td>\n",
       "      <td>POINT (4.64446 51.47842)</td>\n",
       "    </tr>\n",
       "    <tr>\n",
       "      <td>375</td>\n",
       "      <td>Zutphen</td>\n",
       "      <td>0.121893</td>\n",
       "      <td>52.136103</td>\n",
       "      <td>6.241262</td>\n",
       "      <td>POINT (6.24126 52.13610)</td>\n",
       "    </tr>\n",
       "    <tr>\n",
       "      <td>376</td>\n",
       "      <td>Zwartewaterland</td>\n",
       "      <td>0.197611</td>\n",
       "      <td>52.601674</td>\n",
       "      <td>6.070748</td>\n",
       "      <td>POINT (6.07075 52.60167)</td>\n",
       "    </tr>\n",
       "    <tr>\n",
       "      <td>377</td>\n",
       "      <td>Zwijndrecht</td>\n",
       "      <td>0.095814</td>\n",
       "      <td>51.821506</td>\n",
       "      <td>4.606817</td>\n",
       "      <td>POINT (4.60682 51.82151)</td>\n",
       "    </tr>\n",
       "    <tr>\n",
       "      <td>378</td>\n",
       "      <td>Zwolle</td>\n",
       "      <td>0.121379</td>\n",
       "      <td>52.518026</td>\n",
       "      <td>6.124732</td>\n",
       "      <td>POINT (6.12473 52.51803)</td>\n",
       "    </tr>\n",
       "  </tbody>\n",
       "</table>\n",
       "<p>379 rows × 5 columns</p>\n",
       "</div>"
      ],
      "text/plain": [
       "              commune  flow_cent        lat       lon  \\\n",
       "0    's-Hertogenbosch   0.121914  51.716578  5.354612   \n",
       "1         Aa en Hunze   0.219305  52.992338  6.735571   \n",
       "2             Aalburg   0.208823  51.745721  5.068460   \n",
       "3            Aalsmeer   0.146056  52.256592  4.756445   \n",
       "4              Aalten   0.150606  51.923426  6.569697   \n",
       "..                ...        ...        ...       ...   \n",
       "374           Zundert   0.253123  51.478423  4.644465   \n",
       "375           Zutphen   0.121893  52.136103  6.241262   \n",
       "376   Zwartewaterland   0.197611  52.601674  6.070748   \n",
       "377       Zwijndrecht   0.095814  51.821506  4.606817   \n",
       "378            Zwolle   0.121379  52.518026  6.124732   \n",
       "\n",
       "                     geometry  \n",
       "0    POINT (5.35461 51.71658)  \n",
       "1    POINT (6.73557 52.99234)  \n",
       "2    POINT (5.06846 51.74572)  \n",
       "3    POINT (4.75644 52.25659)  \n",
       "4    POINT (6.56970 51.92343)  \n",
       "..                        ...  \n",
       "374  POINT (4.64446 51.47842)  \n",
       "375  POINT (6.24126 52.13610)  \n",
       "376  POINT (6.07075 52.60167)  \n",
       "377  POINT (4.60682 51.82151)  \n",
       "378  POINT (6.12473 52.51803)  \n",
       "\n",
       "[379 rows x 5 columns]"
      ]
     },
     "execution_count": 22,
     "metadata": {},
     "output_type": "execute_result"
    }
   ],
   "source": [
    "node_dev"
   ]
  },
  {
   "cell_type": "code",
   "execution_count": 23,
   "metadata": {},
   "outputs": [],
   "source": [
    "communes = communes.merge(node_dev[['commune', 'flow_cent']].rename(\n",
    "    columns = {'commune' : 'NAME'}\n",
    "), on = 'NAME', how = 'left')"
   ]
  },
  {
   "cell_type": "code",
   "execution_count": 53,
   "metadata": {},
   "outputs": [],
   "source": [
    "Heerenveen = pd.read_csv('analysis/heerenveen.csv')['flow_cent'].mean()"
   ]
  },
  {
   "cell_type": "code",
   "execution_count": 54,
   "metadata": {},
   "outputs": [
    {
     "data": {
      "text/plain": [
       "0.14993312268709594"
      ]
     },
     "execution_count": 54,
     "metadata": {},
     "output_type": "execute_result"
    }
   ],
   "source": [
    "Heerenveen"
   ]
  },
  {
   "cell_type": "code",
   "execution_count": 49,
   "metadata": {},
   "outputs": [
    {
     "data": {
      "text/html": [
       "<div>\n",
       "<style scoped>\n",
       "    .dataframe tbody tr th:only-of-type {\n",
       "        vertical-align: middle;\n",
       "    }\n",
       "\n",
       "    .dataframe tbody tr th {\n",
       "        vertical-align: top;\n",
       "    }\n",
       "\n",
       "    .dataframe thead th {\n",
       "        text-align: right;\n",
       "    }\n",
       "</style>\n",
       "<table border=\"1\" class=\"dataframe\">\n",
       "  <thead>\n",
       "    <tr style=\"text-align: right;\">\n",
       "      <th></th>\n",
       "      <th>minx</th>\n",
       "      <th>miny</th>\n",
       "      <th>maxx</th>\n",
       "      <th>maxy</th>\n",
       "    </tr>\n",
       "  </thead>\n",
       "  <tbody>\n",
       "    <tr>\n",
       "      <td>358</td>\n",
       "      <td>5.797224</td>\n",
       "      <td>52.910395</td>\n",
       "      <td>6.211687</td>\n",
       "      <td>53.080752</td>\n",
       "    </tr>\n",
       "  </tbody>\n",
       "</table>\n",
       "</div>"
      ],
      "text/plain": [
       "         minx       miny      maxx       maxy\n",
       "358  5.797224  52.910395  6.211687  53.080752"
      ]
     },
     "execution_count": 49,
     "metadata": {},
     "output_type": "execute_result"
    }
   ],
   "source": [
    "Heerenveen.geometry.bounds"
   ]
  },
  {
   "cell_type": "code",
   "execution_count": 56,
   "metadata": {},
   "outputs": [],
   "source": [
    "communes.loc[communes.NAME == 'Heerenveen', 'flow_cent'] = Heerenveen"
   ]
  },
  {
   "cell_type": "code",
   "execution_count": 57,
   "metadata": {},
   "outputs": [
    {
     "ename": "CPLE_AppDefinedError",
     "evalue": "b'sqlite3_exec(CREATE VIRTUAL TABLE \"rtree_communes_deviation_geom\" USING rtree(id, minx, maxx, miny, maxy)) failed: no such module: rtree'",
     "output_type": "error",
     "traceback": [
      "\u001b[1;31m---------------------------------------------------------------------------\u001b[0m",
      "\u001b[1;31mCPLE_AppDefinedError\u001b[0m                      Traceback (most recent call last)",
      "\u001b[1;32mfiona/_err.pyx\u001b[0m in \u001b[0;36mfiona._err.GDALErrCtxManager.__exit__\u001b[1;34m()\u001b[0m\n",
      "\u001b[1;31mCPLE_AppDefinedError\u001b[0m: b'sqlite3_exec(CREATE VIRTUAL TABLE \"rtree_communes_deviation_geom\" USING rtree(id, minx, maxx, miny, maxy)) failed: no such module: rtree'"
     ]
    },
    {
     "name": "stderr",
     "output_type": "stream",
     "text": [
      "Exception ignored in: 'fiona._shim.gdal_flush_cache'\n",
      "Traceback (most recent call last):\n",
      "  File \"fiona/_err.pyx\", line 201, in fiona._err.GDALErrCtxManager.__exit__\n",
      "fiona._err.CPLE_AppDefinedError: b'sqlite3_exec(CREATE VIRTUAL TABLE \"rtree_communes_deviation_geom\" USING rtree(id, minx, maxx, miny, maxy)) failed: no such module: rtree'\n"
     ]
    }
   ],
   "source": [
    "communes.to_file('analysis/communes_deviation.gpkg', driver = 'GPKG')"
   ]
  },
  {
   "cell_type": "code",
   "execution_count": null,
   "metadata": {},
   "outputs": [],
   "source": []
  }
 ],
 "metadata": {
  "kernelspec": {
   "display_name": "Python 3",
   "language": "python",
   "name": "python3"
  },
  "language_info": {
   "codemirror_mode": {
    "name": "ipython",
    "version": 3
   },
   "file_extension": ".py",
   "mimetype": "text/x-python",
   "name": "python",
   "nbconvert_exporter": "python",
   "pygments_lexer": "ipython3",
   "version": "3.7.4"
  }
 },
 "nbformat": 4,
 "nbformat_minor": 2
}
