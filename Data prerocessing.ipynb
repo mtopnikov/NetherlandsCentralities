{
 "cells": [
  {
   "cell_type": "markdown",
   "metadata": {},
   "source": [
    "# Data Mining and Preprocessing"
   ]
  },
  {
   "cell_type": "markdown",
   "metadata": {},
   "source": [
    "## Данные опросов населения Нидерландов о мобильности"
   ]
  },
  {
   "cell_type": "markdown",
   "metadata": {},
   "source": [
    "Данные опросов населения Нидерландов изначально представлены в формате данных SPSS и являются результатами двух социологических исследований -- MON и OViN. При этом исследование OViN является достаточно стабильным по структуре и набору переменных, в то время как MON является переходной формой исследования от OVD (1985-2003) к OViN (2009 - н.в.)\n",
    "Исходя из изменчивости структуры, а также необходимости перевода нидерландскоязычных данных на русский язык проводилась предварительная подготовка данных. Она залючалась в:\n",
    "\n",
    "- переводе нидерландскоязычных названий переменных в удобный для последующей обработки вид\n",
    "- присвоении текстовых значений на русском языке категориальным переменным, кодированным целыми числами в таблице\n",
    "- приведении имен колонок данных MON и OVIN в единый вид"
   ]
  },
  {
   "cell_type": "markdown",
   "metadata": {},
   "source": [
    "### Импорт данных и библиотек"
   ]
  },
  {
   "cell_type": "code",
   "execution_count": 1,
   "metadata": {},
   "outputs": [],
   "source": [
    "import pandas as pd\n",
    "from pyreadstat import pyreadstat\n",
    "from collections import defaultdict, OrderedDict\n",
    "import os\n",
    "from tqdm import tqdm\n",
    "import json\n",
    "import re\n",
    "import geopandas as gpd\n",
    "from shapely.geometry import Point\n",
    "import requests"
   ]
  },
  {
   "cell_type": "code",
   "execution_count": 2,
   "metadata": {},
   "outputs": [],
   "source": [
    "os.chdir('D:/bachelors/datasets/')"
   ]
  },
  {
   "cell_type": "code",
   "execution_count": 17,
   "metadata": {},
   "outputs": [],
   "source": [
    "df.rename(columns = mapper_columns).to_excel('D:/bachelors/data_venes_renamed_columns.xlsx')"
   ]
  },
  {
   "cell_type": "code",
   "execution_count": 3,
   "metadata": {},
   "outputs": [],
   "source": [
    "path_MON = 'D:/bachelors/datasets/MobNed_dat/'\n",
    "path_OViN = 'D:/bachelors/datasets/OViN_dat/'\n",
    "# path_OViN = 'D:/bachelors/datasets/ODiN_dat/'\n",
    "\n",
    "l_dir_MON = os.listdir(path_MON)\n",
    "l_dir_OViN = os.listdir(path_OViN)\n",
    "\n",
    "\n",
    "iterator = {\n",
    "    'MON' : {'path' : path_MON,\n",
    "             'list_dir' : l_dir_MON},\n",
    "    'OViN' : {'path' : path_OViN,\n",
    "              'list_dir' : l_dir_OViN}\n",
    "}"
   ]
  },
  {
   "cell_type": "markdown",
   "metadata": {},
   "source": [
    "### Выгрузка метаданных из таблиц SPSS для последющего перевода и отбора значений"
   ]
  },
  {
   "cell_type": "code",
   "execution_count": 4,
   "metadata": {},
   "outputs": [],
   "source": [
    "def get_variables(meta, variables):\n",
    "    \"\"\"\n",
    "    returns metadataframe extracted from MON or OViN data\n",
    "    \"\"\"\n",
    "    current_meta = pd.DataFrame({\n",
    "        'variable' : meta.column_names,\n",
    "        'description' : meta.column_labels\n",
    "    }).assign(\n",
    "        variable = lambda x: x['variable'].str.lower(),\n",
    "        description = lambda x: x['description'].str.lower()\n",
    "    )\n",
    "    current_meta = current_meta[~current_meta.variable.isin(variables.variable)]\n",
    "    print(len(current_meta))\n",
    "    \n",
    "    return current_meta"
   ]
  },
  {
   "cell_type": "code",
   "execution_count": 5,
   "metadata": {},
   "outputs": [],
   "source": [
    "def get_values(variables_dict):\n",
    "    \"\"\"\n",
    "    returns values labels in dutch language to use in further translation\n",
    "    \"\"\"\n",
    "    values = pd.DataFrame()\n",
    "    for var in tqdm(variables_dict):\n",
    "        current_var_map = variables_dict[var]\n",
    "        values = values.append(pd.DataFrame({\n",
    "            'variable' : [var for i in current_var_map.keys()],\n",
    "            'values' : list(current_var_map.keys()),\n",
    "            'meaning' : list(current_var_map.values())\n",
    "       }))\n",
    "        values['variable'] = values.variable.str.lower()\n",
    "        \n",
    "    return values"
   ]
  },
  {
   "cell_type": "code",
   "execution_count": null,
   "metadata": {},
   "outputs": [],
   "source": [
    "variables_table = OrderedDict()\n",
    "for data in iterator:\n",
    "    variables_values = OrderedDict()\n",
    "    l_dir = iterator[data]['list_dir']\n",
    "    root_path = iterator[data]['path']\n",
    "    variables = pd.DataFrame(columns = ['variable', 'description'])\n",
    "    \n",
    "    for l in tqdm(l_dir):\n",
    "        meta = pyreadstat.read_sav(root_path + l)[1]\n",
    "        variables = variables.append(get_variables(meta, variables))\n",
    "        \n",
    "        variables_values[l.split('.')[0]] = get_values(meta.variable_value_labels)\n",
    "        \n",
    "    variables_table[data] = variables\n",
    "    \n",
    "    writer = pd.ExcelWriter(f'D:/bachelors/datasets/Variables/{data}_labels.xlsx')\n",
    "    for sheet in variables_values:\n",
    "        variables_values[sheet].to_excel(writer, sheet_name = sheet, index = False)\n",
    "    writer.save()\n",
    "    \n",
    "    \n",
    "writer = pd.ExcelWriter('D:/bachelors/datasets/Variables/variables_descriptions.xlsx')\n",
    "for sheet in variables_table:\n",
    "    variables_table[sheet].to_excel(writer, sheet_name = sheet, index = False)\n",
    "writer.save()"
   ]
  },
  {
   "cell_type": "markdown",
   "metadata": {},
   "source": [
    "### Создание словарей для переименования и отбора колонок"
   ]
  },
  {
   "cell_type": "markdown",
   "metadata": {},
   "source": [
    "Экспортированные в результате получения метаданных преобразовывались и переводились, в результате чего названия колонок были переведены английский язык для удобства испоользования. После этого началось создание словарей, которые использовались для перевода колонок"
   ]
  },
  {
   "cell_type": "code",
   "execution_count": 7,
   "metadata": {},
   "outputs": [],
   "source": [
    "variables_MON = pd.read_excel(r\"Variables\\variables descriptions_edited.xlsx\", sheet_name = 'MON').dropna()\n",
    "variables_OViN = pd.read_excel(r\"Variables\\variables descriptions_edited.xlsx\", sheet_name = 'OViN').dropna()\n",
    "# variables_ODiN = pd.read_excel(r\"Variables\\variables descriptions_edited.xlsx\", sheet_name = 'ODiN').dropna()"
   ]
  },
  {
   "cell_type": "code",
   "execution_count": 9,
   "metadata": {},
   "outputs": [],
   "source": [
    "columns_mapper = {\n",
    "    'MON' : dict(zip(variables_MON.variable, variables_MON.eng_name)),\n",
    "    'OViN' : dict(zip(variables_OViN.variable, variables_OViN.eng_name))\n",
    "#     'ODiN' : dict(zip(variables_ODiN.variable, variables_ODiN.eng_name))  \n",
    "}\n",
    "\n",
    "with open('D:/bachelors/datasets/Variables/mappers/columns_mappers.json', 'w') as outfile:\n",
    "    json.dump(columns_mapper, outfile)"
   ]
  },
  {
   "cell_type": "code",
   "execution_count": 17,
   "metadata": {},
   "outputs": [],
   "source": [
    "# if `columns_mapper` is not loaded\n",
    "with open ('Variables/mappers/columns_mappers.json') as infile:\n",
    "    columns_mapper = json.load(infile)"
   ]
  },
  {
   "cell_type": "code",
   "execution_count": 34,
   "metadata": {},
   "outputs": [],
   "source": [
    "df, meta = pyreadstat.read_sav('OViN_dat/OViN2014_Databestand.sav')\n",
    "df.columns = [i.lower() for i in df.columns]\n",
    "df = df.drop(columns = list(set(df.columns).difference(columns_mapper['OViN'].keys())))\n",
    "df = df.rename(columns = columns_mapper['OViN'])"
   ]
  },
  {
   "cell_type": "code",
   "execution_count": 147,
   "metadata": {},
   "outputs": [],
   "source": [
    "def filter_values(values_dict, database_source):\n",
    "    \"\"\"\n",
    "    Selects required columns and maps them with convinient to use names\n",
    "    \"\"\"\n",
    "    new_values = OrderedDict()\n",
    "    for sheet in values_dict:\n",
    "        print(sheet)\n",
    "        current_labels = values_dict[sheet]\n",
    "        new_values[sheet] = current_labels[\n",
    "            current_labels.variable.isin(\n",
    "                columns_mapper[database_source].keys()\n",
    "            )\n",
    "        ].assign(\n",
    "            variable = lambda x: x['variable'].map(columns_mapper[database_source])\n",
    "        )\n",
    "        \n",
    "    return new_values"
   ]
  },
  {
   "cell_type": "code",
   "execution_count": 148,
   "metadata": {},
   "outputs": [
    {
     "name": "stdout",
     "output_type": "stream",
     "text": [
      "Databestand MON 2004\n",
      "Databestand MON 2005\n",
      "Databestand MON 2006\n",
      "Databestand MON 2007\n",
      "Databestand MON 2008\n",
      "Databestand MON 2009\n",
      "OViN2010_Databestand\n",
      "OViN2011_Databestand_revisie\n",
      "OViN2012_Databestand_revisie\n",
      "OViN2013_Databestand\n",
      "OViN2014_Databestand\n",
      "OViN2015_Databestand\n",
      "OViN2016_Databestand\n",
      "OViN2017_Databestand\n"
     ]
    }
   ],
   "source": [
    "values_MON_filtered = filter_values(\n",
    "    pd.read_excel('Variables/MON_labels.xlsx', sheet_name = None),\n",
    "    'MON'\n",
    ")\n",
    "\n",
    "values_OViN_filtered = filter_values(\n",
    "    pd.read_excel('Variables/OViN_labels.xlsx', sheet_name = None),\n",
    "    'OViN'\n",
    ")\n",
    "\n",
    "values_ODiN_filtered = filter_values(\n",
    "    pd.read_excel('Variables/ODiN_labels.xlsx', sheet_name = None),\n",
    "    'ODiN'\n",
    ")"
   ]
  },
  {
   "cell_type": "code",
   "execution_count": 13,
   "metadata": {},
   "outputs": [],
   "source": [
    "def write_excel_multi(odict, path):\n",
    "    \"\"\"\n",
    "    Writes an ordered dictionary of dataframes to the multipage excel spreadsheet\n",
    "    \"\"\"\n",
    "    writer = pd.ExcelWriter(path)\n",
    "    for sheet in odict:\n",
    "        odict[sheet].to_excel(writer, sheet_name = sheet, index = False)\n",
    "    writer.save()"
   ]
  },
  {
   "cell_type": "code",
   "execution_count": 14,
   "metadata": {},
   "outputs": [],
   "source": [
    "write_excel_multi(values_MON_filtered, 'Variables/MON_Variables_values_v2.xlsx')\n",
    "write_excel_multi(values_OViN_filtered, 'Variables/OViN_Variables_values_v2.xlsx')\n",
    "write_excel_multi(values_OViN_filtered, 'Variables/ODiN_Variables_values_v2.xlsx')"
   ]
  },
  {
   "cell_type": "markdown",
   "metadata": {},
   "source": [
    "## Словари для переименования значений переменных"
   ]
  },
  {
   "cell_type": "code",
   "execution_count": 10,
   "metadata": {},
   "outputs": [],
   "source": [
    "MON_values_map = pd.read_excel('Variables/mappers/MON_Variables_values_to_mappers_v2.xlsx', sheet_name = None)\n",
    "OViN_values_map = pd.read_excel('Variables/mappers/OViN_Variables_values_to_mappers_v2.xlsx', sheet_name = None)\n",
    "# ODiN_values_map = pd.read_excel('Variables/mappers/ODiN_Variables_values_to_mappers_v2.xlsx', sheet_name = None)"
   ]
  },
  {
   "cell_type": "code",
   "execution_count": 22,
   "metadata": {},
   "outputs": [
    {
     "data": {
      "text/html": [
       "<div>\n",
       "<style scoped>\n",
       "    .dataframe tbody tr th:only-of-type {\n",
       "        vertical-align: middle;\n",
       "    }\n",
       "\n",
       "    .dataframe tbody tr th {\n",
       "        vertical-align: top;\n",
       "    }\n",
       "\n",
       "    .dataframe thead th {\n",
       "        text-align: right;\n",
       "    }\n",
       "</style>\n",
       "<table border=\"1\" class=\"dataframe\">\n",
       "  <thead>\n",
       "    <tr style=\"text-align: right;\">\n",
       "      <th></th>\n",
       "      <th>variable</th>\n",
       "      <th>values</th>\n",
       "      <th>meaning</th>\n",
       "      <th>mapped</th>\n",
       "    </tr>\n",
       "  </thead>\n",
       "  <tbody>\n",
       "    <tr>\n",
       "      <th>1199</th>\n",
       "      <td>geo_arrival</td>\n",
       "      <td>0</td>\n",
       "      <td>Aankomstpunt in buitenland</td>\n",
       "      <td>NaN</td>\n",
       "    </tr>\n",
       "    <tr>\n",
       "      <th>1200</th>\n",
       "      <td>geo_arrival</td>\n",
       "      <td>3</td>\n",
       "      <td>Appingedam</td>\n",
       "      <td>Appingedam</td>\n",
       "    </tr>\n",
       "    <tr>\n",
       "      <th>1201</th>\n",
       "      <td>geo_arrival</td>\n",
       "      <td>5</td>\n",
       "      <td>Bedum</td>\n",
       "      <td>Bedum</td>\n",
       "    </tr>\n",
       "    <tr>\n",
       "      <th>1202</th>\n",
       "      <td>geo_arrival</td>\n",
       "      <td>7</td>\n",
       "      <td>Bellingwedde</td>\n",
       "      <td>Bellingwedde</td>\n",
       "    </tr>\n",
       "    <tr>\n",
       "      <th>1203</th>\n",
       "      <td>geo_arrival</td>\n",
       "      <td>9</td>\n",
       "      <td>TenBoer</td>\n",
       "      <td>Ten Boer</td>\n",
       "    </tr>\n",
       "    <tr>\n",
       "      <th>1204</th>\n",
       "      <td>geo_arrival</td>\n",
       "      <td>10</td>\n",
       "      <td>Delfzijl</td>\n",
       "      <td>Delfzijl</td>\n",
       "    </tr>\n",
       "    <tr>\n",
       "      <th>1205</th>\n",
       "      <td>geo_arrival</td>\n",
       "      <td>14</td>\n",
       "      <td>Groningen</td>\n",
       "      <td>Groningen</td>\n",
       "    </tr>\n",
       "    <tr>\n",
       "      <th>1206</th>\n",
       "      <td>geo_arrival</td>\n",
       "      <td>15</td>\n",
       "      <td>Grootegast</td>\n",
       "      <td>Grootegast</td>\n",
       "    </tr>\n",
       "    <tr>\n",
       "      <th>1207</th>\n",
       "      <td>geo_arrival</td>\n",
       "      <td>17</td>\n",
       "      <td>Haren</td>\n",
       "      <td>Haren</td>\n",
       "    </tr>\n",
       "    <tr>\n",
       "      <th>1208</th>\n",
       "      <td>geo_arrival</td>\n",
       "      <td>18</td>\n",
       "      <td>Hoogezand-Sappemeer</td>\n",
       "      <td>Hoogezand-Sappemeer</td>\n",
       "    </tr>\n",
       "    <tr>\n",
       "      <th>1209</th>\n",
       "      <td>geo_arrival</td>\n",
       "      <td>22</td>\n",
       "      <td>Leek</td>\n",
       "      <td>Leek</td>\n",
       "    </tr>\n",
       "    <tr>\n",
       "      <th>1210</th>\n",
       "      <td>geo_arrival</td>\n",
       "      <td>24</td>\n",
       "      <td>Loppersum</td>\n",
       "      <td>Loppersum</td>\n",
       "    </tr>\n",
       "    <tr>\n",
       "      <th>1211</th>\n",
       "      <td>geo_arrival</td>\n",
       "      <td>25</td>\n",
       "      <td>Marum</td>\n",
       "      <td>Marum</td>\n",
       "    </tr>\n",
       "    <tr>\n",
       "      <th>1212</th>\n",
       "      <td>geo_arrival</td>\n",
       "      <td>34</td>\n",
       "      <td>Almere</td>\n",
       "      <td>Almere</td>\n",
       "    </tr>\n",
       "    <tr>\n",
       "      <th>1213</th>\n",
       "      <td>geo_arrival</td>\n",
       "      <td>37</td>\n",
       "      <td>Stadskanaal</td>\n",
       "      <td>Stadskanaal</td>\n",
       "    </tr>\n",
       "    <tr>\n",
       "      <th>1214</th>\n",
       "      <td>geo_arrival</td>\n",
       "      <td>39</td>\n",
       "      <td>Scheemda</td>\n",
       "      <td>Scheemda</td>\n",
       "    </tr>\n",
       "    <tr>\n",
       "      <th>1215</th>\n",
       "      <td>geo_arrival</td>\n",
       "      <td>40</td>\n",
       "      <td>Slochteren</td>\n",
       "      <td>Slochteren</td>\n",
       "    </tr>\n",
       "    <tr>\n",
       "      <th>1216</th>\n",
       "      <td>geo_arrival</td>\n",
       "      <td>47</td>\n",
       "      <td>Veendam</td>\n",
       "      <td>Veendam</td>\n",
       "    </tr>\n",
       "    <tr>\n",
       "      <th>1217</th>\n",
       "      <td>geo_arrival</td>\n",
       "      <td>48</td>\n",
       "      <td>Vlagtwedde</td>\n",
       "      <td>Vlagtwedde</td>\n",
       "    </tr>\n",
       "    <tr>\n",
       "      <th>1218</th>\n",
       "      <td>geo_arrival</td>\n",
       "      <td>50</td>\n",
       "      <td>Zeewolde</td>\n",
       "      <td>Zeewolde</td>\n",
       "    </tr>\n",
       "    <tr>\n",
       "      <th>1219</th>\n",
       "      <td>geo_arrival</td>\n",
       "      <td>51</td>\n",
       "      <td>Skarsterlân</td>\n",
       "      <td>Skarsterlân</td>\n",
       "    </tr>\n",
       "    <tr>\n",
       "      <th>1220</th>\n",
       "      <td>geo_arrival</td>\n",
       "      <td>52</td>\n",
       "      <td>Winschoten</td>\n",
       "      <td>Winschoten</td>\n",
       "    </tr>\n",
       "    <tr>\n",
       "      <th>1221</th>\n",
       "      <td>geo_arrival</td>\n",
       "      <td>53</td>\n",
       "      <td>Winsum</td>\n",
       "      <td>Winsum</td>\n",
       "    </tr>\n",
       "    <tr>\n",
       "      <th>1222</th>\n",
       "      <td>geo_arrival</td>\n",
       "      <td>55</td>\n",
       "      <td>Boarnsterhim</td>\n",
       "      <td>Boarnsterhim</td>\n",
       "    </tr>\n",
       "    <tr>\n",
       "      <th>1223</th>\n",
       "      <td>geo_arrival</td>\n",
       "      <td>56</td>\n",
       "      <td>Zuidhorn</td>\n",
       "      <td>Zuidhorn</td>\n",
       "    </tr>\n",
       "    <tr>\n",
       "      <th>1224</th>\n",
       "      <td>geo_arrival</td>\n",
       "      <td>58</td>\n",
       "      <td>Dongeradeel</td>\n",
       "      <td>Dongeradeel</td>\n",
       "    </tr>\n",
       "    <tr>\n",
       "      <th>1225</th>\n",
       "      <td>geo_arrival</td>\n",
       "      <td>59</td>\n",
       "      <td>Achtkarspelen</td>\n",
       "      <td>Achtkarspelen</td>\n",
       "    </tr>\n",
       "    <tr>\n",
       "      <th>1226</th>\n",
       "      <td>geo_arrival</td>\n",
       "      <td>60</td>\n",
       "      <td>Ameland</td>\n",
       "      <td>Ameland</td>\n",
       "    </tr>\n",
       "    <tr>\n",
       "      <th>1227</th>\n",
       "      <td>geo_arrival</td>\n",
       "      <td>63</td>\n",
       "      <td>hetBildt</td>\n",
       "      <td>het Bildt</td>\n",
       "    </tr>\n",
       "    <tr>\n",
       "      <th>1228</th>\n",
       "      <td>geo_arrival</td>\n",
       "      <td>64</td>\n",
       "      <td>Bolsward</td>\n",
       "      <td>Bolsward</td>\n",
       "    </tr>\n",
       "    <tr>\n",
       "      <th>...</th>\n",
       "      <td>...</td>\n",
       "      <td>...</td>\n",
       "      <td>...</td>\n",
       "      <td>...</td>\n",
       "    </tr>\n",
       "    <tr>\n",
       "      <th>1615</th>\n",
       "      <td>geo_arrival</td>\n",
       "      <td>1711</td>\n",
       "      <td>Echt-Susteren</td>\n",
       "      <td>Echt-Susteren</td>\n",
       "    </tr>\n",
       "    <tr>\n",
       "      <th>1616</th>\n",
       "      <td>geo_arrival</td>\n",
       "      <td>1714</td>\n",
       "      <td>Sluis</td>\n",
       "      <td>Sluis</td>\n",
       "    </tr>\n",
       "    <tr>\n",
       "      <th>1617</th>\n",
       "      <td>geo_arrival</td>\n",
       "      <td>1719</td>\n",
       "      <td>Drimmelen</td>\n",
       "      <td>Drimmelen</td>\n",
       "    </tr>\n",
       "    <tr>\n",
       "      <th>1618</th>\n",
       "      <td>geo_arrival</td>\n",
       "      <td>1721</td>\n",
       "      <td>Bernheze</td>\n",
       "      <td>Bernheze</td>\n",
       "    </tr>\n",
       "    <tr>\n",
       "      <th>1619</th>\n",
       "      <td>geo_arrival</td>\n",
       "      <td>1722</td>\n",
       "      <td>Ferwerderadiel</td>\n",
       "      <td>Ferwerderadiel</td>\n",
       "    </tr>\n",
       "    <tr>\n",
       "      <th>1620</th>\n",
       "      <td>geo_arrival</td>\n",
       "      <td>1723</td>\n",
       "      <td>Alphen-Chaam</td>\n",
       "      <td>Alphen-Chaam</td>\n",
       "    </tr>\n",
       "    <tr>\n",
       "      <th>1621</th>\n",
       "      <td>geo_arrival</td>\n",
       "      <td>1724</td>\n",
       "      <td>Bergeijk</td>\n",
       "      <td>Bergeijk</td>\n",
       "    </tr>\n",
       "    <tr>\n",
       "      <th>1622</th>\n",
       "      <td>geo_arrival</td>\n",
       "      <td>1728</td>\n",
       "      <td>Bladel</td>\n",
       "      <td>Bladel</td>\n",
       "    </tr>\n",
       "    <tr>\n",
       "      <th>1623</th>\n",
       "      <td>geo_arrival</td>\n",
       "      <td>1729</td>\n",
       "      <td>Gulpen-Wittem</td>\n",
       "      <td>Gulpen-Wittem</td>\n",
       "    </tr>\n",
       "    <tr>\n",
       "      <th>1624</th>\n",
       "      <td>geo_arrival</td>\n",
       "      <td>1730</td>\n",
       "      <td>Tynaarlo</td>\n",
       "      <td>Tynaarlo</td>\n",
       "    </tr>\n",
       "    <tr>\n",
       "      <th>1625</th>\n",
       "      <td>geo_arrival</td>\n",
       "      <td>1731</td>\n",
       "      <td>Midden-Drenthe</td>\n",
       "      <td>Midden-Drenthe</td>\n",
       "    </tr>\n",
       "    <tr>\n",
       "      <th>1626</th>\n",
       "      <td>geo_arrival</td>\n",
       "      <td>1734</td>\n",
       "      <td>Overbetuwe</td>\n",
       "      <td>Overbetuwe</td>\n",
       "    </tr>\n",
       "    <tr>\n",
       "      <th>1627</th>\n",
       "      <td>geo_arrival</td>\n",
       "      <td>1735</td>\n",
       "      <td>HofvanTwente</td>\n",
       "      <td>Hofvan Twente</td>\n",
       "    </tr>\n",
       "    <tr>\n",
       "      <th>1628</th>\n",
       "      <td>geo_arrival</td>\n",
       "      <td>1740</td>\n",
       "      <td>Neder-Betuwe</td>\n",
       "      <td>Neder-Betuwe</td>\n",
       "    </tr>\n",
       "    <tr>\n",
       "      <th>1629</th>\n",
       "      <td>geo_arrival</td>\n",
       "      <td>1742</td>\n",
       "      <td>Rijssen-Holten</td>\n",
       "      <td>Rijssen-Holten</td>\n",
       "    </tr>\n",
       "    <tr>\n",
       "      <th>1630</th>\n",
       "      <td>geo_arrival</td>\n",
       "      <td>1771</td>\n",
       "      <td>Geldrop-Mierlo</td>\n",
       "      <td>Geldrop-Mierlo</td>\n",
       "    </tr>\n",
       "    <tr>\n",
       "      <th>1631</th>\n",
       "      <td>geo_arrival</td>\n",
       "      <td>1773</td>\n",
       "      <td>Olst-Wijhe</td>\n",
       "      <td>Olst-Wijhe</td>\n",
       "    </tr>\n",
       "    <tr>\n",
       "      <th>1632</th>\n",
       "      <td>geo_arrival</td>\n",
       "      <td>1774</td>\n",
       "      <td>Dinkelland</td>\n",
       "      <td>Dinkelland</td>\n",
       "    </tr>\n",
       "    <tr>\n",
       "      <th>1633</th>\n",
       "      <td>geo_arrival</td>\n",
       "      <td>1783</td>\n",
       "      <td>Westland</td>\n",
       "      <td>Westland</td>\n",
       "    </tr>\n",
       "    <tr>\n",
       "      <th>1634</th>\n",
       "      <td>geo_arrival</td>\n",
       "      <td>1842</td>\n",
       "      <td>Midden-Delfland</td>\n",
       "      <td>Midden-Delfland</td>\n",
       "    </tr>\n",
       "    <tr>\n",
       "      <th>1635</th>\n",
       "      <td>geo_arrival</td>\n",
       "      <td>1859</td>\n",
       "      <td>Berkelland</td>\n",
       "      <td>Berkelland</td>\n",
       "    </tr>\n",
       "    <tr>\n",
       "      <th>1636</th>\n",
       "      <td>geo_arrival</td>\n",
       "      <td>1876</td>\n",
       "      <td>Bronckhorst</td>\n",
       "      <td>Bronckhorst</td>\n",
       "    </tr>\n",
       "    <tr>\n",
       "      <th>1637</th>\n",
       "      <td>geo_arrival</td>\n",
       "      <td>1883</td>\n",
       "      <td>Sittard-Geleen</td>\n",
       "      <td>Sittard-Geleen</td>\n",
       "    </tr>\n",
       "    <tr>\n",
       "      <th>1638</th>\n",
       "      <td>geo_arrival</td>\n",
       "      <td>1884</td>\n",
       "      <td>Kaag en Braassem</td>\n",
       "      <td>Kaag en Brassem</td>\n",
       "    </tr>\n",
       "    <tr>\n",
       "      <th>1639</th>\n",
       "      <td>geo_arrival</td>\n",
       "      <td>1891</td>\n",
       "      <td>Dantumadiel</td>\n",
       "      <td>Dantumadiel</td>\n",
       "    </tr>\n",
       "    <tr>\n",
       "      <th>1640</th>\n",
       "      <td>geo_arrival</td>\n",
       "      <td>1896</td>\n",
       "      <td>Zwartewaterland</td>\n",
       "      <td>Zwartewaterland</td>\n",
       "    </tr>\n",
       "    <tr>\n",
       "      <th>1641</th>\n",
       "      <td>geo_arrival</td>\n",
       "      <td>1916</td>\n",
       "      <td>Leidschendam-Voorburg</td>\n",
       "      <td>Leidschendam-Voorburg</td>\n",
       "    </tr>\n",
       "    <tr>\n",
       "      <th>1642</th>\n",
       "      <td>geo_arrival</td>\n",
       "      <td>1926</td>\n",
       "      <td>Pijnacker-Nootdorp</td>\n",
       "      <td>Pijnacker-Nootdorp</td>\n",
       "    </tr>\n",
       "    <tr>\n",
       "      <th>1643</th>\n",
       "      <td>geo_arrival</td>\n",
       "      <td>1955</td>\n",
       "      <td>Montferland</td>\n",
       "      <td>Montferland</td>\n",
       "    </tr>\n",
       "    <tr>\n",
       "      <th>1644</th>\n",
       "      <td>geo_arrival</td>\n",
       "      <td>1987</td>\n",
       "      <td>Menterwolde</td>\n",
       "      <td>Menterwolde</td>\n",
       "    </tr>\n",
       "  </tbody>\n",
       "</table>\n",
       "<p>446 rows × 4 columns</p>\n",
       "</div>"
      ],
      "text/plain": [
       "         variable  values                     meaning                 mapped\n",
       "1199  geo_arrival       0  Aankomstpunt in buitenland                    NaN\n",
       "1200  geo_arrival       3                  Appingedam             Appingedam\n",
       "1201  geo_arrival       5                       Bedum                  Bedum\n",
       "1202  geo_arrival       7                Bellingwedde           Bellingwedde\n",
       "1203  geo_arrival       9                     TenBoer               Ten Boer\n",
       "1204  geo_arrival      10                    Delfzijl               Delfzijl\n",
       "1205  geo_arrival      14                   Groningen              Groningen\n",
       "1206  geo_arrival      15                  Grootegast             Grootegast\n",
       "1207  geo_arrival      17                       Haren                  Haren\n",
       "1208  geo_arrival      18         Hoogezand-Sappemeer    Hoogezand-Sappemeer\n",
       "1209  geo_arrival      22                        Leek                   Leek\n",
       "1210  geo_arrival      24                   Loppersum              Loppersum\n",
       "1211  geo_arrival      25                       Marum                  Marum\n",
       "1212  geo_arrival      34                      Almere                 Almere\n",
       "1213  geo_arrival      37                 Stadskanaal            Stadskanaal\n",
       "1214  geo_arrival      39                    Scheemda               Scheemda\n",
       "1215  geo_arrival      40                  Slochteren             Slochteren\n",
       "1216  geo_arrival      47                     Veendam                Veendam\n",
       "1217  geo_arrival      48                  Vlagtwedde             Vlagtwedde\n",
       "1218  geo_arrival      50                    Zeewolde               Zeewolde\n",
       "1219  geo_arrival      51                 Skarsterlân            Skarsterlân\n",
       "1220  geo_arrival      52                  Winschoten             Winschoten\n",
       "1221  geo_arrival      53                      Winsum                 Winsum\n",
       "1222  geo_arrival      55                Boarnsterhim           Boarnsterhim\n",
       "1223  geo_arrival      56                    Zuidhorn               Zuidhorn\n",
       "1224  geo_arrival      58                 Dongeradeel            Dongeradeel\n",
       "1225  geo_arrival      59               Achtkarspelen          Achtkarspelen\n",
       "1226  geo_arrival      60                     Ameland                Ameland\n",
       "1227  geo_arrival      63                    hetBildt              het Bildt\n",
       "1228  geo_arrival      64                    Bolsward               Bolsward\n",
       "...           ...     ...                         ...                    ...\n",
       "1615  geo_arrival    1711               Echt-Susteren          Echt-Susteren\n",
       "1616  geo_arrival    1714                       Sluis                  Sluis\n",
       "1617  geo_arrival    1719                   Drimmelen              Drimmelen\n",
       "1618  geo_arrival    1721                    Bernheze               Bernheze\n",
       "1619  geo_arrival    1722              Ferwerderadiel         Ferwerderadiel\n",
       "1620  geo_arrival    1723                Alphen-Chaam           Alphen-Chaam\n",
       "1621  geo_arrival    1724                    Bergeijk               Bergeijk\n",
       "1622  geo_arrival    1728                      Bladel                 Bladel\n",
       "1623  geo_arrival    1729               Gulpen-Wittem          Gulpen-Wittem\n",
       "1624  geo_arrival    1730                    Tynaarlo               Tynaarlo\n",
       "1625  geo_arrival    1731              Midden-Drenthe         Midden-Drenthe\n",
       "1626  geo_arrival    1734                  Overbetuwe             Overbetuwe\n",
       "1627  geo_arrival    1735                HofvanTwente          Hofvan Twente\n",
       "1628  geo_arrival    1740                Neder-Betuwe           Neder-Betuwe\n",
       "1629  geo_arrival    1742              Rijssen-Holten         Rijssen-Holten\n",
       "1630  geo_arrival    1771              Geldrop-Mierlo         Geldrop-Mierlo\n",
       "1631  geo_arrival    1773                  Olst-Wijhe             Olst-Wijhe\n",
       "1632  geo_arrival    1774                  Dinkelland             Dinkelland\n",
       "1633  geo_arrival    1783                    Westland               Westland\n",
       "1634  geo_arrival    1842             Midden-Delfland        Midden-Delfland\n",
       "1635  geo_arrival    1859                  Berkelland             Berkelland\n",
       "1636  geo_arrival    1876                 Bronckhorst            Bronckhorst\n",
       "1637  geo_arrival    1883              Sittard-Geleen         Sittard-Geleen\n",
       "1638  geo_arrival    1884            Kaag en Braassem        Kaag en Brassem\n",
       "1639  geo_arrival    1891                 Dantumadiel            Dantumadiel\n",
       "1640  geo_arrival    1896             Zwartewaterland        Zwartewaterland\n",
       "1641  geo_arrival    1916       Leidschendam-Voorburg  Leidschendam-Voorburg\n",
       "1642  geo_arrival    1926          Pijnacker-Nootdorp     Pijnacker-Nootdorp\n",
       "1643  geo_arrival    1955                 Montferland            Montferland\n",
       "1644  geo_arrival    1987                 Menterwolde            Menterwolde\n",
       "\n",
       "[446 rows x 4 columns]"
      ]
     },
     "execution_count": 22,
     "metadata": {},
     "output_type": "execute_result"
    }
   ],
   "source": [
    "d = MON_values_map['Databestand MON 2009']\n",
    "d[d.variable == 'geo_arrival']"
   ]
  },
  {
   "cell_type": "code",
   "execution_count": 23,
   "metadata": {},
   "outputs": [],
   "source": [
    "values_map = {\n",
    "    'MON' : defaultdict(dict),\n",
    "    'OViN' : defaultdict(dict),\n",
    "#     'ODiN' : defaultdict(dict)\n",
    "}"
   ]
  },
  {
   "cell_type": "code",
   "execution_count": 24,
   "metadata": {},
   "outputs": [],
   "source": [
    "for sheet in MON_values_map:\n",
    "    current_mapper = MON_values_map[sheet]\n",
    "    \n",
    "    for var in current_mapper.variable.unique().tolist():\n",
    "        current_variable = current_mapper[current_mapper.variable == var]\n",
    "        values_map['MON'][sheet][var] = dict(zip(current_variable['values'], current_variable['mapped']))"
   ]
  },
  {
   "cell_type": "code",
   "execution_count": 25,
   "metadata": {},
   "outputs": [],
   "source": [
    "for sheet in OViN_values_map:\n",
    "    current_mapper = OViN_values_map[sheet]\n",
    "    \n",
    "    for var in current_mapper.variable.unique().tolist():\n",
    "        current_variable = current_mapper[current_mapper.variable == var]\n",
    "        values_map['OViN'][sheet][var] = dict(zip(current_variable['values'], current_variable['mapped']))"
   ]
  },
  {
   "cell_type": "code",
   "execution_count": null,
   "metadata": {},
   "outputs": [],
   "source": [
    "for sheet in ODiN_values_map:\n",
    "    current_mapper = ODiN_values_map[sheet]\n",
    "    \n",
    "    for var in current_mapper.variable.unique().tolist():\n",
    "        current_variable = current_mapper[current_mapper.variable == var]\n",
    "        values_map['ODiN'][sheet][var] = dict(zip(current_variable['values'], current_variable['mapped']))"
   ]
  },
  {
   "cell_type": "code",
   "execution_count": 26,
   "metadata": {},
   "outputs": [],
   "source": [
    "with open('Variables/mappers/values_ru_map_v2.json', 'w') as outfile:\n",
    "    json.dump(values_map, outfile)"
   ]
  },
  {
   "cell_type": "code",
   "execution_count": 27,
   "metadata": {},
   "outputs": [],
   "source": [
    "with open('Variables/mappers/values_ru_map_v2.json') as infile:\n",
    "    values_map = json.load(infile)"
   ]
  },
  {
   "cell_type": "markdown",
   "metadata": {},
   "source": [
    "### Перевод данных и их экспорт"
   ]
  },
  {
   "cell_type": "markdown",
   "metadata": {},
   "source": [
    "После подготовки словарей, был произведен перевод значений переменных внутри таблиц данных и фильтрация колонок, пригодных для использования в качестве статичных годовых слоев с социально-экономическими характеристиками территории. "
   ]
  },
  {
   "cell_type": "code",
   "execution_count": 28,
   "metadata": {},
   "outputs": [],
   "source": [
    "import re"
   ]
  },
  {
   "cell_type": "code",
   "execution_count": 29,
   "metadata": {},
   "outputs": [
    {
     "name": "stderr",
     "output_type": "stream",
     "text": [
      "100%|██████████| 6/6 [02:03<00:00, 19.18s/it]\n",
      "100%|██████████| 8/8 [01:55<00:00, 14.00s/it]\n"
     ]
    }
   ],
   "source": [
    "for data in iterator:\n",
    "    colnames = columns_mapper[data]\n",
    "    colnames.pop('hsnor', None) # on the fly fixing of mistakes in colnames data (they had two different columns for mopeds)\n",
    "    colnames.pop('hhsnor', None)\n",
    "    colnames.pop('psnor', None)\n",
    "    colnames.pop('opsnor', None)\n",
    "    valuesMap = values_map[data]\n",
    "    l_dir = iterator[data]['list_dir']\n",
    "    root_path = iterator[data]['path']\n",
    "    for l in tqdm(l_dir):\n",
    "        df = pyreadstat.read_sav(root_path + l)[0]\n",
    "        df.columns = [i.lower() for i in df.columns]\n",
    "        \n",
    "        true_keys = list(set(df.columns).intersection(set(colnames.keys())))\n",
    "        mapper = {k : colnames[k] for k in true_keys}\n",
    "        \n",
    "        df = df[list(mapper.keys())].rename(columns = mapper).astype(int, errors = 'ignore')\n",
    "        current_df_values = valuesMap[l.split('.')[0]]\n",
    "\n",
    "        for col in list(current_df_values.keys()):\n",
    "            if (col in ['geo_departure', 'geo_arrival']) and (len(current_df_values[col]) < 100):\n",
    "                df.loc[\n",
    "                    df[col].isin(current_df_values['geo_commune'].keys()), col\n",
    "                ] = df.loc[\n",
    "                    df[col].isin(current_df_values['geo_commune'].keys()), col\n",
    "                ].astype(int).astype(str).map(current_df_values['geo_commune'])\n",
    "            else:\n",
    "                df.loc[\n",
    "                    df[col].isin(current_df_values[col].keys()), col\n",
    "                ] = df.loc[\n",
    "                    df[col].isin(current_df_values[col].keys()), col\n",
    "                ].astype(int).astype(str).map(current_df_values[col])\n",
    "        year = re.findall('\\d+', l)[0]\n",
    "        df['uid_person'] = [i for i in range(len(df))]\n",
    "        df.to_csv(f'translated_data_v2/data_{year}.csv', index = None)"
   ]
  },
  {
   "cell_type": "markdown",
   "metadata": {},
   "source": [
    "## Геокодирование коммун"
   ]
  },
  {
   "cell_type": "markdown",
   "metadata": {},
   "source": [
    "Исходные данные имеют географическую привязку в виде почтовых индексов, коммун, регионов COROP и провинций Нидерландов. Поскольку в качестве операционной ячейки использовались коммуны, то далее производилось их прямое геокодирование (преобразование адресов в географические координаты)"
   ]
  },
  {
   "cell_type": "code",
   "execution_count": 23,
   "metadata": {},
   "outputs": [],
   "source": [
    "datasets = defaultdict(list)"
   ]
  },
  {
   "cell_type": "code",
   "execution_count": 24,
   "metadata": {},
   "outputs": [
    {
     "name": "stderr",
     "output_type": "stream",
     "text": [
      "C:\\Users\\mtopn\\Anaconda3\\lib\\site-packages\\IPython\\core\\interactiveshell.py:3057: DtypeWarning: Columns (7,13,18,25,30,37) have mixed types. Specify dtype option on import or set low_memory=False.\n",
      "  interactivity=interactivity, compiler=compiler, result=result)\n"
     ]
    }
   ],
   "source": [
    "for y in range(2004, 2018):\n",
    "    datasets[str(y)] = pd.read_csv(f'translated_data/data_{y}.csv')"
   ]
  },
  {
   "cell_type": "code",
   "execution_count": null,
   "metadata": {},
   "outputs": [],
   "source": [
    "def getCommunes(df):\n",
    "    \"\"\"\n",
    "    Returns the set of unique communes\n",
    "    \"\"\"\n",
    "    list_sets = [set(df.geo_arrival.dropna()),\n",
    "                 set(df.geo_departure.dropna()),\n",
    "                 set(df.geo_commune.dropna())]\n",
    "    return set().union(*list_sets)"
   ]
  },
  {
   "cell_type": "code",
   "execution_count": null,
   "metadata": {},
   "outputs": [],
   "source": [
    "communes_set = set()\n",
    "for dset in datasets:\n",
    "    communes_set = communes_set.union(getCommunes(datasets[dset]))\n",
    "    \n",
    "communes = pd.DataFrame({'commune' : list(communes_set)})\n",
    "communes['address'] = communes.commune.apply(lambda x: x + ', Netherlands')\n",
    "communes['lat'], communes['lon'] = pd.Series(), pd.Series()"
   ]
  },
  {
   "cell_type": "code",
   "execution_count": 87,
   "metadata": {},
   "outputs": [],
   "source": [
    "import googlemaps\n",
    "\n",
    "gmaps = googlemaps.Client(key='')"
   ]
  },
  {
   "cell_type": "code",
   "execution_count": 88,
   "metadata": {},
   "outputs": [
    {
     "data": {
      "text/html": [
       "<div>\n",
       "<style scoped>\n",
       "    .dataframe tbody tr th:only-of-type {\n",
       "        vertical-align: middle;\n",
       "    }\n",
       "\n",
       "    .dataframe tbody tr th {\n",
       "        vertical-align: top;\n",
       "    }\n",
       "\n",
       "    .dataframe thead th {\n",
       "        text-align: right;\n",
       "    }\n",
       "</style>\n",
       "<table border=\"1\" class=\"dataframe\">\n",
       "  <thead>\n",
       "    <tr style=\"text-align: right;\">\n",
       "      <th></th>\n",
       "      <th>commune</th>\n",
       "      <th>address</th>\n",
       "      <th>lat</th>\n",
       "      <th>lon</th>\n",
       "    </tr>\n",
       "  </thead>\n",
       "  <tbody>\n",
       "    <tr>\n",
       "      <th>0</th>\n",
       "      <td>Maasbree</td>\n",
       "      <td>Maasbree, Netherlands</td>\n",
       "      <td>51.363428</td>\n",
       "      <td>6.050578</td>\n",
       "    </tr>\n",
       "    <tr>\n",
       "      <th>1</th>\n",
       "      <td>Goirle</td>\n",
       "      <td>Goirle, Netherlands</td>\n",
       "      <td>51.523958</td>\n",
       "      <td>5.066198</td>\n",
       "    </tr>\n",
       "    <tr>\n",
       "      <th>2</th>\n",
       "      <td>Arcenen Velden</td>\n",
       "      <td>Arcenen Velden, Netherlands</td>\n",
       "      <td>NaN</td>\n",
       "      <td>NaN</td>\n",
       "    </tr>\n",
       "    <tr>\n",
       "      <th>3</th>\n",
       "      <td>Vlaardingen</td>\n",
       "      <td>Vlaardingen, Netherlands</td>\n",
       "      <td>51.922786</td>\n",
       "      <td>4.329563</td>\n",
       "    </tr>\n",
       "    <tr>\n",
       "      <th>4</th>\n",
       "      <td>I Jsselstein</td>\n",
       "      <td>I Jsselstein, Netherlands</td>\n",
       "      <td>NaN</td>\n",
       "      <td>NaN</td>\n",
       "    </tr>\n",
       "  </tbody>\n",
       "</table>\n",
       "</div>"
      ],
      "text/plain": [
       "          commune                      address        lat       lon\n",
       "0        Maasbree        Maasbree, Netherlands  51.363428  6.050578\n",
       "1          Goirle          Goirle, Netherlands  51.523958  5.066198\n",
       "2  Arcenen Velden  Arcenen Velden, Netherlands        NaN       NaN\n",
       "3     Vlaardingen     Vlaardingen, Netherlands  51.922786  4.329563\n",
       "4    I Jsselstein    I Jsselstein, Netherlands        NaN       NaN"
      ]
     },
     "execution_count": 88,
     "metadata": {},
     "output_type": "execute_result"
    }
   ],
   "source": [
    "communes.head()"
   ]
  },
  {
   "cell_type": "code",
   "execution_count": 90,
   "metadata": {},
   "outputs": [],
   "source": [
    "most_relevant = gmaps.geocode('uglich, russia')[0]"
   ]
  },
  {
   "cell_type": "code",
   "execution_count": 95,
   "metadata": {},
   "outputs": [
    {
     "data": {
      "text/plain": [
       "{'lat': 57.52478960000001, 'lng': 38.3308361}"
      ]
     },
     "execution_count": 95,
     "metadata": {},
     "output_type": "execute_result"
    }
   ],
   "source": [
    "most_relevant['geometry']['location']"
   ]
  },
  {
   "cell_type": "code",
   "execution_count": 98,
   "metadata": {},
   "outputs": [],
   "source": [
    "def gcode_gmaps(location):\n",
    "    try:\n",
    "        response = gmaps.geocode(location)\n",
    "        most_relevant = response[0]\n",
    "        location = most_relevant['geometry']['location']\n",
    "        \n",
    "        return location['lat'], location['lng'], response\n",
    "    except Exception as e:\n",
    "        print(e)\n",
    "        return None, None, response"
   ]
  },
  {
   "cell_type": "code",
   "execution_count": 99,
   "metadata": {
    "collapsed": true,
    "jupyter": {
     "outputs_hidden": true
    }
   },
   "outputs": [
    {
     "name": "stderr",
     "output_type": "stream",
     "text": [
      "\n",
      "0it [00:00, ?it/s]\n",
      "1it [00:00,  8.62it/s]\n",
      "3it [00:00, 10.36it/s]\n",
      "6it [00:00, 12.53it/s]\n",
      "8it [00:00, 14.10it/s]\n",
      "10it [00:01,  6.99it/s]\n",
      "12it [00:01,  5.90it/s]\n",
      "13it [00:01,  4.92it/s]"
     ]
    },
    {
     "name": "stdout",
     "output_type": "stream",
     "text": [
      "list index out of range\n"
     ]
    },
    {
     "name": "stderr",
     "output_type": "stream",
     "text": [
      "\n",
      "14it [00:02,  4.11it/s]\n",
      "15it [00:02,  3.98it/s]\n",
      "16it [00:02,  3.96it/s]\n",
      "17it [00:02,  4.15it/s]\n",
      "18it [00:03,  4.09it/s]\n",
      "19it [00:03,  3.27it/s]\n",
      "20it [00:03,  3.42it/s]\n",
      "21it [00:04,  2.98it/s]\n",
      "22it [00:05,  1.92it/s]\n",
      "23it [00:05,  1.94it/s]\n",
      "24it [00:05,  2.31it/s]\n",
      "25it [00:06,  2.68it/s]\n",
      "26it [00:06,  2.67it/s]\n",
      "27it [00:06,  3.01it/s]\n",
      "28it [00:07,  3.25it/s]\n",
      "29it [00:07,  3.40it/s]\n",
      "30it [00:07,  3.53it/s]\n",
      "31it [00:07,  3.73it/s]"
     ]
    },
    {
     "name": "stdout",
     "output_type": "stream",
     "text": [
      "list index out of range\n"
     ]
    },
    {
     "name": "stderr",
     "output_type": "stream",
     "text": [
      "\n",
      "32it [00:08,  3.67it/s]\n",
      "33it [00:08,  3.85it/s]\n",
      "34it [00:08,  3.91it/s]\n",
      "35it [00:09,  2.59it/s]\n",
      "36it [00:09,  2.94it/s]\n",
      "37it [00:09,  3.17it/s]\n",
      "38it [00:09,  3.48it/s]\n",
      "39it [00:10,  3.68it/s]\n",
      "40it [00:10,  3.74it/s]\n",
      "41it [00:10,  3.06it/s]\n",
      "42it [00:11,  3.36it/s]\n",
      "43it [00:11,  3.47it/s]\n",
      "44it [00:11,  3.54it/s]\n",
      "45it [00:12,  3.50it/s]\n",
      "46it [00:12,  2.72it/s]\n",
      "47it [00:12,  3.00it/s]\n",
      "48it [00:13,  2.97it/s]\n",
      "49it [00:13,  3.24it/s]\n",
      "50it [00:13,  3.34it/s]\n",
      "51it [00:13,  3.53it/s]\n",
      "52it [00:14,  3.71it/s]\n",
      "53it [00:14,  3.16it/s]\n",
      "54it [00:14,  3.39it/s]\n",
      "55it [00:15,  3.60it/s]\n",
      "56it [00:15,  3.81it/s]\n",
      "57it [00:15,  3.03it/s]\n",
      "58it [00:15,  3.45it/s]\n",
      "59it [00:16,  3.74it/s]\n",
      "60it [00:16,  3.86it/s]\n",
      "61it [00:16,  3.35it/s]\n",
      "62it [00:17,  3.59it/s]\n",
      "63it [00:17,  3.83it/s]\n",
      "64it [00:17,  3.10it/s]\n",
      "65it [00:18,  2.67it/s]\n",
      "66it [00:18,  3.00it/s]\n",
      "67it [00:18,  3.15it/s]\n",
      "68it [00:19,  3.32it/s]\n",
      "69it [00:19,  2.78it/s]\n",
      "70it [00:19,  3.09it/s]\n",
      "71it [00:20,  3.34it/s]\n",
      "72it [00:20,  3.53it/s]\n",
      "73it [00:20,  3.76it/s]\n",
      "74it [00:20,  3.92it/s]\n",
      "75it [00:21,  2.71it/s]\n",
      "76it [00:21,  3.08it/s]\n",
      "77it [00:21,  3.32it/s]\n",
      "78it [00:22,  3.65it/s]\n",
      "79it [00:22,  3.57it/s]\n",
      "80it [00:22,  3.74it/s]\n",
      "81it [00:22,  4.02it/s]\n",
      "82it [00:23,  3.31it/s]\n",
      "83it [00:23,  3.48it/s]\n",
      "84it [00:23,  2.96it/s]\n",
      "85it [00:24,  3.16it/s]\n",
      "86it [00:24,  3.03it/s]\n",
      "87it [00:24,  3.20it/s]\n",
      "88it [00:25,  3.40it/s]\n",
      "89it [00:25,  3.28it/s]\n",
      "90it [00:25,  3.49it/s]\n",
      "91it [00:25,  3.63it/s]\n",
      "92it [00:26,  3.71it/s]\n",
      "93it [00:26,  3.74it/s]\n",
      "94it [00:26,  3.91it/s]\n",
      "95it [00:26,  4.03it/s]\n",
      "96it [00:27,  4.28it/s]\n",
      "97it [00:27,  4.22it/s]\n",
      "98it [00:27,  4.10it/s]\n",
      "99it [00:27,  4.15it/s]\n",
      "100it [00:28,  4.19it/s]\n",
      "101it [00:28,  4.10it/s]\n",
      "102it [00:28,  4.10it/s]\n",
      "103it [00:28,  4.03it/s]\n",
      "104it [00:28,  4.18it/s]\n",
      "105it [00:29,  4.26it/s]\n",
      "106it [00:29,  4.24it/s]\n",
      "107it [00:29,  4.34it/s]\n",
      "108it [00:29,  4.36it/s]\n",
      "109it [00:30,  4.33it/s]\n",
      "110it [00:30,  4.09it/s]\n",
      "111it [00:30,  4.26it/s]\n",
      "112it [00:30,  3.66it/s]\n",
      "113it [00:31,  3.15it/s]\n",
      "114it [00:31,  3.37it/s]\n",
      "115it [00:31,  3.26it/s]\n",
      "116it [00:32,  2.97it/s]\n",
      "117it [00:32,  3.27it/s]\n",
      "118it [00:32,  3.54it/s]\n",
      "119it [00:33,  2.98it/s]\n",
      "120it [00:33,  3.31it/s]\n",
      "121it [00:33,  3.44it/s]\n",
      "122it [00:33,  3.83it/s]\n",
      "123it [00:34,  4.01it/s]\n",
      "124it [00:34,  4.11it/s]\n",
      "125it [00:34,  3.20it/s]\n",
      "126it [00:35,  2.70it/s]\n",
      "127it [00:35,  2.59it/s]\n",
      "128it [00:36,  2.82it/s]\n",
      "129it [00:36,  3.01it/s]\n",
      "130it [00:36,  2.81it/s]"
     ]
    },
    {
     "name": "stdout",
     "output_type": "stream",
     "text": [
      "list index out of range\n"
     ]
    },
    {
     "name": "stderr",
     "output_type": "stream",
     "text": [
      "\n",
      "131it [00:37,  2.72it/s]\n",
      "132it [00:37,  2.71it/s]\n",
      "133it [00:37,  3.07it/s]\n",
      "134it [00:38,  2.84it/s]\n",
      "135it [00:38,  3.12it/s]\n",
      "136it [00:38,  3.26it/s]\n",
      "137it [00:38,  3.47it/s]\n",
      "138it [00:39,  3.51it/s]\n",
      "139it [00:39,  3.11it/s]\n",
      "140it [00:39,  3.36it/s]\n",
      "141it [00:40,  3.64it/s]\n",
      "142it [00:40,  3.88it/s]\n",
      "143it [00:40,  4.06it/s]\n",
      "144it [00:40,  3.61it/s]\n",
      "145it [00:41,  3.74it/s]\n",
      "146it [00:41,  3.88it/s]\n",
      "147it [00:41,  3.74it/s]"
     ]
    },
    {
     "name": "stdout",
     "output_type": "stream",
     "text": [
      "list index out of range\n"
     ]
    },
    {
     "name": "stderr",
     "output_type": "stream",
     "text": [
      "\n",
      "148it [00:42,  3.49it/s]\n",
      "149it [00:42,  3.67it/s]\n",
      "150it [00:42,  3.76it/s]\n",
      "151it [00:42,  3.08it/s]\n",
      "152it [00:43,  3.38it/s]\n",
      "153it [00:43,  3.45it/s]\n",
      "154it [00:43,  3.57it/s]\n",
      "155it [00:43,  3.70it/s]\n",
      "156it [00:44,  3.84it/s]\n",
      "157it [00:44,  3.68it/s]\n",
      "158it [00:44,  3.82it/s]\n",
      "159it [00:45,  3.83it/s]\n",
      "160it [00:45,  4.03it/s]\n",
      "161it [00:45,  2.94it/s]\n",
      "162it [00:46,  3.15it/s]\n",
      "163it [00:46,  3.51it/s]\n",
      "164it [00:46,  3.64it/s]\n",
      "165it [00:46,  3.15it/s]\n",
      "166it [00:47,  3.39it/s]\n",
      "167it [00:47,  2.98it/s]\n",
      "168it [00:47,  3.39it/s]\n",
      "169it [00:48,  3.43it/s]\n",
      "170it [00:48,  2.60it/s]\n",
      "171it [00:48,  3.00it/s]\n",
      "172it [00:49,  3.12it/s]\n",
      "173it [00:49,  2.81it/s]\n",
      "174it [00:49,  3.19it/s]\n",
      "175it [00:50,  3.41it/s]\n",
      "176it [00:50,  3.69it/s]\n",
      "177it [00:50,  3.93it/s]\n",
      "178it [00:50,  4.00it/s]\n",
      "179it [00:51,  3.69it/s]\n",
      "180it [00:51,  3.89it/s]\n",
      "181it [00:51,  3.29it/s]\n",
      "182it [00:52,  3.09it/s]\n",
      "183it [00:52,  3.29it/s]\n",
      "184it [00:52,  3.44it/s]\n",
      "185it [00:52,  3.48it/s]\n",
      "186it [00:53,  3.65it/s]\n",
      "187it [00:53,  3.41it/s]\n",
      "188it [00:53,  3.62it/s]\n",
      "189it [00:53,  3.94it/s]\n",
      "190it [00:54,  4.11it/s]\n",
      "191it [00:54,  3.09it/s]\n",
      "192it [00:54,  3.38it/s]\n",
      "193it [00:55,  2.90it/s]\n",
      "194it [00:55,  3.27it/s]\n",
      "195it [00:56,  2.74it/s]\n",
      "196it [00:56,  3.14it/s]\n",
      "197it [00:56,  3.38it/s]\n",
      "198it [00:56,  3.54it/s]"
     ]
    },
    {
     "name": "stdout",
     "output_type": "stream",
     "text": [
      "list index out of range\n"
     ]
    },
    {
     "name": "stderr",
     "output_type": "stream",
     "text": [
      "\n",
      "199it [00:57,  3.13it/s]\n",
      "200it [00:57,  3.37it/s]\n",
      "201it [00:57,  3.47it/s]\n",
      "202it [00:57,  3.56it/s]\n",
      "203it [00:58,  3.72it/s]\n",
      "204it [00:58,  3.64it/s]\n",
      "205it [00:58,  3.75it/s]\n",
      "206it [00:59,  3.18it/s]\n",
      "207it [00:59,  3.43it/s]\n",
      "208it [00:59,  3.57it/s]\n",
      "209it [00:59,  3.71it/s]\n",
      "210it [01:00,  3.84it/s]\n",
      "211it [01:00,  4.20it/s]\n",
      "212it [01:00,  3.43it/s]\n",
      "213it [01:01,  3.37it/s]\n",
      "214it [01:01,  3.64it/s]\n",
      "215it [01:01,  3.83it/s]\n",
      "216it [01:01,  4.02it/s]\n",
      "217it [01:01,  4.22it/s]\n",
      "218it [01:02,  4.37it/s]\n",
      "219it [01:02,  4.46it/s]\n",
      "220it [01:02,  4.39it/s]\n",
      "221it [01:02,  4.26it/s]\n",
      "222it [01:03,  4.22it/s]\n",
      "223it [01:03,  3.40it/s]\n",
      "224it [01:03,  3.56it/s]\n",
      "225it [01:03,  3.73it/s]\n",
      "226it [01:04,  3.81it/s]\n",
      "227it [01:04,  3.18it/s]\n",
      "228it [01:04,  3.43it/s]\n",
      "229it [01:05,  3.05it/s]\n",
      "230it [01:05,  3.18it/s]\n",
      "231it [01:05,  3.26it/s]\n",
      "232it [01:06,  2.93it/s]\n",
      "233it [01:06,  3.15it/s]\n",
      "234it [01:06,  3.44it/s]\n",
      "235it [01:07,  3.73it/s]\n",
      "236it [01:07,  3.96it/s]\n",
      "237it [01:07,  3.80it/s]\n",
      "238it [01:07,  3.90it/s]\n",
      "239it [01:08,  3.85it/s]\n",
      "240it [01:08,  3.93it/s]\n",
      "241it [01:08,  3.98it/s]\n",
      "242it [01:08,  3.35it/s]\n",
      "243it [01:09,  3.47it/s]\n",
      "244it [01:09,  3.53it/s]\n",
      "245it [01:09,  3.54it/s]\n",
      "246it [01:09,  3.73it/s]\n",
      "247it [01:10,  3.91it/s]\n",
      "248it [01:10,  4.00it/s]\n",
      "249it [01:10,  3.87it/s]\n",
      "250it [01:10,  4.04it/s]\n",
      "251it [01:11,  4.16it/s]\n",
      "252it [01:11,  4.13it/s]\n",
      "253it [01:11,  4.05it/s]\n",
      "254it [01:11,  4.04it/s]\n",
      "255it [01:12,  4.33it/s]\n",
      "256it [01:12,  4.31it/s]\n",
      "257it [01:12,  3.57it/s]\n",
      "258it [01:13,  3.02it/s]\n",
      "259it [01:13,  3.17it/s]\n",
      "260it [01:13,  3.37it/s]\n",
      "261it [01:13,  3.54it/s]\n",
      "262it [01:14,  3.71it/s]\n",
      "263it [01:14,  3.90it/s]\n",
      "264it [01:14,  2.97it/s]\n",
      "265it [01:15,  2.65it/s]\n",
      "266it [01:15,  3.01it/s]\n",
      "267it [01:16,  2.67it/s]\n",
      "268it [01:16,  2.48it/s]\n",
      "269it [01:16,  2.81it/s]\n",
      "270it [01:17,  3.19it/s]\n",
      "271it [01:17,  3.43it/s]\n",
      "272it [01:17,  3.62it/s]\n",
      "273it [01:17,  3.85it/s]\n",
      "274it [01:17,  3.97it/s]\n",
      "275it [01:18,  3.98it/s]\n",
      "276it [01:18,  3.37it/s]\n",
      "277it [01:18,  3.57it/s]\n",
      "278it [01:19,  3.66it/s]\n",
      "279it [01:19,  3.79it/s]\n",
      "280it [01:19,  3.37it/s]\n",
      "281it [01:20,  2.90it/s]\n",
      "282it [01:20,  3.18it/s]\n",
      "283it [01:20,  3.52it/s]\n",
      "284it [01:20,  3.64it/s]\n",
      "285it [01:21,  3.12it/s]\n",
      "286it [01:21,  3.49it/s]\n",
      "287it [01:21,  3.61it/s]\n",
      "288it [01:22,  3.80it/s]\n",
      "289it [01:22,  3.89it/s]\n",
      "290it [01:22,  3.93it/s]\n",
      "291it [01:22,  3.45it/s]\n",
      "292it [01:23,  3.66it/s]\n",
      "293it [01:23,  3.81it/s]\n",
      "294it [01:23,  3.94it/s]\n",
      "295it [01:24,  3.19it/s]\n",
      "296it [01:24,  2.94it/s]\n",
      "297it [01:24,  2.72it/s]\n",
      "298it [01:25,  2.64it/s]\n",
      "299it [01:25,  2.98it/s]\n",
      "300it [01:25,  3.01it/s]\n",
      "301it [01:26,  2.96it/s]\n",
      "302it [01:26,  3.11it/s]\n",
      "303it [01:27,  2.61it/s]\n",
      "304it [01:27,  2.82it/s]\n",
      "305it [01:27,  3.00it/s]"
     ]
    },
    {
     "name": "stdout",
     "output_type": "stream",
     "text": [
      "list index out of range\n"
     ]
    },
    {
     "name": "stderr",
     "output_type": "stream",
     "text": [
      "\n",
      "306it [01:27,  2.89it/s]\n",
      "307it [01:28,  3.23it/s]\n",
      "308it [01:28,  3.49it/s]\n",
      "309it [01:28,  3.72it/s]\n",
      "310it [01:28,  3.82it/s]\n",
      "311it [01:29,  4.04it/s]\n",
      "312it [01:29,  3.48it/s]\n",
      "313it [01:29,  3.77it/s]\n",
      "314it [01:29,  3.73it/s]\n",
      "315it [01:30,  3.84it/s]\n",
      "316it [01:30,  3.24it/s]\n",
      "317it [01:30,  3.57it/s]\n",
      "318it [01:31,  3.75it/s]\n",
      "319it [01:31,  3.88it/s]\n",
      "320it [01:31,  4.01it/s]\n",
      "321it [01:32,  3.17it/s]\n",
      "322it [01:32,  3.36it/s]\n",
      "323it [01:32,  3.58it/s]\n",
      "324it [01:32,  3.78it/s]\n",
      "325it [01:33,  3.72it/s]\n",
      "326it [01:33,  3.59it/s]\n",
      "327it [01:33,  3.73it/s]\n",
      "328it [01:33,  3.95it/s]\n",
      "329it [01:34,  3.14it/s]\n",
      "330it [01:34,  3.06it/s]\n",
      "331it [01:34,  3.28it/s]\n",
      "332it [01:35,  2.95it/s]\n",
      "333it [01:35,  3.25it/s]\n",
      "334it [01:35,  3.46it/s]\n",
      "335it [01:36,  3.54it/s]\n",
      "336it [01:36,  3.92it/s]\n",
      "337it [01:36,  4.09it/s]\n",
      "338it [01:36,  3.19it/s]\n",
      "339it [01:37,  3.31it/s]\n",
      "340it [01:37,  2.69it/s]\n",
      "341it [01:37,  3.06it/s]\n",
      "342it [01:38,  3.36it/s]\n",
      "343it [01:38,  3.62it/s]\n",
      "344it [01:38,  3.80it/s]\n",
      "345it [01:38,  3.96it/s]\n",
      "346it [01:39,  4.05it/s]\n",
      "347it [01:39,  4.21it/s]\n",
      "348it [01:39,  4.12it/s]\n",
      "349it [01:39,  4.20it/s]\n",
      "350it [01:40,  3.31it/s]\n",
      "351it [01:40,  3.59it/s]\n",
      "352it [01:40,  3.52it/s]\n",
      "353it [01:41,  3.45it/s]"
     ]
    },
    {
     "name": "stdout",
     "output_type": "stream",
     "text": [
      "list index out of range\n"
     ]
    },
    {
     "name": "stderr",
     "output_type": "stream",
     "text": [
      "\n",
      "354it [01:41,  3.19it/s]\n",
      "355it [01:41,  3.31it/s]\n",
      "356it [01:41,  3.49it/s]"
     ]
    },
    {
     "name": "stdout",
     "output_type": "stream",
     "text": [
      "list index out of range\n"
     ]
    },
    {
     "name": "stderr",
     "output_type": "stream",
     "text": [
      "\n",
      "357it [01:42,  3.18it/s]\n",
      "358it [01:42,  2.85it/s]\n",
      "359it [01:42,  3.21it/s]\n",
      "360it [01:43,  3.61it/s]\n",
      "361it [01:43,  3.86it/s]\n",
      "362it [01:43,  3.14it/s]\n",
      "363it [01:44,  3.45it/s]\n",
      "364it [01:44,  3.54it/s]\n",
      "365it [01:44,  3.42it/s]\n",
      "366it [01:45,  2.92it/s]\n",
      "367it [01:45,  3.20it/s]\n",
      "368it [01:45,  2.77it/s]\n",
      "369it [01:46,  3.15it/s]\n",
      "370it [01:46,  3.30it/s]\n",
      "371it [01:46,  3.08it/s]"
     ]
    },
    {
     "name": "stdout",
     "output_type": "stream",
     "text": [
      "list index out of range\n"
     ]
    },
    {
     "name": "stderr",
     "output_type": "stream",
     "text": [
      "\n",
      "372it [01:47,  2.98it/s]\n",
      "373it [01:47,  3.21it/s]\n",
      "374it [01:47,  3.29it/s]\n",
      "375it [01:48,  2.83it/s]\n",
      "376it [01:48,  3.12it/s]\n",
      "377it [01:48,  3.53it/s]\n",
      "378it [01:48,  3.53it/s]\n",
      "379it [01:49,  3.74it/s]\n",
      "380it [01:49,  3.79it/s]\n",
      "381it [01:49,  3.22it/s]\n",
      "382it [01:49,  3.41it/s]\n",
      "383it [01:50,  3.38it/s]\n",
      "384it [01:50,  3.65it/s]\n",
      "385it [01:50,  3.72it/s]\n",
      "386it [01:51,  2.93it/s]\n",
      "387it [01:51,  3.23it/s]\n",
      "388it [01:51,  2.97it/s]\n",
      "389it [01:52,  3.25it/s]\n",
      "390it [01:52,  3.47it/s]\n",
      "391it [01:52,  3.62it/s]\n",
      "392it [01:53,  3.10it/s]\n",
      "393it [01:53,  3.32it/s]\n",
      "394it [01:53,  3.62it/s]\n",
      "395it [01:53,  3.79it/s]\n",
      "396it [01:54,  3.83it/s]\n",
      "397it [01:54,  3.78it/s]\n",
      "398it [01:54,  3.82it/s]\n",
      "399it [01:54,  3.96it/s]\n",
      "400it [01:54,  4.13it/s]\n",
      "401it [01:55,  3.72it/s]\n",
      "402it [01:55,  4.00it/s]\n",
      "403it [01:55,  4.20it/s]\n",
      "404it [01:56,  3.28it/s]\n",
      "405it [01:56,  3.54it/s]\n",
      "406it [01:56,  3.56it/s]\n",
      "407it [01:56,  3.75it/s]\n",
      "408it [01:57,  3.82it/s]\n",
      "409it [01:57,  3.82it/s]\n",
      "410it [01:57,  3.25it/s]\n",
      "411it [01:58,  2.89it/s]\n",
      "412it [01:58,  3.18it/s]\n",
      "413it [01:58,  2.95it/s]\n",
      "414it [01:59,  3.25it/s]\n",
      "415it [01:59,  2.90it/s]\n",
      "416it [02:00,  2.48it/s]\n",
      "417it [02:00,  2.86it/s]\n",
      "418it [02:00,  3.29it/s]\n",
      "419it [02:00,  3.55it/s]\n",
      "420it [02:01,  3.76it/s]\n",
      "421it [02:01,  4.05it/s]\n",
      "422it [02:01,  3.53it/s]\n",
      "423it [02:01,  3.61it/s]\n",
      "424it [02:02,  3.67it/s]\n",
      "425it [02:02,  3.84it/s]\n",
      "426it [02:02,  3.21it/s]\n",
      "427it [02:03,  3.45it/s]\n",
      "428it [02:03,  3.65it/s]\n",
      "429it [02:03,  3.85it/s]\n",
      "430it [02:03,  4.04it/s]\n",
      "431it [02:03,  4.26it/s]\n",
      "432it [02:04,  4.27it/s]\n",
      "433it [02:04,  3.65it/s]\n",
      "434it [02:04,  3.89it/s]\n",
      "435it [02:04,  4.06it/s]\n",
      "436it [02:05,  4.15it/s]\n",
      "437it [02:05,  4.17it/s]\n",
      "438it [02:05,  4.10it/s]\n",
      "439it [02:05,  4.23it/s]\n",
      "440it [02:06,  4.01it/s]\n",
      "441it [02:06,  3.94it/s]\n",
      "442it [02:06,  3.51it/s]\n",
      "443it [02:07,  3.64it/s]\n",
      "444it [02:07,  3.52it/s]\n",
      "445it [02:07,  3.77it/s]\n",
      "446it [02:07,  3.78it/s]\n",
      "447it [02:08,  3.94it/s]\n",
      "448it [02:08,  3.97it/s]\n",
      "449it [02:08,  4.29it/s]\n",
      "450it [02:08,  4.27it/s]\n",
      "451it [02:09,  4.06it/s]\n",
      "452it [02:09,  4.23it/s]\n",
      "453it [02:09,  4.12it/s]\n",
      "454it [02:09,  4.09it/s]\n",
      "455it [02:09,  4.08it/s]\n",
      "456it [02:10,  3.97it/s]\n",
      "457it [02:10,  3.87it/s]\n",
      "458it [02:10,  4.06it/s]\n",
      "459it [02:10,  4.03it/s]\n",
      "460it [02:11,  4.22it/s]\n",
      "461it [02:11,  4.10it/s]\n",
      "462it [02:11,  4.25it/s]\n",
      "463it [02:12,  3.55it/s]\n",
      "464it [02:12,  3.56it/s]\n",
      "465it [02:12,  3.72it/s]\n",
      "466it [02:12,  3.32it/s]\n",
      "467it [02:13,  3.62it/s]\n",
      "468it [02:13,  3.63it/s]\n",
      "469it [02:13,  3.79it/s]\n",
      "470it [02:13,  3.82it/s]\n",
      "471it [02:14,  4.09it/s]\n",
      "472it [02:14,  3.90it/s]\n",
      "473it [02:14,  3.08it/s]\n",
      "474it [02:15,  2.83it/s]\n",
      "475it [02:15,  2.95it/s]\n",
      "476it [02:15,  3.30it/s]\n",
      "477it [02:16,  3.51it/s]\n",
      "478it [02:16,  3.59it/s]\n",
      "479it [02:16,  3.14it/s]\n",
      "480it [02:17,  3.34it/s]\n",
      "481it [02:17,  3.33it/s]\n",
      "482it [02:17,  3.52it/s]"
     ]
    },
    {
     "name": "stdout",
     "output_type": "stream",
     "text": [
      "list index out of range\n"
     ]
    },
    {
     "name": "stderr",
     "output_type": "stream",
     "text": [
      "\n",
      "483it [02:17,  3.12it/s]\n",
      "484it [02:18,  3.32it/s]\n",
      "485it [02:18,  3.52it/s]\n",
      "486it [02:18,  3.45it/s]\n",
      "487it [02:19,  3.68it/s]\n",
      "488it [02:19,  3.86it/s]\n",
      "489it [02:19,  4.02it/s]\n",
      "490it [02:19,  3.65it/s]\n",
      "491it [02:20,  3.06it/s]\n",
      "492it [02:20,  3.31it/s]\n",
      "493it [02:20,  3.54it/s]\n",
      "494it [02:20,  3.66it/s]\n",
      "495it [02:21,  3.81it/s]\n",
      "496it [02:21,  4.04it/s]\n",
      "497it [02:21,  4.13it/s]\n",
      "498it [02:22,  3.54it/s]\n",
      "499it [02:22,  3.74it/s]\n",
      "500it [02:22,  3.97it/s]\n",
      "501it [02:23,  2.91it/s]\n",
      "502it [02:23,  3.26it/s]\n",
      "503it [02:23,  3.39it/s]\n",
      "504it [02:23,  3.39it/s]\n",
      "505it [02:24,  3.69it/s]"
     ]
    },
    {
     "name": "stdout",
     "output_type": "stream",
     "text": [
      "list index out of range\n"
     ]
    },
    {
     "name": "stderr",
     "output_type": "stream",
     "text": [
      "\n",
      "506it [02:24,  3.68it/s]\n",
      "507it [02:24,  3.43it/s]\n",
      "508it [02:24,  3.48it/s]\n",
      "509it [02:25,  3.66it/s]\n",
      "510it [02:25,  3.73it/s]\n",
      "511it [02:25,  3.30it/s]\n",
      "512it [02:26,  2.79it/s]\n",
      "513it [02:26,  2.77it/s]\n",
      "514it [02:27,  2.81it/s]\n",
      "515it [02:27,  2.62it/s]\n",
      "516it [02:27,  2.88it/s]"
     ]
    },
    {
     "name": "stdout",
     "output_type": "stream",
     "text": [
      "list index out of range\n"
     ]
    },
    {
     "name": "stderr",
     "output_type": "stream",
     "text": [
      "\n",
      "517it [02:28,  2.64it/s]\n",
      "518it [02:28,  2.72it/s]\n",
      "519it [02:28,  3.11it/s]\n",
      "520it [02:29,  3.05it/s]\n",
      "521it [02:29,  3.34it/s]\n",
      "522it [02:29,  2.56it/s]\n",
      "523it [02:30,  2.47it/s]\n",
      "524it [02:30,  2.76it/s]\n",
      "525it [02:31,  2.62it/s]\n",
      "526it [02:31,  2.47it/s]\n",
      "527it [02:31,  2.89it/s]\n",
      "528it [02:31,  3.15it/s]\n",
      "529it [02:32,  3.37it/s]\n",
      "530it [02:32,  3.37it/s]\n",
      "531it [02:32,  3.45it/s]\n",
      "532it [02:32,  3.77it/s]\n",
      "533it [02:33,  3.78it/s]\n",
      "534it [02:33,  3.84it/s]\n",
      "535it [02:33,  4.08it/s]\n",
      "536it [02:33,  3.98it/s]\n",
      "537it [02:34,  4.09it/s]\n",
      "538it [02:34,  3.70it/s]\n",
      "539it [02:34,  3.92it/s]\n",
      "540it [02:34,  4.06it/s]\n",
      "541it [02:35,  4.17it/s]\n",
      "542it [02:35,  4.29it/s]\n",
      "543it [02:35,  4.33it/s]\n",
      "544it [02:35,  4.32it/s]\n",
      "545it [02:36,  4.42it/s]\n",
      "546it [02:36,  4.18it/s]\n",
      "547it [02:36,  4.32it/s]\n",
      "548it [02:36,  4.26it/s]"
     ]
    }
   ],
   "source": [
    "responses = defaultdict(dict)\n",
    "for i, row in tqdm(communes.iterrows()):\n",
    "    location = row['address']\n",
    "    lat, lon, response = gcode_gmaps(location)\n",
    "#     sleep(1)\n",
    "    \n",
    "    responses[row['commune']] = response\n",
    "    \n",
    "    communes.loc[communes.address == location, 'lat'] = lat\n",
    "    communes.loc[communes.address == location, 'lon'] = lon\n",
    "    \n",
    "with open('communes_responses_google.json', 'w') as outfile:\n",
    "    json.dump(responses, outfile)"
   ]
  },
  {
   "cell_type": "code",
   "execution_count": 100,
   "metadata": {},
   "outputs": [
    {
     "data": {
      "text/plain": [
       "<matplotlib.axes._subplots.AxesSubplot at 0x26333b4be10>"
      ]
     },
     "execution_count": 100,
     "metadata": {},
     "output_type": "execute_result"
    },
    {
     "data": {
      "image/png": "[encoded data removed]",
      "text/plain": [
       "<Figure size 432x288 with 1 Axes>"
      ]
     },
     "metadata": {
      "needs_background": "light"
     },
     "output_type": "display_data"
    }
   ],
   "source": [
    "communes.plot.scatter('lon', 'lat')"
   ]
  },
  {
   "cell_type": "code",
   "execution_count": 108,
   "metadata": {},
   "outputs": [],
   "source": [
    "fix_my_communes = {\n",
    "    'Wymbritseradiel' : [52.999456, 5.578561],\n",
    "    'Lemsterland' : [52.85, 5.716667],\n",
    "    'Wûnseradiel' : [53.1, 5.466667],\n",
    "    'Wvnseradiel' : [53.1, 5.466667],\n",
    "    'Skarsterlân' : [52.966667, 5.783333],\n",
    "    'Menarmeradiel' : [53.216667, 5.666667],\n",
    "    'Jacobswoude' : [52.2, 4.65],\n",
    "    'Harenkarspel' : [52.73, 4.75],\n",
    "    'Nissewaard' : [51.8283, 4.2792],\n",
    "    'SkarsterlGn' : [52.966667, 5.783333]\n",
    "}"
   ]
  },
  {
   "cell_type": "code",
   "execution_count": 113,
   "metadata": {},
   "outputs": [],
   "source": [
    "communes.loc[communes.lat.isna(), 'lat'] = communes.loc[communes.lat.isna(), 'commune'].map(fix_my_communes).str[0]\n",
    "communes.loc[communes.lat.isna(), 'lon'] = communes.loc[communes.lon.isna(), 'commune'].map(fix_my_communes).str[1]"
   ]
  },
  {
   "cell_type": "code",
   "execution_count": 115,
   "metadata": {},
   "outputs": [],
   "source": [
    "coordinates_map = {commune : {'lat' : lat, 'lon' : lon} for commune, lat, lon in zip(communes.commune, communes.lat, communes.lon)}\n",
    "\n",
    "with open('Variables/mappers/coordinates_map_google_geocode.json', 'w') as outfile:\n",
    "    json.dump(coordinates_map, outfile)"
   ]
  },
  {
   "cell_type": "code",
   "execution_count": null,
   "metadata": {},
   "outputs": [],
   "source": [
    "import geopandas as gpd\n",
    "from shapely.geometry import Point"
   ]
  },
  {
   "cell_type": "code",
   "execution_count": 116,
   "metadata": {},
   "outputs": [
    {
     "ename": "CPLE_AppDefinedError",
     "evalue": "b'sqlite3_exec(CREATE VIRTUAL TABLE \"rtree_communes_points_google_geom\" USING rtree(id, minx, maxx, miny, maxy)) failed: no such module: rtree'",
     "output_type": "error",
     "traceback": [
      "\u001b[1;31m---------------------------------------------------------------------------\u001b[0m",
      "\u001b[1;31mCPLE_AppDefinedError\u001b[0m                      Traceback (most recent call last)",
      "\u001b[1;32mfiona/_err.pyx\u001b[0m in \u001b[0;36mfiona._err.GDALErrCtxManager.__exit__\u001b[1;34m()\u001b[0m\n",
      "\u001b[1;31mCPLE_AppDefinedError\u001b[0m: b'sqlite3_exec(CREATE VIRTUAL TABLE \"rtree_communes_points_google_geom\" USING rtree(id, minx, maxx, miny, maxy)) failed: no such module: rtree'"
     ]
    },
    {
     "name": "stderr",
     "output_type": "stream",
     "text": [
      "Exception ignored in: 'fiona._shim.gdal_flush_cache'\n",
      "Traceback (most recent call last):\n",
      "  File \"fiona/_err.pyx\", line 201, in fiona._err.GDALErrCtxManager.__exit__\n",
      "fiona._err.CPLE_AppDefinedError: b'sqlite3_exec(CREATE VIRTUAL TABLE \"rtree_communes_points_google_geom\" USING rtree(id, minx, maxx, miny, maxy)) failed: no such module: rtree'\n"
     ]
    }
   ],
   "source": [
    "geo_points_communes = gpd.GeoDataFrame(communes, \n",
    "                                       crs = {'init' : 'epsg:4326'}, \n",
    "                                       geometry = [Point(xy) for xy in zip(communes.lon, communes.lat)])\n",
    "\n",
    "geo_points_communes.to_file('communes_points_google.gpkg', driver = 'GPKG')"
   ]
  },
  {
   "cell_type": "markdown",
   "metadata": {},
   "source": [
    "# Коммуны к коммунам 2018 г."
   ]
  },
  {
   "cell_type": "markdown",
   "metadata": {},
   "source": [
    "## Проверка кооректности геокодирования"
   ]
  },
  {
   "cell_type": "code",
   "execution_count": 9,
   "metadata": {},
   "outputs": [],
   "source": [
    "with open('Variables/mappers/coordinates_map_google_geocode.json') as infile:\n",
    "    coordinates_map = json.load(infile)"
   ]
  },
  {
   "cell_type": "code",
   "execution_count": 11,
   "metadata": {},
   "outputs": [],
   "source": [
    "with open('communes_responses_google.json') as infile:\n",
    "    responses = json.load(infile)"
   ]
  },
  {
   "cell_type": "code",
   "execution_count": 21,
   "metadata": {},
   "outputs": [
    {
     "data": {
      "text/plain": [
       "[]"
      ]
     },
     "execution_count": 21,
     "metadata": {},
     "output_type": "execute_result"
    }
   ],
   "source": [
    "responses['Wûnseradiel']"
   ]
  },
  {
   "cell_type": "markdown",
   "metadata": {},
   "source": [
    "___"
   ]
  },
  {
   "cell_type": "code",
   "execution_count": 10,
   "metadata": {},
   "outputs": [],
   "source": [
    "geo_points_communes = gpd.read_file('communes_points_google.gpkg')\n",
    "communes_2018 = gpd.read_file('../qgis/base/Netherlands_communes.gpkg')"
   ]
  },
  {
   "cell_type": "code",
   "execution_count": 12,
   "metadata": {},
   "outputs": [
    {
     "data": {
      "text/plain": [
       "<matplotlib.axes._subplots.AxesSubplot at 0x18d61931ac8>"
      ]
     },
     "execution_count": 12,
     "metadata": {},
     "output_type": "execute_result"
    },
    {
     "data": {
      "image/png": "[encoded data removed]",
      "text/plain": [
       "<Figure size 432x288 with 1 Axes>"
      ]
     },
     "metadata": {
      "needs_background": "light"
     },
     "output_type": "display_data"
    }
   ],
   "source": [
    "communes_2018.plot()"
   ]
  },
  {
   "cell_type": "code",
   "execution_count": 13,
   "metadata": {},
   "outputs": [
    {
     "data": {
      "text/html": [
       "<div>\n",
       "<style scoped>\n",
       "    .dataframe tbody tr th:only-of-type {\n",
       "        vertical-align: middle;\n",
       "    }\n",
       "\n",
       "    .dataframe tbody tr th {\n",
       "        vertical-align: top;\n",
       "    }\n",
       "\n",
       "    .dataframe thead th {\n",
       "        text-align: right;\n",
       "    }\n",
       "</style>\n",
       "<table border=\"1\" class=\"dataframe\">\n",
       "  <thead>\n",
       "    <tr style=\"text-align: right;\">\n",
       "      <th></th>\n",
       "      <th>commune</th>\n",
       "      <th>address</th>\n",
       "      <th>lat</th>\n",
       "      <th>lon</th>\n",
       "      <th>geometry</th>\n",
       "    </tr>\n",
       "  </thead>\n",
       "  <tbody>\n",
       "    <tr>\n",
       "      <th>305</th>\n",
       "      <td>Geen aankomstpunt in Nederland</td>\n",
       "      <td>Geen aankomstpunt in Nederland, Netherlands</td>\n",
       "      <td>NaN</td>\n",
       "      <td>NaN</td>\n",
       "      <td>POINT (nan nan)</td>\n",
       "    </tr>\n",
       "    <tr>\n",
       "      <th>356</th>\n",
       "      <td>0.0</td>\n",
       "      <td>0.0, Netherlands</td>\n",
       "      <td>NaN</td>\n",
       "      <td>NaN</td>\n",
       "      <td>POINT (nan nan)</td>\n",
       "    </tr>\n",
       "  </tbody>\n",
       "</table>\n",
       "</div>"
      ],
      "text/plain": [
       "                            commune  \\\n",
       "305  Geen aankomstpunt in Nederland   \n",
       "356                             0.0   \n",
       "\n",
       "                                         address  lat  lon         geometry  \n",
       "305  Geen aankomstpunt in Nederland, Netherlands  NaN  NaN  POINT (nan nan)  \n",
       "356                             0.0, Netherlands  NaN  NaN  POINT (nan nan)  "
      ]
     },
     "execution_count": 13,
     "metadata": {},
     "output_type": "execute_result"
    }
   ],
   "source": [
    "geo_points_communes[geo_points_communes.lon.isna()]"
   ]
  },
  {
   "cell_type": "code",
   "execution_count": 36,
   "metadata": {},
   "outputs": [],
   "source": [
    "fix_my_communes = {\n",
    "    'Wymbritseradiel' : [52.999456, 5.578561],\n",
    "    'Lemsterland' : [52.85, 5.716667],\n",
    "    'Wûnseradiel' : [53.1, 5.466667],\n",
    "    'Wvnseradiel' : [53.1, 5.466667],\n",
    "    'Skarsterlân' : [52.966667, 5.783333],\n",
    "    'Menarmeradiel' : [53.216667, 5.666667],\n",
    "    'Jacobswoude' : [52.2, 4.65],\n",
    "    'Harenkarspel' : [52.73, 4.75],\n",
    "    'Nissewaard' : [51.8283, 4.2792],\n",
    "    'SkarsterlGn' : [52.966667, 5.783333]\n",
    "}"
   ]
  },
  {
   "cell_type": "code",
   "execution_count": 37,
   "metadata": {},
   "outputs": [],
   "source": [
    "geo_points_communes.loc[geo_points_communes.lat.isna(), 'lat'] = geo_points_communes.loc[geo_points_communes.lat.isna(), 'commune'].map(fix_my_communes).str[0]\n",
    "geo_points_communes.loc[geo_points_communes.lon.isna(), 'lon'] = geo_points_communes.loc[geo_points_communes.lon.isna(), 'commune'].map(fix_my_communes).str[1]"
   ]
  },
  {
   "cell_type": "code",
   "execution_count": 38,
   "metadata": {},
   "outputs": [
    {
     "data": {
      "text/html": [
       "<div>\n",
       "<style scoped>\n",
       "    .dataframe tbody tr th:only-of-type {\n",
       "        vertical-align: middle;\n",
       "    }\n",
       "\n",
       "    .dataframe tbody tr th {\n",
       "        vertical-align: top;\n",
       "    }\n",
       "\n",
       "    .dataframe thead th {\n",
       "        text-align: right;\n",
       "    }\n",
       "</style>\n",
       "<table border=\"1\" class=\"dataframe\">\n",
       "  <thead>\n",
       "    <tr style=\"text-align: right;\">\n",
       "      <th></th>\n",
       "      <th>commune</th>\n",
       "      <th>address</th>\n",
       "      <th>lat</th>\n",
       "      <th>lon</th>\n",
       "      <th>geometry</th>\n",
       "    </tr>\n",
       "  </thead>\n",
       "  <tbody>\n",
       "    <tr>\n",
       "      <th>305</th>\n",
       "      <td>Geen aankomstpunt in Nederland</td>\n",
       "      <td>Geen aankomstpunt in Nederland, Netherlands</td>\n",
       "      <td>NaN</td>\n",
       "      <td>NaN</td>\n",
       "      <td>POINT (nan nan)</td>\n",
       "    </tr>\n",
       "    <tr>\n",
       "      <th>356</th>\n",
       "      <td>0.0</td>\n",
       "      <td>0.0, Netherlands</td>\n",
       "      <td>NaN</td>\n",
       "      <td>NaN</td>\n",
       "      <td>POINT (nan nan)</td>\n",
       "    </tr>\n",
       "  </tbody>\n",
       "</table>\n",
       "</div>"
      ],
      "text/plain": [
       "                            commune  \\\n",
       "305  Geen aankomstpunt in Nederland   \n",
       "356                             0.0   \n",
       "\n",
       "                                         address  lat  lon         geometry  \n",
       "305  Geen aankomstpunt in Nederland, Netherlands  NaN  NaN  POINT (nan nan)  \n",
       "356                             0.0, Netherlands  NaN  NaN  POINT (nan nan)  "
      ]
     },
     "execution_count": 38,
     "metadata": {},
     "output_type": "execute_result"
    }
   ],
   "source": [
    "geo_points_communes[geo_points_communes.lon.isna()]"
   ]
  },
  {
   "cell_type": "code",
   "execution_count": 43,
   "metadata": {},
   "outputs": [],
   "source": [
    "geo_points_communes['lat'] = geo_points_communes['lat'].astype(float)\n",
    "geo_points_communes['lon'] = geo_points_communes['lon'].astype(float)"
   ]
  },
  {
   "cell_type": "code",
   "execution_count": 44,
   "metadata": {},
   "outputs": [
    {
     "ename": "CPLE_AppDefinedError",
     "evalue": "b'sqlite3_exec(CREATE VIRTUAL TABLE \"rtree_communes_points_google_geom\" USING rtree(id, minx, maxx, miny, maxy)) failed: no such module: rtree'",
     "output_type": "error",
     "traceback": [
      "\u001b[1;31m---------------------------------------------------------------------------\u001b[0m",
      "\u001b[1;31mCPLE_AppDefinedError\u001b[0m                      Traceback (most recent call last)",
      "\u001b[1;32mfiona/_err.pyx\u001b[0m in \u001b[0;36mfiona._err.GDALErrCtxManager.__exit__\u001b[1;34m()\u001b[0m\n",
      "\u001b[1;31mCPLE_AppDefinedError\u001b[0m: b'sqlite3_exec(CREATE VIRTUAL TABLE \"rtree_communes_points_google_geom\" USING rtree(id, minx, maxx, miny, maxy)) failed: no such module: rtree'"
     ]
    },
    {
     "name": "stderr",
     "output_type": "stream",
     "text": [
      "Exception ignored in: 'fiona._shim.gdal_flush_cache'\n",
      "Traceback (most recent call last):\n",
      "  File \"fiona/_err.pyx\", line 201, in fiona._err.GDALErrCtxManager.__exit__\n",
      "fiona._err.CPLE_AppDefinedError: b'sqlite3_exec(CREATE VIRTUAL TABLE \"rtree_communes_points_google_geom\" USING rtree(id, minx, maxx, miny, maxy)) failed: no such module: rtree'\n"
     ]
    }
   ],
   "source": [
    "geo_points_communes = gpd.GeoDataFrame(geo_points_communes, \n",
    "                                       crs = {'init' : 'epsg:4326'}, \n",
    "                                       geometry = [Point(xy) for xy in zip(geo_points_communes.lon, geo_points_communes.lat)])\n",
    "\n",
    "geo_points_communes.to_file('communes_points_google.gpkg', driver = 'GPKG')"
   ]
  },
  {
   "cell_type": "code",
   "execution_count": 14,
   "metadata": {},
   "outputs": [
    {
     "name": "stderr",
     "output_type": "stream",
     "text": [
      "C:\\Users\\mtopn\\Anaconda3\\lib\\site-packages\\numpy\\lib\\function_base.py:2167: RuntimeWarning: invalid value encountered in ? (vectorized)\n",
      "  outputs = ufunc(*inputs)\n"
     ]
    },
    {
     "data": {
      "text/html": [
       "<div>\n",
       "<style scoped>\n",
       "    .dataframe tbody tr th:only-of-type {\n",
       "        vertical-align: middle;\n",
       "    }\n",
       "\n",
       "    .dataframe tbody tr th {\n",
       "        vertical-align: top;\n",
       "    }\n",
       "\n",
       "    .dataframe thead th {\n",
       "        text-align: right;\n",
       "    }\n",
       "</style>\n",
       "<table border=\"1\" class=\"dataframe\">\n",
       "  <thead>\n",
       "    <tr style=\"text-align: right;\">\n",
       "      <th></th>\n",
       "      <th>NAME</th>\n",
       "      <th>POPULATION</th>\n",
       "      <th>Area</th>\n",
       "      <th>DENSITY</th>\n",
       "      <th>geometry</th>\n",
       "      <th>index_right</th>\n",
       "      <th>commune</th>\n",
       "      <th>address</th>\n",
       "      <th>lat</th>\n",
       "      <th>lon</th>\n",
       "    </tr>\n",
       "  </thead>\n",
       "  <tbody>\n",
       "    <tr>\n",
       "      <th>0</th>\n",
       "      <td>Aa en Hunze</td>\n",
       "      <td>25390</td>\n",
       "      <td>279914646</td>\n",
       "      <td>90.71</td>\n",
       "      <td>(POLYGON ((6.944836772102481 52.99215596570361...</td>\n",
       "      <td>487</td>\n",
       "      <td>Aa en Hunze</td>\n",
       "      <td>Aa en Hunze, Netherlands</td>\n",
       "      <td>53.010485</td>\n",
       "      <td>6.749528</td>\n",
       "    </tr>\n",
       "    <tr>\n",
       "      <th>1</th>\n",
       "      <td>Assen</td>\n",
       "      <td>67708</td>\n",
       "      <td>83621452</td>\n",
       "      <td>809.70</td>\n",
       "      <td>(POLYGON ((6.568604595030538 52.94576501347922...</td>\n",
       "      <td>102</td>\n",
       "      <td>Assen</td>\n",
       "      <td>Assen, Netherlands</td>\n",
       "      <td>52.992753</td>\n",
       "      <td>6.564228</td>\n",
       "    </tr>\n",
       "    <tr>\n",
       "      <th>2</th>\n",
       "      <td>Borger-Odoorn</td>\n",
       "      <td>25351</td>\n",
       "      <td>272907572</td>\n",
       "      <td>92.89</td>\n",
       "      <td>(POLYGON ((7.020432471769706 52.87130845397606...</td>\n",
       "      <td>85</td>\n",
       "      <td>Borger-Odoorn</td>\n",
       "      <td>Borger-Odoorn, Netherlands</td>\n",
       "      <td>52.889372</td>\n",
       "      <td>6.888404</td>\n",
       "    </tr>\n",
       "    <tr>\n",
       "      <th>3</th>\n",
       "      <td>Coevorden</td>\n",
       "      <td>35299</td>\n",
       "      <td>299357668</td>\n",
       "      <td>117.92</td>\n",
       "      <td>(POLYGON ((6.815015728840681 52.64786459842855...</td>\n",
       "      <td>287</td>\n",
       "      <td>Coevorden</td>\n",
       "      <td>Coevorden, Netherlands</td>\n",
       "      <td>52.661357</td>\n",
       "      <td>6.741062</td>\n",
       "    </tr>\n",
       "    <tr>\n",
       "      <th>4</th>\n",
       "      <td>De Wolden</td>\n",
       "      <td>23917</td>\n",
       "      <td>226940619</td>\n",
       "      <td>105.39</td>\n",
       "      <td>(POLYGON ((6.454367764449058 52.78519798884386...</td>\n",
       "      <td>545</td>\n",
       "      <td>De Wolden</td>\n",
       "      <td>De Wolden, Netherlands</td>\n",
       "      <td>52.681979</td>\n",
       "      <td>6.366039</td>\n",
       "    </tr>\n",
       "  </tbody>\n",
       "</table>\n",
       "</div>"
      ],
      "text/plain": [
       "            NAME  POPULATION       Area  DENSITY  \\\n",
       "0    Aa en Hunze       25390  279914646    90.71   \n",
       "1          Assen       67708   83621452   809.70   \n",
       "2  Borger-Odoorn       25351  272907572    92.89   \n",
       "3      Coevorden       35299  299357668   117.92   \n",
       "4      De Wolden       23917  226940619   105.39   \n",
       "\n",
       "                                            geometry  index_right  \\\n",
       "0  (POLYGON ((6.944836772102481 52.99215596570361...          487   \n",
       "1  (POLYGON ((6.568604595030538 52.94576501347922...          102   \n",
       "2  (POLYGON ((7.020432471769706 52.87130845397606...           85   \n",
       "3  (POLYGON ((6.815015728840681 52.64786459842855...          287   \n",
       "4  (POLYGON ((6.454367764449058 52.78519798884386...          545   \n",
       "\n",
       "         commune                     address        lat       lon  \n",
       "0    Aa en Hunze    Aa en Hunze, Netherlands  53.010485  6.749528  \n",
       "1          Assen          Assen, Netherlands  52.992753  6.564228  \n",
       "2  Borger-Odoorn  Borger-Odoorn, Netherlands  52.889372  6.888404  \n",
       "3      Coevorden      Coevorden, Netherlands  52.661357  6.741062  \n",
       "4      De Wolden      De Wolden, Netherlands  52.681979  6.366039  "
      ]
     },
     "execution_count": 14,
     "metadata": {},
     "output_type": "execute_result"
    }
   ],
   "source": [
    "joined_communes = gpd.sjoin(communes_2018, geo_points_communes, how = 'left', op = 'intersects')\n",
    "joined_communes.head()"
   ]
  },
  {
   "cell_type": "code",
   "execution_count": 15,
   "metadata": {},
   "outputs": [
    {
     "name": "stdout",
     "output_type": "stream",
     "text": [
      "545 380\n"
     ]
    }
   ],
   "source": [
    "print(len(joined_communes), len(communes_2018))"
   ]
  },
  {
   "cell_type": "code",
   "execution_count": 49,
   "metadata": {},
   "outputs": [],
   "source": [
    "communes_2018['NAME'].to_excel('communes_to_russian.xlsx', index = None)"
   ]
  },
  {
   "cell_type": "code",
   "execution_count": 55,
   "metadata": {},
   "outputs": [],
   "source": [
    "joined_communes = joined_communes.assign(\n",
    "    lat = lambda frame: frame.geometry.centroid.y,\n",
    "    lon = lambda frame: frame.geometry.centroid.x\n",
    ")"
   ]
  },
  {
   "cell_type": "code",
   "execution_count": 16,
   "metadata": {},
   "outputs": [],
   "source": [
    "coordinates_map = {commune : {'lat' : lat, 'lon' : lon} for commune, lat, lon in zip(communes_2018.NAME, \n",
    "                                                                                     communes_2018.geometry.centroid.y, \n",
    "                                                                                     communes_2018.geometry.centroid.x)}\n",
    "\n",
    "with open('Variables/mappers/coordinates_map_final.json', 'w') as outfile:\n",
    "    json.dump(coordinates_map, outfile)"
   ]
  },
  {
   "cell_type": "code",
   "execution_count": 57,
   "metadata": {},
   "outputs": [],
   "source": [
    "names_map = dict(zip(joined_communes.commune, joined_communes.NAME))\n",
    "\n",
    "with open('Variables/mappers/communes_names_map.json', 'w') as outfile:\n",
    "    json.dump(names_map, outfile)"
   ]
  },
  {
   "cell_type": "code",
   "execution_count": 5,
   "metadata": {},
   "outputs": [],
   "source": [
    "communes_to_russian = pd.read_excel('Variables/mappers/communes_to_russian.xlsx')\n",
    "\n",
    "names_to_russian = dict(zip(communes_to_russian['NAME'], communes_to_russian['name_rus']))\n",
    "\n",
    "with open('Variables/mappers/communes_names_toRussian_map.json', 'w') as outfile:\n",
    "    json.dump(names_to_russian, outfile)"
   ]
  },
  {
   "cell_type": "markdown",
   "metadata": {},
   "source": [
    "# Выделение статистики по территориям  на основании данных опроса"
   ]
  },
  {
   "cell_type": "markdown",
   "metadata": {},
   "source": [
    "Опрос содержит некоторые  характеристики домохозяйств, которые являются полезными для использования в дальнейшем ходе исследования, поэтому было принято решение выделить из файлов отдельные статистические слои"
   ]
  },
  {
   "cell_type": "code",
   "execution_count": 185,
   "metadata": {},
   "outputs": [],
   "source": [
    "col_subsets = {\n",
    "    'sex' : 'dem_sex',\n",
    "    'ageGroups' : 'dem_ageGroup',\n",
    "    'occupation' : 'econ_occupation',\n",
    "    'n_working_hours' : 'econ_work',\n",
    "    'education' : 'social_education',\n",
    "    'income_groups' : 'econ_income',\n",
    "    'income_deciles' : 'econ_hh_income_deciles',\n",
    "    'vehicles' : ['n_cars', 'n_bikes', 'n_motorsycles', 'n_mopeds', 'n_mopeds', 'n_other_vehicles'],\n",
    "    'travel_motivation' : 'motiv_motivation',\n",
    "    'trip_duration' : 'time_travel_time'\n",
    "}"
   ]
  },
  {
   "cell_type": "code",
   "execution_count": 186,
   "metadata": {},
   "outputs": [],
   "source": [
    "for datatype in col_subsets:\n",
    "    series_list = []\n",
    "    for year in datasets:\n",
    "        current_dataset = datasets[year]\n",
    "        columns_gr = ['geo_commune']\n",
    "        \n",
    "        if datatype == 'income_groups' and int(year) >= 2010:\n",
    "            subset = 'econ_hh_income'\n",
    "        elif datatype in ['income_deciles', 'trip_duration'] and int(year) < 2010:\n",
    "            continue\n",
    "        else:\n",
    "            subset = col_subsets[datatype]\n",
    "        \n",
    "        \n",
    "        if type(subset) == list:\n",
    "            columns_gr = columns_gr + subset\n",
    "        else:\n",
    "            columns_gr.append(subset)\n",
    "        series_list.append(\n",
    "            current_dataset.groupby(columns_gr)['uid'].nunique()\n",
    "        )\n",
    "    pd.DataFrame(series_list).transpose().to_csv(f'stats_extracted/stats_{datatype}.csv')"
   ]
  },
  {
   "cell_type": "markdown",
   "metadata": {},
   "source": [
    "##  Получение статистики по коммунам"
   ]
  },
  {
   "cell_type": "markdown",
   "metadata": {},
   "source": [
    "CBS Open Data предоставляет довольно дробную статистику по коммунам Нидерландов вплоть до структуры экономики."
   ]
  },
  {
   "cell_type": "code",
   "execution_count": 3,
   "metadata": {},
   "outputs": [],
   "source": [
    "import cbsodata"
   ]
  },
  {
   "cell_type": "code",
   "execution_count": 4,
   "metadata": {},
   "outputs": [],
   "source": [
    "datasets = {\n",
    "    '2019' : '84583NED',\n",
    "    '2018' : '84286NED',\n",
    "    '2017' : '83765NED',\n",
    "    '2016' : '83487NED',\n",
    "    '2015' : '83220NED',\n",
    "    '2014' : '82931NED',\n",
    "    '2013' : '82339NED',\n",
    "    '2009 - 2012' : '70904ned',\n",
    "    '2004 - 2008' : '81903NED'\n",
    "}"
   ]
  },
  {
   "cell_type": "code",
   "execution_count": 6,
   "metadata": {},
   "outputs": [
    {
     "name": "stdout",
     "output_type": "stream",
     "text": [
      "2019 84583NED\n",
      "2018 84286NED\n",
      "2017 83765NED\n",
      "2016 83487NED\n",
      "2015 83220NED\n",
      "2014 82931NED\n",
      "2013 82339NED\n",
      "2009 - 2012 70904ned\n",
      "2004 - 2008 81903NED\n"
     ]
    }
   ],
   "source": [
    "for timespan, code in datasets.items():\n",
    "    print(timespan, code)"
   ]
  },
  {
   "cell_type": "code",
   "execution_count": 11,
   "metadata": {},
   "outputs": [
    {
     "name": "stdout",
     "output_type": "stream",
     "text": [
      "2019\n",
      "2018\n",
      "2017\n",
      "2016\n",
      "2015\n",
      "2014\n",
      "2013\n",
      "2009 - 2017\n",
      "2004 - 2008\n"
     ]
    }
   ],
   "source": [
    "values_map = defaultdict(dict)\n",
    "for year in datasets:\n",
    "    \n",
    "    table_id = datasets[year]\n",
    "    pd.DataFrame(\n",
    "        cbsodata.get_data(table_id, typed = True)\n",
    "    ).to_csv(f'territory_bases_v2/database_{year}.csv', sep = ';', index = None)\n",
    "    \n",
    "    \n",
    "    mapping_columns = {}\n",
    "    list_variables = cbsodata.get_meta(table_id, 'DataProperties')\n",
    "    \n",
    "    for var in list_variables:\n",
    "        mapping_columns[var['Key']] = var['Title']\n",
    "        \n",
    "    values_map[year] = mapping_columns\n",
    "    print(year)"
   ]
  },
  {
   "cell_type": "code",
   "execution_count": 12,
   "metadata": {},
   "outputs": [],
   "source": [
    "with open('territory_bases_v2/map_columns.json', 'w') as outfile:\n",
    "    json.dump(values_map, outfile)"
   ]
  },
  {
   "cell_type": "code",
   "execution_count": 13,
   "metadata": {},
   "outputs": [],
   "source": [
    "with open('territory_bases_v2/map_columns.json') as infile:\n",
    "    values_map = json.load(infile)"
   ]
  },
  {
   "cell_type": "code",
   "execution_count": 14,
   "metadata": {},
   "outputs": [],
   "source": [
    "writer = pd.ExcelWriter('territory_bases_v2/map_columns.xlsx')\n",
    "\n",
    "for year in values_map:\n",
    "    pd.DataFrame(\n",
    "        {'raw_name' : pd.Series(list(values_map[year].keys())),\n",
    "         'name' : pd.Series(list(values_map[year].values()))}\n",
    "    ).to_excel(writer, sheet_name = year, index = False)\n",
    "    \n",
    "writer.save()"
   ]
  },
  {
   "cell_type": "code",
   "execution_count": 20,
   "metadata": {},
   "outputs": [
    {
     "data": {
      "text/plain": [
       "array([2004, 2005, 2006, 2007, 2008], dtype=int64)"
      ]
     },
     "execution_count": 20,
     "metadata": {},
     "output_type": "execute_result"
    }
   ],
   "source": [
    "pd.read_csv('territory_bases_v2/database_2004 - 2008.csv', sep = ';')['Perioden'].unique()"
   ]
  },
  {
   "cell_type": "markdown",
   "metadata": {},
   "source": [
    "### Meta Tables"
   ]
  },
  {
   "cell_type": "code",
   "execution_count": 9,
   "metadata": {},
   "outputs": [],
   "source": [
    "writer = pd.ExcelWriter('territory_bases_v2/all_meta.xlsx')\n",
    "for timespan, code in datasets.items():\n",
    "\n",
    "    pd.DataFrame(cbsodata.get_meta(code, 'DataProperties')).to_excel(writer, sheet_name = timespan, index = None)\n",
    "    \n",
    "writer.save()"
   ]
  },
  {
   "cell_type": "markdown",
   "metadata": {},
   "source": [
    "## Cоздание матриц корреспонденции между коммунами"
   ]
  },
  {
   "cell_type": "code",
   "execution_count": 3,
   "metadata": {},
   "outputs": [],
   "source": [
    "datasets_list = os.listdir('translated_data/')"
   ]
  },
  {
   "cell_type": "code",
   "execution_count": 5,
   "metadata": {},
   "outputs": [],
   "source": [
    "os.makedirs('analysis/correspondence_matricies/full')\n",
    "os.makedirs('analysis/correspondence_matricies/consumer')\n",
    "os.makedirs('analysis/correspondence_matricies/commuter')\n",
    "os.makedirs('analysis/correspondence_matricies/other')"
   ]
  },
  {
   "cell_type": "code",
   "execution_count": 6,
   "metadata": {},
   "outputs": [],
   "source": [
    "consumer = ['Покупки', 'Услуги', 'Туризм и рекреация', 'Другие виды досуга']\n",
    "commuter = ['Работа', 'Рабочая встреча']"
   ]
  },
  {
   "cell_type": "code",
   "execution_count": 4,
   "metadata": {},
   "outputs": [],
   "source": [
    "with open('Variables/mappers/communes_names_map.json') as infile:\n",
    "    names_map = json.load(infile)"
   ]
  },
  {
   "cell_type": "code",
   "execution_count": 26,
   "metadata": {},
   "outputs": [
    {
     "name": "stderr",
     "output_type": "stream",
     "text": [
      "C:\\Users\\mtopn\\Anaconda3\\lib\\site-packages\\IPython\\core\\interactiveshell.py:3057: DtypeWarning: Columns (7,13,18,25,30,37) have mixed types. Specify dtype option on import or set low_memory=False.\n",
      "  interactivity=interactivity, compiler=compiler, result=result)\n"
     ]
    }
   ],
   "source": [
    "df_current = pd.read_csv(f'translated_data/{dataset}')"
   ]
  },
  {
   "cell_type": "code",
   "execution_count": 27,
   "metadata": {},
   "outputs": [],
   "source": [
    "df_current = df_current[df_current.geo_departure != df_current.geo_arrival]\n",
    "df_current['geo_departure'], df_current['geo_arrival'] = df_current['geo_departure'].map(names_map), df_current['geo_arrival'].map(names_map)\n",
    "\n",
    "correspondence = pd.pivot_table(df_current, 'uid_person', index = 'geo_departure', columns = 'geo_arrival', aggfunc = 'nunique')"
   ]
  },
  {
   "cell_type": "code",
   "execution_count": 7,
   "metadata": {},
   "outputs": [
    {
     "name": "stderr",
     "output_type": "stream",
     "text": [
      "C:\\Users\\mtopn\\Anaconda3\\lib\\site-packages\\IPython\\core\\interactiveshell.py:3057: DtypeWarning: Columns (7,13,18,25,30,37) have mixed types. Specify dtype option on import or set low_memory=False.\n",
      "  interactivity=interactivity, compiler=compiler, result=result)\n"
     ]
    }
   ],
   "source": [
    "for dataset in datasets_list:\n",
    "    year = dataset.split('_')[1].split('.')[0]\n",
    "    df_current = pd.read_csv(f'translated_data/{dataset}')\n",
    "    \n",
    "    df_current = df_current[df_current.geo_departure != df_current.geo_arrival]\n",
    "    df_current['geo_departure'], df_current['geo_arrival'] = df_current['geo_departure'].map(names_map), df_current['geo_arrival'].map(names_map)\n",
    "        \n",
    "    correspondence = pd.pivot_table(df_current, 'uid_person', index = 'geo_departure', columns = 'geo_arrival', aggfunc = 'nunique')\n",
    "    correspondence.fillna('').to_html(f'analysis/correspondence_matricies/full/corresp_full_{year}.html')\n",
    "    correspondence.to_csv(f'analysis/correspondence_matricies/full/corresp_full_{year}.csv')\n",
    "    \n",
    "    shopping_and_services = df_current[df_current.motiv_motivation.isin(motivation_filter)]\n",
    "    correspondence = pd.pivot_table(shopping_and_services, 'uid_person', index = 'geo_departure', columns = 'geo_arrival', aggfunc = 'nunique')\n",
    "    correspondence.fillna('').to_html(f'analysis/correspondence_matricies/consumer/corresp_consumer_{year}.html')\n",
    "    correspondence.to_csv(f'analysis/correspondence_matricies/consumer/corresp_consumer_{year}.csv')\n",
    "    \n",
    "    shopping_and_services = df_current[~df_current.motiv_motivation.isin(motivation_filter)]\n",
    "    correspondence = pd.pivot_table(shopping_and_services, 'uid_person', index = 'geo_departure', columns = 'geo_arrival', aggfunc = 'nunique')\n",
    "    correspondence.fillna('').to_html(f'analysis/correspondence_matricies/other/corresp_other_{year}.html')\n",
    "    correspondence.to_csv(f'analysis/correspondence_matricies/other/corresp_other_{year}.csv')"
   ]
  },
  {
   "cell_type": "code",
   "execution_count": null,
   "metadata": {},
   "outputs": [],
   "source": []
  }
 ],
 "metadata": {
  "kernelspec": {
   "display_name": "Python 3",
   "language": "python",
   "name": "python3"
  },
  "language_info": {
   "codemirror_mode": {
    "name": "ipython",
    "version": 3
   },
   "file_extension": ".py",
   "mimetype": "text/x-python",
   "name": "python",
   "nbconvert_exporter": "python",
   "pygments_lexer": "ipython3",
   "version": "3.7.3"
  }
 },
 "nbformat": 4,
 "nbformat_minor": 4
}
