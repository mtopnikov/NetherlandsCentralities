{
 "cells": [
  {
   "cell_type": "code",
   "execution_count": 41,
   "metadata": {},
   "outputs": [],
   "source": [
    "import pandas as pd\n",
    "import json\n",
    "import os\n",
    "import geopandas as gpd\n",
    "import pysal as ps\n",
    "\n",
    "import matplotlib.pyplot as plt\n",
    "from matplotlib import font_manager as fm\n",
    "import matplotlib\n",
    "\n",
    "medium_font = fm.FontProperties(fname =  \"D:/bachelors/datasets/viz/Roboto-Medium.ttf\", size = 12)\n",
    "regluar_font = fm.FontProperties(fname = \"D:/bachelors/datasets/viz/Roboto-Regular.ttf\", size = 12)\n",
    "\n",
    "colors = {\n",
    "    'peach' : '#FCB886',\n",
    "    'blue' : '#6FC7F7',\n",
    "    'green' : '#78AF34',\n",
    "    'red' : '#D25B5B',\n",
    "    'grey' : '#8B8B8B'\n",
    "}\n",
    "\n",
    "os.chdir('D:/bachelors/datasets/')"
   ]
  },
  {
   "cell_type": "code",
   "execution_count": 10,
   "metadata": {},
   "outputs": [],
   "source": [
    "types = gpd.read_file('analysis/typology/types.gpkg')\n",
    "hbd_centrality = gpd.read_file('centrality_by_municipality.gpkg')"
   ]
  },
  {
   "cell_type": "code",
   "execution_count": 11,
   "metadata": {},
   "outputs": [
    {
     "data": {
      "text/plain": [
       "Index(['NAME', 'POPULATION', 'Area', 'DENSITY', 'commune_ok', 'cent_idx_sum',\n",
       "       'geometry'],\n",
       "      dtype='object')"
      ]
     },
     "execution_count": 11,
     "metadata": {},
     "output_type": "execute_result"
    }
   ],
   "source": [
    "hbd_centrality.columns"
   ]
  },
  {
   "cell_type": "code",
   "execution_count": 12,
   "metadata": {},
   "outputs": [],
   "source": [
    "comparative_df = types.merge(\n",
    "    hbd_centrality,\n",
    "    on = 'NAME',\n",
    "    how = 'left'\n",
    ")[['NAME', 'type_main', 'type_score', 'cent_idx_sum']]"
   ]
  },
  {
   "cell_type": "code",
   "execution_count": 31,
   "metadata": {},
   "outputs": [],
   "source": [
    "def precision(x):\n",
    "    if x >= 0.9:\n",
    "        return('_0')\n",
    "    if x < 0.9 and x >= 0.5:\n",
    "        return('_1')\n",
    "    if x < 0.5:\n",
    "        return('_2')"
   ]
  },
  {
   "cell_type": "code",
   "execution_count": 33,
   "metadata": {},
   "outputs": [],
   "source": [
    "comparative_df['p'] = comparative_df.type_score.apply(lambda x: precision(x))\n",
    "comparative_df['type_differentiate'] = comparative_df.type_main + comparative_df.p"
   ]
  },
  {
   "cell_type": "code",
   "execution_count": 60,
   "metadata": {},
   "outputs": [],
   "source": [
    "bars = comparative_df.groupby('type_differentiate')['cent_idx_sum'].sum().sort_index()"
   ]
  },
  {
   "cell_type": "code",
   "execution_count": 127,
   "metadata": {},
   "outputs": [
    {
     "data": {
      "image/png": "[encoded data removed]",
      "text/plain": [
       "<Figure size 504x504 with 1 Axes>"
      ]
     },
     "metadata": {},
     "output_type": "display_data"
    }
   ],
   "source": [
    "# libraries\n",
    "import numpy as np\n",
    "\n",
    " \n",
    "# set width of bar\n",
    "barWidth = 0.2\n",
    " \n",
    "# set height of bar\n",
    "bars1 = bars[:3]\n",
    "bars2 = bars[3:6]\n",
    "bars3 = bars[6:9]\n",
    "bars4 = bars[9:]\n",
    " \n",
    "# Set position of bar on X axis\n",
    "r1 = np.arange(len(bars1))\n",
    "r2 = [x + barWidth for x in r1]\n",
    "r3 = [x + barWidth for x in r2]\n",
    "r4 = [x + barWidth for x in r3]\n",
    "fig = plt.figure(figsize = (7,7), facecolor = 'w')\n",
    "# Make the plot\n",
    "plt.bar(r1, bars1, color=['#E71E22', '#F37D80', '#FFC7C9'], width=barWidth, edgecolor= '#6C6D71', label='Основные центры')\n",
    "plt.bar(r2, bars2, color=['#36B779', '#83DBA7', '#CFFFD4'], width=barWidth, edgecolor='#6C6D71', label='Транзитные, пригороды')\n",
    "plt.bar(r3, bars3, color=['#11266D', '#7987B6', '#C8D5FF'], width=barWidth, edgecolor='#6C6D71', label='Прото-центры')\n",
    "plt.bar(r4, bars4, color=['#4B4B4B', '#999999', '#E7E7E7'], width=barWidth, edgecolor='#6C6D71', label='Периферия')\n",
    " \n",
    "# Add xticks on the middle of the group bars\n",
    "plt.xlabel('Значимость', fontproperties = medium_font)\n",
    "plt.ylabel('Общий индекс\\nкоммерческой активности', fontproperties = medium_font)\n",
    "plt.xticks([r + 1.5 * barWidth for r in range(len(bars1))], ['>0,9', '0,5—0,9', '<0,5'], fontproperties = regluar_font)\n",
    "plt.yscale('log') \n",
    "plt.yticks(fontproperties = regluar_font)\n",
    "# Create legend & Show graphic\n",
    "plt.grid(axis = 'y')\n",
    "plt.legend(loc='best', ncol = 2, prop = regluar_font, fontsize = 30, frameon = False)\n",
    "plt.ylim(top = 10**6)\n",
    "plt.tight_layout()\n",
    "plt.savefig('analysis/typology/typoplot_centrality.png', dpi = 192)\n",
    "plt.show()"
   ]
  }
 ],
 "metadata": {
  "kernelspec": {
   "display_name": "Python 3",
   "language": "python",
   "name": "python3"
  },
  "language_info": {
   "codemirror_mode": {
    "name": "ipython",
    "version": 3
   },
   "file_extension": ".py",
   "mimetype": "text/x-python",
   "name": "python",
   "nbconvert_exporter": "python",
   "pygments_lexer": "ipython3",
   "version": "3.7.4"
  }
 },
 "nbformat": 4,
 "nbformat_minor": 2
}
