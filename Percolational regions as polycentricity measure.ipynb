{
 "cells": [
  {
   "cell_type": "markdown",
   "metadata": {},
   "source": [
    "# Percolational regions as a polycentricity measure"
   ]
  },
  {
   "cell_type": "code",
   "execution_count": 1,
   "metadata": {},
   "outputs": [],
   "source": [
    "import json\n",
    "import os\n",
    "import pandas as pd\n",
    "import geopandas as gpd\n",
    "import numpy as npa\n",
    "from sklearn.cluster import DBSCAN"
   ]
  },
  {
   "cell_type": "code",
   "execution_count": 2,
   "metadata": {},
   "outputs": [],
   "source": [
    "os.chdir('D:/bachelors/datasets/')"
   ]
  },
  {
   "cell_type": "markdown",
   "metadata": {},
   "source": [
    "# Preparation"
   ]
  },
  {
   "cell_type": "code",
   "execution_count": 3,
   "metadata": {},
   "outputs": [],
   "source": [
    "with open('Variables/mappers/communes_names_map.json') as infile:\n",
    "    names_map = json.load(infile)"
   ]
  },
  {
   "cell_type": "code",
   "execution_count": 4,
   "metadata": {},
   "outputs": [],
   "source": [
    "nodes_path = 'analysis/yearly_graphs_v4/total/nodes_total_{}.csv'\n",
    "datatables_path = 'translated_data_v4/data_{}.csv'"
   ]
  },
  {
   "cell_type": "code",
   "execution_count": 5,
   "metadata": {},
   "outputs": [],
   "source": [
    "def read_raw_data(datatable_path):\n",
    "    df_current = pd.read_csv(datatable_path)\n",
    "#     df_current['geo_departure'], df_current['geo_arrival'] = df_current['geo_departure'].map(names_map), df_current['geo_arrival'].map(names_map)\n",
    "    df_current.dropna(subset = ['geo_departure', 'geo_arrival'], inplace = True)\n",
    "#     df_current = df_current[df_current.geo_departure != df_current.geo_arrival]\n",
    "    df_current = pd.pivot_table(df_current, 'uid_person', 'geo_departure', 'geo_arrival', aggfunc = 'nunique')\n",
    "    df_current.values[[np.arange(df_current.shape[0])]*2] = 0\n",
    "    maxim = np.max(df_current.fillna(0).values)\n",
    "    df_current = ((df_current / maxim) * -1 + 1).fillna(1)\n",
    "    \n",
    "    return df_current"
   ]
  },
  {
   "cell_type": "markdown",
   "metadata": {},
   "source": [
    "## Create a list of epsilon values to cluster"
   ]
  },
  {
   "cell_type": "code",
   "execution_count": 6,
   "metadata": {},
   "outputs": [],
   "source": [
    "epses = [float(i[:4]) for i in np.arange(0.1, 1.01, 0.01).astype(str).tolist()] "
   ]
  },
  {
   "cell_type": "code",
   "execution_count": 7,
   "metadata": {},
   "outputs": [],
   "source": [
    "epses = [i/100 for i in range(1, 101)]"
   ]
  },
  {
   "cell_type": "markdown",
   "metadata": {},
   "source": [
    "## Plot tools"
   ]
  },
  {
   "cell_type": "code",
   "execution_count": 8,
   "metadata": {},
   "outputs": [],
   "source": [
    "import matplotlib.pyplot as plt\n",
    "from matplotlib import font_manager as fm\n",
    "import matplotlib\n",
    "\n",
    "medium_font = fm.FontProperties(fname =  \"D:/bachelors/datasets/viz/Roboto-Medium.ttf\", size = 12)\n",
    "regluar_font = fm.FontProperties(fname = \"D:/bachelors/datasets/viz/Roboto-Regular.ttf\", size = 12)\n",
    "\n",
    "colors = {\n",
    "    'peach' : '#FCB886',\n",
    "    'blue' : '#6FC7F7',\n",
    "    'green' : '#78AF34',\n",
    "    'red' : '#D25B5B',\n",
    "    'grey' : '#8B8B8B'\n",
    "}"
   ]
  },
  {
   "cell_type": "code",
   "execution_count": 9,
   "metadata": {},
   "outputs": [],
   "source": [
    "def model_regions(dat):\n",
    "    \"\"\"Builds hierarchy of regions for a distance matrix\"\"\"\n",
    "    series_list = []\n",
    "    for eps in epses:\n",
    "        labs = DBSCAN(eps = eps, min_samples = 2, metric = 'precomputed').fit(dat).labels_\n",
    "        series_list.append(pd.Series(labs, dat.index).rename(f'percolation_{eps}'))\n",
    "    percolation_classes = pd.DataFrame(series_list).transpose()\n",
    "    percolation_classes = percolation_classes.applymap(lambda elem: None if elem == -1 else elem)\n",
    "    return percolation_classes"
   ]
  },
  {
   "cell_type": "code",
   "execution_count": 10,
   "metadata": {},
   "outputs": [],
   "source": [
    "def map_series(series):\n",
    "    if series.name in dict_perc_reg.keys():\n",
    "        return series.map(dict_perc_reg[series.name])\n",
    "    else:\n",
    "        return series"
   ]
  },
  {
   "cell_type": "code",
   "execution_count": 11,
   "metadata": {},
   "outputs": [],
   "source": [
    "with open('Variables/mappers/communes_names_toRussian_map.json') as infile:\n",
    "    rus_names = json.load(infile)"
   ]
  },
  {
   "cell_type": "code",
   "execution_count": 12,
   "metadata": {},
   "outputs": [],
   "source": [
    "import seaborn as sns"
   ]
  },
  {
   "cell_type": "code",
   "execution_count": 13,
   "metadata": {},
   "outputs": [],
   "source": [
    "def plot_percolation(matrix, year):\n",
    "    plt.figure(figsize = (11,11))\n",
    "\n",
    "    ax = sns.heatmap(matrix,\n",
    "                     linewidths = .3,\n",
    "                     zorder = 1,\n",
    "                     cmap = 'viridis',\n",
    "                     cbar = False)\n",
    "    plt.grid(ls = ':', zorder = 0)\n",
    "    plt.xticks(fontproperties = regluar_font)\n",
    "\n",
    "    plt.yticks(fontproperties = regluar_font)\n",
    "    ax.set_title(f'{year}', loc = 'left', fontproperties = medium_font, fontsize=24)\n",
    "    ax.set_xlabel('Фильтр интенсивности поездок', fontproperties = medium_font, fontsize=18)\n",
    "    ax.set_ylabel('Главный муниципалитет кластера', fontproperties = medium_font, fontsize=18)\n",
    "    plt.tight_layout()\n",
    "    plt.savefig(f'analysis/percolation_regions/plots_v4/{year}_percolation.png')\n",
    "    plt.close('all')"
   ]
  },
  {
   "cell_type": "code",
   "execution_count": 14,
   "metadata": {},
   "outputs": [],
   "source": [
    "import math\n",
    "\n",
    "def round_down(n, decimals=0):\n",
    "    multiplier = 10 ** decimals\n",
    "    return math.floor(n * multiplier) / multiplier"
   ]
  },
  {
   "cell_type": "code",
   "execution_count": 15,
   "metadata": {},
   "outputs": [],
   "source": [
    "bounds = gpd.read_file('../qgis/base/Netherlands_communes.gpkg')"
   ]
  },
  {
   "cell_type": "code",
   "execution_count": 16,
   "metadata": {},
   "outputs": [],
   "source": [
    "from collections import defaultdict"
   ]
  },
  {
   "cell_type": "code",
   "execution_count": 17,
   "metadata": {},
   "outputs": [],
   "source": [
    "def percolation_regions_resample(percolation_classes, year):\n",
    "    df = percolation_classes.drop(columns = ['flow_cent']).stack().reset_index().rename(columns = {\n",
    "        'commune' : 'NAME',\n",
    "        'level_1' : 'percolation_threshold',\n",
    "        0 : 'parent'\n",
    "    }).assign(\n",
    "        year = year\n",
    "    )\n",
    "    \n",
    "    return df"
   ]
  },
  {
   "cell_type": "code",
   "execution_count": 18,
   "metadata": {
    "scrolled": true
   },
   "outputs": [
    {
     "name": "stderr",
     "output_type": "stream",
     "text": [
      "C:\\Users\\mtopn\\Anaconda3\\lib\\site-packages\\ipykernel_launcher.py:7: FutureWarning: Using a non-tuple sequence for multidimensional indexing is deprecated; use `arr[tuple(seq)]` instead of `arr[seq]`. In the future this will be interpreted as an array index, `arr[np.array(seq)]`, which will result either in an error or a different result.\n",
      "  import sys\n"
     ]
    },
    {
     "ename": "CPLE_AppDefinedError",
     "evalue": "b'sqlite3_exec(CREATE VIRTUAL TABLE \"rtree_2004 region cores sustain_v2_geom\" USING rtree(id, minx, maxx, miny, maxy)) failed: no such module: rtree'",
     "output_type": "error",
     "traceback": [
      "\u001b[1;31m---------------------------------------------------------------------------\u001b[0m",
      "\u001b[1;31mCPLE_AppDefinedError\u001b[0m                      Traceback (most recent call last)",
      "\u001b[1;32mfiona/_err.pyx\u001b[0m in \u001b[0;36mfiona._err.GDALErrCtxManager.__exit__\u001b[1;34m()\u001b[0m\n",
      "\u001b[1;31mCPLE_AppDefinedError\u001b[0m: b'sqlite3_exec(CREATE VIRTUAL TABLE \"rtree_2004 region cores sustain_v2_geom\" USING rtree(id, minx, maxx, miny, maxy)) failed: no such module: rtree'"
     ]
    },
    {
     "name": "stderr",
     "output_type": "stream",
     "text": [
      "Exception ignored in: 'fiona._shim.gdal_flush_cache'\n",
      "Traceback (most recent call last):\n",
      "  File \"fiona/_err.pyx\", line 201, in fiona._err.GDALErrCtxManager.__exit__\n",
      "fiona._err.CPLE_AppDefinedError: b'sqlite3_exec(CREATE VIRTUAL TABLE \"rtree_2004 region cores sustain_v2_geom\" USING rtree(id, minx, maxx, miny, maxy)) failed: no such module: rtree'\n",
      "C:\\Users\\mtopn\\Anaconda3\\lib\\site-packages\\ipykernel_launcher.py:7: FutureWarning: Using a non-tuple sequence for multidimensional indexing is deprecated; use `arr[tuple(seq)]` instead of `arr[seq]`. In the future this will be interpreted as an array index, `arr[np.array(seq)]`, which will result either in an error or a different result.\n",
      "  import sys\n"
     ]
    },
    {
     "ename": "CPLE_AppDefinedError",
     "evalue": "b'sqlite3_exec(CREATE VIRTUAL TABLE \"rtree_2005 region cores sustain_v2_geom\" USING rtree(id, minx, maxx, miny, maxy)) failed: no such module: rtree'",
     "output_type": "error",
     "traceback": [
      "\u001b[1;31m---------------------------------------------------------------------------\u001b[0m",
      "\u001b[1;31mCPLE_AppDefinedError\u001b[0m                      Traceback (most recent call last)",
      "\u001b[1;32mfiona/_err.pyx\u001b[0m in \u001b[0;36mfiona._err.GDALErrCtxManager.__exit__\u001b[1;34m()\u001b[0m\n",
      "\u001b[1;31mCPLE_AppDefinedError\u001b[0m: b'sqlite3_exec(CREATE VIRTUAL TABLE \"rtree_2005 region cores sustain_v2_geom\" USING rtree(id, minx, maxx, miny, maxy)) failed: no such module: rtree'"
     ]
    },
    {
     "name": "stderr",
     "output_type": "stream",
     "text": [
      "Exception ignored in: 'fiona._shim.gdal_flush_cache'\n",
      "Traceback (most recent call last):\n",
      "  File \"fiona/_err.pyx\", line 201, in fiona._err.GDALErrCtxManager.__exit__\n",
      "fiona._err.CPLE_AppDefinedError: b'sqlite3_exec(CREATE VIRTUAL TABLE \"rtree_2005 region cores sustain_v2_geom\" USING rtree(id, minx, maxx, miny, maxy)) failed: no such module: rtree'\n",
      "C:\\Users\\mtopn\\Anaconda3\\lib\\site-packages\\ipykernel_launcher.py:7: FutureWarning: Using a non-tuple sequence for multidimensional indexing is deprecated; use `arr[tuple(seq)]` instead of `arr[seq]`. In the future this will be interpreted as an array index, `arr[np.array(seq)]`, which will result either in an error or a different result.\n",
      "  import sys\n"
     ]
    },
    {
     "ename": "CPLE_AppDefinedError",
     "evalue": "b'sqlite3_exec(CREATE VIRTUAL TABLE \"rtree_2006 region cores sustain_v2_geom\" USING rtree(id, minx, maxx, miny, maxy)) failed: no such module: rtree'",
     "output_type": "error",
     "traceback": [
      "\u001b[1;31m---------------------------------------------------------------------------\u001b[0m",
      "\u001b[1;31mCPLE_AppDefinedError\u001b[0m                      Traceback (most recent call last)",
      "\u001b[1;32mfiona/_err.pyx\u001b[0m in \u001b[0;36mfiona._err.GDALErrCtxManager.__exit__\u001b[1;34m()\u001b[0m\n",
      "\u001b[1;31mCPLE_AppDefinedError\u001b[0m: b'sqlite3_exec(CREATE VIRTUAL TABLE \"rtree_2006 region cores sustain_v2_geom\" USING rtree(id, minx, maxx, miny, maxy)) failed: no such module: rtree'"
     ]
    },
    {
     "name": "stderr",
     "output_type": "stream",
     "text": [
      "Exception ignored in: 'fiona._shim.gdal_flush_cache'\n",
      "Traceback (most recent call last):\n",
      "  File \"fiona/_err.pyx\", line 201, in fiona._err.GDALErrCtxManager.__exit__\n",
      "fiona._err.CPLE_AppDefinedError: b'sqlite3_exec(CREATE VIRTUAL TABLE \"rtree_2006 region cores sustain_v2_geom\" USING rtree(id, minx, maxx, miny, maxy)) failed: no such module: rtree'\n",
      "C:\\Users\\mtopn\\Anaconda3\\lib\\site-packages\\ipykernel_launcher.py:7: FutureWarning: Using a non-tuple sequence for multidimensional indexing is deprecated; use `arr[tuple(seq)]` instead of `arr[seq]`. In the future this will be interpreted as an array index, `arr[np.array(seq)]`, which will result either in an error or a different result.\n",
      "  import sys\n"
     ]
    },
    {
     "ename": "CPLE_AppDefinedError",
     "evalue": "b'sqlite3_exec(CREATE VIRTUAL TABLE \"rtree_2007 region cores sustain_v2_geom\" USING rtree(id, minx, maxx, miny, maxy)) failed: no such module: rtree'",
     "output_type": "error",
     "traceback": [
      "\u001b[1;31m---------------------------------------------------------------------------\u001b[0m",
      "\u001b[1;31mCPLE_AppDefinedError\u001b[0m                      Traceback (most recent call last)",
      "\u001b[1;32mfiona/_err.pyx\u001b[0m in \u001b[0;36mfiona._err.GDALErrCtxManager.__exit__\u001b[1;34m()\u001b[0m\n",
      "\u001b[1;31mCPLE_AppDefinedError\u001b[0m: b'sqlite3_exec(CREATE VIRTUAL TABLE \"rtree_2007 region cores sustain_v2_geom\" USING rtree(id, minx, maxx, miny, maxy)) failed: no such module: rtree'"
     ]
    },
    {
     "name": "stderr",
     "output_type": "stream",
     "text": [
      "Exception ignored in: 'fiona._shim.gdal_flush_cache'\n",
      "Traceback (most recent call last):\n",
      "  File \"fiona/_err.pyx\", line 201, in fiona._err.GDALErrCtxManager.__exit__\n",
      "fiona._err.CPLE_AppDefinedError: b'sqlite3_exec(CREATE VIRTUAL TABLE \"rtree_2007 region cores sustain_v2_geom\" USING rtree(id, minx, maxx, miny, maxy)) failed: no such module: rtree'\n",
      "C:\\Users\\mtopn\\Anaconda3\\lib\\site-packages\\ipykernel_launcher.py:7: FutureWarning: Using a non-tuple sequence for multidimensional indexing is deprecated; use `arr[tuple(seq)]` instead of `arr[seq]`. In the future this will be interpreted as an array index, `arr[np.array(seq)]`, which will result either in an error or a different result.\n",
      "  import sys\n"
     ]
    },
    {
     "ename": "CPLE_AppDefinedError",
     "evalue": "b'sqlite3_exec(CREATE VIRTUAL TABLE \"rtree_2008 region cores sustain_v2_geom\" USING rtree(id, minx, maxx, miny, maxy)) failed: no such module: rtree'",
     "output_type": "error",
     "traceback": [
      "\u001b[1;31m---------------------------------------------------------------------------\u001b[0m",
      "\u001b[1;31mCPLE_AppDefinedError\u001b[0m                      Traceback (most recent call last)",
      "\u001b[1;32mfiona/_err.pyx\u001b[0m in \u001b[0;36mfiona._err.GDALErrCtxManager.__exit__\u001b[1;34m()\u001b[0m\n",
      "\u001b[1;31mCPLE_AppDefinedError\u001b[0m: b'sqlite3_exec(CREATE VIRTUAL TABLE \"rtree_2008 region cores sustain_v2_geom\" USING rtree(id, minx, maxx, miny, maxy)) failed: no such module: rtree'"
     ]
    },
    {
     "name": "stderr",
     "output_type": "stream",
     "text": [
      "Exception ignored in: 'fiona._shim.gdal_flush_cache'\n",
      "Traceback (most recent call last):\n",
      "  File \"fiona/_err.pyx\", line 201, in fiona._err.GDALErrCtxManager.__exit__\n",
      "fiona._err.CPLE_AppDefinedError: b'sqlite3_exec(CREATE VIRTUAL TABLE \"rtree_2008 region cores sustain_v2_geom\" USING rtree(id, minx, maxx, miny, maxy)) failed: no such module: rtree'\n",
      "C:\\Users\\mtopn\\Anaconda3\\lib\\site-packages\\ipykernel_launcher.py:7: FutureWarning: Using a non-tuple sequence for multidimensional indexing is deprecated; use `arr[tuple(seq)]` instead of `arr[seq]`. In the future this will be interpreted as an array index, `arr[np.array(seq)]`, which will result either in an error or a different result.\n",
      "  import sys\n"
     ]
    },
    {
     "ename": "CPLE_AppDefinedError",
     "evalue": "b'sqlite3_exec(CREATE VIRTUAL TABLE \"rtree_2009 region cores sustain_v2_geom\" USING rtree(id, minx, maxx, miny, maxy)) failed: no such module: rtree'",
     "output_type": "error",
     "traceback": [
      "\u001b[1;31m---------------------------------------------------------------------------\u001b[0m",
      "\u001b[1;31mCPLE_AppDefinedError\u001b[0m                      Traceback (most recent call last)",
      "\u001b[1;32mfiona/_err.pyx\u001b[0m in \u001b[0;36mfiona._err.GDALErrCtxManager.__exit__\u001b[1;34m()\u001b[0m\n",
      "\u001b[1;31mCPLE_AppDefinedError\u001b[0m: b'sqlite3_exec(CREATE VIRTUAL TABLE \"rtree_2009 region cores sustain_v2_geom\" USING rtree(id, minx, maxx, miny, maxy)) failed: no such module: rtree'"
     ]
    },
    {
     "name": "stderr",
     "output_type": "stream",
     "text": [
      "Exception ignored in: 'fiona._shim.gdal_flush_cache'\n",
      "Traceback (most recent call last):\n",
      "  File \"fiona/_err.pyx\", line 201, in fiona._err.GDALErrCtxManager.__exit__\n",
      "fiona._err.CPLE_AppDefinedError: b'sqlite3_exec(CREATE VIRTUAL TABLE \"rtree_2009 region cores sustain_v2_geom\" USING rtree(id, minx, maxx, miny, maxy)) failed: no such module: rtree'\n",
      "C:\\Users\\mtopn\\Anaconda3\\lib\\site-packages\\ipykernel_launcher.py:7: FutureWarning: Using a non-tuple sequence for multidimensional indexing is deprecated; use `arr[tuple(seq)]` instead of `arr[seq]`. In the future this will be interpreted as an array index, `arr[np.array(seq)]`, which will result either in an error or a different result.\n",
      "  import sys\n"
     ]
    },
    {
     "ename": "CPLE_AppDefinedError",
     "evalue": "b'sqlite3_exec(CREATE VIRTUAL TABLE \"rtree_2010 region cores sustain_v2_geom\" USING rtree(id, minx, maxx, miny, maxy)) failed: no such module: rtree'",
     "output_type": "error",
     "traceback": [
      "\u001b[1;31m---------------------------------------------------------------------------\u001b[0m",
      "\u001b[1;31mCPLE_AppDefinedError\u001b[0m                      Traceback (most recent call last)",
      "\u001b[1;32mfiona/_err.pyx\u001b[0m in \u001b[0;36mfiona._err.GDALErrCtxManager.__exit__\u001b[1;34m()\u001b[0m\n",
      "\u001b[1;31mCPLE_AppDefinedError\u001b[0m: b'sqlite3_exec(CREATE VIRTUAL TABLE \"rtree_2010 region cores sustain_v2_geom\" USING rtree(id, minx, maxx, miny, maxy)) failed: no such module: rtree'"
     ]
    },
    {
     "name": "stderr",
     "output_type": "stream",
     "text": [
      "Exception ignored in: 'fiona._shim.gdal_flush_cache'\n",
      "Traceback (most recent call last):\n",
      "  File \"fiona/_err.pyx\", line 201, in fiona._err.GDALErrCtxManager.__exit__\n",
      "fiona._err.CPLE_AppDefinedError: b'sqlite3_exec(CREATE VIRTUAL TABLE \"rtree_2010 region cores sustain_v2_geom\" USING rtree(id, minx, maxx, miny, maxy)) failed: no such module: rtree'\n",
      "C:\\Users\\mtopn\\Anaconda3\\lib\\site-packages\\ipykernel_launcher.py:7: FutureWarning: Using a non-tuple sequence for multidimensional indexing is deprecated; use `arr[tuple(seq)]` instead of `arr[seq]`. In the future this will be interpreted as an array index, `arr[np.array(seq)]`, which will result either in an error or a different result.\n",
      "  import sys\n"
     ]
    },
    {
     "ename": "CPLE_AppDefinedError",
     "evalue": "b'sqlite3_exec(CREATE VIRTUAL TABLE \"rtree_2011 region cores sustain_v2_geom\" USING rtree(id, minx, maxx, miny, maxy)) failed: no such module: rtree'",
     "output_type": "error",
     "traceback": [
      "\u001b[1;31m---------------------------------------------------------------------------\u001b[0m",
      "\u001b[1;31mCPLE_AppDefinedError\u001b[0m                      Traceback (most recent call last)",
      "\u001b[1;32mfiona/_err.pyx\u001b[0m in \u001b[0;36mfiona._err.GDALErrCtxManager.__exit__\u001b[1;34m()\u001b[0m\n",
      "\u001b[1;31mCPLE_AppDefinedError\u001b[0m: b'sqlite3_exec(CREATE VIRTUAL TABLE \"rtree_2011 region cores sustain_v2_geom\" USING rtree(id, minx, maxx, miny, maxy)) failed: no such module: rtree'"
     ]
    },
    {
     "name": "stderr",
     "output_type": "stream",
     "text": [
      "Exception ignored in: 'fiona._shim.gdal_flush_cache'\n",
      "Traceback (most recent call last):\n",
      "  File \"fiona/_err.pyx\", line 201, in fiona._err.GDALErrCtxManager.__exit__\n",
      "fiona._err.CPLE_AppDefinedError: b'sqlite3_exec(CREATE VIRTUAL TABLE \"rtree_2011 region cores sustain_v2_geom\" USING rtree(id, minx, maxx, miny, maxy)) failed: no such module: rtree'\n",
      "C:\\Users\\mtopn\\Anaconda3\\lib\\site-packages\\ipykernel_launcher.py:7: FutureWarning: Using a non-tuple sequence for multidimensional indexing is deprecated; use `arr[tuple(seq)]` instead of `arr[seq]`. In the future this will be interpreted as an array index, `arr[np.array(seq)]`, which will result either in an error or a different result.\n",
      "  import sys\n"
     ]
    },
    {
     "ename": "CPLE_AppDefinedError",
     "evalue": "b'sqlite3_exec(CREATE VIRTUAL TABLE \"rtree_2012 region cores sustain_v2_geom\" USING rtree(id, minx, maxx, miny, maxy)) failed: no such module: rtree'",
     "output_type": "error",
     "traceback": [
      "\u001b[1;31m---------------------------------------------------------------------------\u001b[0m",
      "\u001b[1;31mCPLE_AppDefinedError\u001b[0m                      Traceback (most recent call last)",
      "\u001b[1;32mfiona/_err.pyx\u001b[0m in \u001b[0;36mfiona._err.GDALErrCtxManager.__exit__\u001b[1;34m()\u001b[0m\n",
      "\u001b[1;31mCPLE_AppDefinedError\u001b[0m: b'sqlite3_exec(CREATE VIRTUAL TABLE \"rtree_2012 region cores sustain_v2_geom\" USING rtree(id, minx, maxx, miny, maxy)) failed: no such module: rtree'"
     ]
    },
    {
     "name": "stderr",
     "output_type": "stream",
     "text": [
      "Exception ignored in: 'fiona._shim.gdal_flush_cache'\n",
      "Traceback (most recent call last):\n",
      "  File \"fiona/_err.pyx\", line 201, in fiona._err.GDALErrCtxManager.__exit__\n",
      "fiona._err.CPLE_AppDefinedError: b'sqlite3_exec(CREATE VIRTUAL TABLE \"rtree_2012 region cores sustain_v2_geom\" USING rtree(id, minx, maxx, miny, maxy)) failed: no such module: rtree'\n",
      "C:\\Users\\mtopn\\Anaconda3\\lib\\site-packages\\ipykernel_launcher.py:7: FutureWarning: Using a non-tuple sequence for multidimensional indexing is deprecated; use `arr[tuple(seq)]` instead of `arr[seq]`. In the future this will be interpreted as an array index, `arr[np.array(seq)]`, which will result either in an error or a different result.\n",
      "  import sys\n"
     ]
    },
    {
     "ename": "CPLE_AppDefinedError",
     "evalue": "b'sqlite3_exec(CREATE VIRTUAL TABLE \"rtree_2013 region cores sustain_v2_geom\" USING rtree(id, minx, maxx, miny, maxy)) failed: no such module: rtree'",
     "output_type": "error",
     "traceback": [
      "\u001b[1;31m---------------------------------------------------------------------------\u001b[0m",
      "\u001b[1;31mCPLE_AppDefinedError\u001b[0m                      Traceback (most recent call last)",
      "\u001b[1;32mfiona/_err.pyx\u001b[0m in \u001b[0;36mfiona._err.GDALErrCtxManager.__exit__\u001b[1;34m()\u001b[0m\n",
      "\u001b[1;31mCPLE_AppDefinedError\u001b[0m: b'sqlite3_exec(CREATE VIRTUAL TABLE \"rtree_2013 region cores sustain_v2_geom\" USING rtree(id, minx, maxx, miny, maxy)) failed: no such module: rtree'"
     ]
    },
    {
     "name": "stderr",
     "output_type": "stream",
     "text": [
      "Exception ignored in: 'fiona._shim.gdal_flush_cache'\n",
      "Traceback (most recent call last):\n",
      "  File \"fiona/_err.pyx\", line 201, in fiona._err.GDALErrCtxManager.__exit__\n",
      "fiona._err.CPLE_AppDefinedError: b'sqlite3_exec(CREATE VIRTUAL TABLE \"rtree_2013 region cores sustain_v2_geom\" USING rtree(id, minx, maxx, miny, maxy)) failed: no such module: rtree'\n",
      "C:\\Users\\mtopn\\Anaconda3\\lib\\site-packages\\ipykernel_launcher.py:7: FutureWarning: Using a non-tuple sequence for multidimensional indexing is deprecated; use `arr[tuple(seq)]` instead of `arr[seq]`. In the future this will be interpreted as an array index, `arr[np.array(seq)]`, which will result either in an error or a different result.\n",
      "  import sys\n"
     ]
    },
    {
     "ename": "CPLE_AppDefinedError",
     "evalue": "b'sqlite3_exec(CREATE VIRTUAL TABLE \"rtree_2014 region cores sustain_v2_geom\" USING rtree(id, minx, maxx, miny, maxy)) failed: no such module: rtree'",
     "output_type": "error",
     "traceback": [
      "\u001b[1;31m---------------------------------------------------------------------------\u001b[0m",
      "\u001b[1;31mCPLE_AppDefinedError\u001b[0m                      Traceback (most recent call last)",
      "\u001b[1;32mfiona/_err.pyx\u001b[0m in \u001b[0;36mfiona._err.GDALErrCtxManager.__exit__\u001b[1;34m()\u001b[0m\n",
      "\u001b[1;31mCPLE_AppDefinedError\u001b[0m: b'sqlite3_exec(CREATE VIRTUAL TABLE \"rtree_2014 region cores sustain_v2_geom\" USING rtree(id, minx, maxx, miny, maxy)) failed: no such module: rtree'"
     ]
    },
    {
     "name": "stderr",
     "output_type": "stream",
     "text": [
      "Exception ignored in: 'fiona._shim.gdal_flush_cache'\n",
      "Traceback (most recent call last):\n",
      "  File \"fiona/_err.pyx\", line 201, in fiona._err.GDALErrCtxManager.__exit__\n",
      "fiona._err.CPLE_AppDefinedError: b'sqlite3_exec(CREATE VIRTUAL TABLE \"rtree_2014 region cores sustain_v2_geom\" USING rtree(id, minx, maxx, miny, maxy)) failed: no such module: rtree'\n",
      "C:\\Users\\mtopn\\Anaconda3\\lib\\site-packages\\ipykernel_launcher.py:7: FutureWarning: Using a non-tuple sequence for multidimensional indexing is deprecated; use `arr[tuple(seq)]` instead of `arr[seq]`. In the future this will be interpreted as an array index, `arr[np.array(seq)]`, which will result either in an error or a different result.\n",
      "  import sys\n"
     ]
    },
    {
     "ename": "CPLE_AppDefinedError",
     "evalue": "b'sqlite3_exec(CREATE VIRTUAL TABLE \"rtree_2015 region cores sustain_v2_geom\" USING rtree(id, minx, maxx, miny, maxy)) failed: no such module: rtree'",
     "output_type": "error",
     "traceback": [
      "\u001b[1;31m---------------------------------------------------------------------------\u001b[0m",
      "\u001b[1;31mCPLE_AppDefinedError\u001b[0m                      Traceback (most recent call last)",
      "\u001b[1;32mfiona/_err.pyx\u001b[0m in \u001b[0;36mfiona._err.GDALErrCtxManager.__exit__\u001b[1;34m()\u001b[0m\n",
      "\u001b[1;31mCPLE_AppDefinedError\u001b[0m: b'sqlite3_exec(CREATE VIRTUAL TABLE \"rtree_2015 region cores sustain_v2_geom\" USING rtree(id, minx, maxx, miny, maxy)) failed: no such module: rtree'"
     ]
    },
    {
     "name": "stderr",
     "output_type": "stream",
     "text": [
      "Exception ignored in: 'fiona._shim.gdal_flush_cache'\n",
      "Traceback (most recent call last):\n",
      "  File \"fiona/_err.pyx\", line 201, in fiona._err.GDALErrCtxManager.__exit__\n",
      "fiona._err.CPLE_AppDefinedError: b'sqlite3_exec(CREATE VIRTUAL TABLE \"rtree_2015 region cores sustain_v2_geom\" USING rtree(id, minx, maxx, miny, maxy)) failed: no such module: rtree'\n",
      "C:\\Users\\mtopn\\Anaconda3\\lib\\site-packages\\ipykernel_launcher.py:7: FutureWarning: Using a non-tuple sequence for multidimensional indexing is deprecated; use `arr[tuple(seq)]` instead of `arr[seq]`. In the future this will be interpreted as an array index, `arr[np.array(seq)]`, which will result either in an error or a different result.\n",
      "  import sys\n"
     ]
    },
    {
     "ename": "CPLE_AppDefinedError",
     "evalue": "b'sqlite3_exec(CREATE VIRTUAL TABLE \"rtree_2016 region cores sustain_v2_geom\" USING rtree(id, minx, maxx, miny, maxy)) failed: no such module: rtree'",
     "output_type": "error",
     "traceback": [
      "\u001b[1;31m---------------------------------------------------------------------------\u001b[0m",
      "\u001b[1;31mCPLE_AppDefinedError\u001b[0m                      Traceback (most recent call last)",
      "\u001b[1;32mfiona/_err.pyx\u001b[0m in \u001b[0;36mfiona._err.GDALErrCtxManager.__exit__\u001b[1;34m()\u001b[0m\n",
      "\u001b[1;31mCPLE_AppDefinedError\u001b[0m: b'sqlite3_exec(CREATE VIRTUAL TABLE \"rtree_2016 region cores sustain_v2_geom\" USING rtree(id, minx, maxx, miny, maxy)) failed: no such module: rtree'"
     ]
    },
    {
     "name": "stderr",
     "output_type": "stream",
     "text": [
      "Exception ignored in: 'fiona._shim.gdal_flush_cache'\n",
      "Traceback (most recent call last):\n",
      "  File \"fiona/_err.pyx\", line 201, in fiona._err.GDALErrCtxManager.__exit__\n",
      "fiona._err.CPLE_AppDefinedError: b'sqlite3_exec(CREATE VIRTUAL TABLE \"rtree_2016 region cores sustain_v2_geom\" USING rtree(id, minx, maxx, miny, maxy)) failed: no such module: rtree'\n",
      "C:\\Users\\mtopn\\Anaconda3\\lib\\site-packages\\ipykernel_launcher.py:7: FutureWarning: Using a non-tuple sequence for multidimensional indexing is deprecated; use `arr[tuple(seq)]` instead of `arr[seq]`. In the future this will be interpreted as an array index, `arr[np.array(seq)]`, which will result either in an error or a different result.\n",
      "  import sys\n"
     ]
    },
    {
     "ename": "CPLE_AppDefinedError",
     "evalue": "b'sqlite3_exec(CREATE VIRTUAL TABLE \"rtree_2017 region cores sustain_v2_geom\" USING rtree(id, minx, maxx, miny, maxy)) failed: no such module: rtree'",
     "output_type": "error",
     "traceback": [
      "\u001b[1;31m---------------------------------------------------------------------------\u001b[0m",
      "\u001b[1;31mCPLE_AppDefinedError\u001b[0m                      Traceback (most recent call last)",
      "\u001b[1;32mfiona/_err.pyx\u001b[0m in \u001b[0;36mfiona._err.GDALErrCtxManager.__exit__\u001b[1;34m()\u001b[0m\n",
      "\u001b[1;31mCPLE_AppDefinedError\u001b[0m: b'sqlite3_exec(CREATE VIRTUAL TABLE \"rtree_2017 region cores sustain_v2_geom\" USING rtree(id, minx, maxx, miny, maxy)) failed: no such module: rtree'"
     ]
    },
    {
     "name": "stderr",
     "output_type": "stream",
     "text": [
      "Exception ignored in: 'fiona._shim.gdal_flush_cache'\n",
      "Traceback (most recent call last):\n",
      "  File \"fiona/_err.pyx\", line 201, in fiona._err.GDALErrCtxManager.__exit__\n",
      "fiona._err.CPLE_AppDefinedError: b'sqlite3_exec(CREATE VIRTUAL TABLE \"rtree_2017 region cores sustain_v2_geom\" USING rtree(id, minx, maxx, miny, maxy)) failed: no such module: rtree'\n"
     ]
    }
   ],
   "source": [
    "sustain = []\n",
    "regions_cores_list = []\n",
    "region_to_core_map = defaultdict(dict)\n",
    "percolation_regions = []\n",
    "for year in range(2004,2018):\n",
    "    dat = read_raw_data(datatables_path.format(year))\n",
    "    nodes = pd.read_csv(nodes_path.format(year))\n",
    "    \n",
    "    percolation_classes = model_regions(dat)\n",
    "    percolation_classes = percolation_classes.reset_index().merge(nodes[['commune', 'flow_cent']], left_on = 'geo_departure', right_on = 'commune', how = 'left').drop(columns = ['geo_departure'])\n",
    "    dict_perc_reg = {\n",
    "        f'percolation_{eps}' : percolation_classes.set_index(\n",
    "            'commune'\n",
    "        ).groupby(\n",
    "            f'percolation_{eps}'\n",
    "        )['flow_cent'].idxmax().to_dict() for eps in epses\n",
    "    }\n",
    "    percolation_classes = percolation_classes.apply(map_series).apply(\n",
    "        lambda x: x.map(rus_names) if x.name not in ['commune', 'flow_cent'] else x\n",
    "    )\n",
    "\n",
    "    matrix = percolation_classes.drop(columns = ['flow_cent', 'commune']).apply(lambda column: column.value_counts())\n",
    "    percolation_classes = percolation_classes.set_index('commune')\n",
    "    percolation_regions.append(percolation_regions_resample(percolation_classes, year))\n",
    "    matrix.columns = [float(i.split('_')[1]) for i in matrix.columns]\n",
    "    matrix = matrix.sort_values(by = list(matrix.columns))\n",
    "    first_value = matrix.dropna(axis=1, how = 'all').columns[0]\n",
    "    matrix = matrix.loc[:, round_down(first_value, 1):]\n",
    "#     break\n",
    "    matrix = matrix.assign(\n",
    "        order = matrix.apply(lambda row: row.loc[row == row.dropna().iloc[0]].index[0], axis = 'columns'),\n",
    "        parent = matrix.apply(\n",
    "            lambda row: round(row.loc[row == row.dropna().iloc[-1]].index[0] + .01, 2) if \\\n",
    "            row.loc[row == row.dropna().iloc[-1]].index[0] < 1 else 1,\n",
    "            axis = 'columns'),\n",
    "        duration = matrix.apply(lambda x: x.isnull().sum(), axis='columns')\n",
    "    )\n",
    "\n",
    "\n",
    "\n",
    "\n",
    "\n",
    "\n",
    "\n",
    "#     matrix['order'] = matrix.apply(lambda row: row.loc[row == row.dropna().iloc[0]].index[0], axis = 'columns')\n",
    "#     matrix['duration'] = matrix.apply(lambda x: x.isnull().sum(), axis='columns')\n",
    "#     matrix['parent'] = matrix.apply(lambda row: row.loc[row == row.dropna().iloc[-1]].index[0] + .01, axis = 'columns')\n",
    "    matrix = matrix.sort_values(by = ['order', 'duration'])\n",
    "    plot_percolation(matrix.drop(columns = ['order', 'duration', 'parent']), year)\n",
    "    \n",
    "    cutpoint_core = matrix['order'].to_dict()\n",
    "    parent_core = matrix['parent'].to_dict()\n",
    "    matrix.drop(columns = ['order', 'parent', 'duration'], inplace = True)\n",
    "#     break\n",
    "    sustain.append(len(matrix.columns) - matrix.isna().sum(axis = 'columns').mean())\n",
    "    regions_cores = {}\n",
    "    for name, cpt in cutpoint_core.items():\n",
    "        regions_cores.update(\n",
    "            percolation_classes[percolation_classes[f'percolation_{cpt}'] == name][f'percolation_{cpt}'].to_dict()\n",
    "        )\n",
    "        \n",
    "    parent_cores = {}\n",
    "    for name, cpt in parent_core.items():\n",
    "        parent_cores.update(\n",
    "            percolation_classes[percolation_classes[f'percolation_{cpt}'] == name][f'percolation_{cpt}'].to_dict()\n",
    "        )\n",
    "\n",
    "    \n",
    "    sustainability = percolation_classes.drop(columns = ['flow_cent']).apply(\n",
    "        lambda x: x.value_counts(), axis = 'rows'\n",
    "    ).dropna(how = 'all').dropna(axis = 'columns', how = 'all')\n",
    "    sustainability['sust'] = sustainability.apply(lambda x: sustainability.shape[1] - x.isnull().sum(), axis='columns')\n",
    "    \n",
    "    bounds['parent'] = bounds['NAME'].map(regions_cores)\n",
    "    bounds['sustain'] = bounds['parent'].map(sustainability['sust'].to_dict())\n",
    "    bounds.to_file(f'analysis/percolation_regions/{year} region cores sustain_v2.gpkg', driver = 'GPKG')\n",
    "    \n",
    "    region_to_core_map[str(year)] = regions_cores    \n",
    "    regions_cores_list.append(bounds.assign(core = lambda frame: frame.NAME.map(regions_cores), \n",
    "                                            year = year))"
   ]
  },
  {
   "cell_type": "code",
   "execution_count": 19,
   "metadata": {},
   "outputs": [
    {
     "data": {
      "image/png": "[encoded data removed]",
      "text/plain": [
       "<Figure size 1008x504 with 1 Axes>"
      ]
     },
     "metadata": {},
     "output_type": "display_data"
    }
   ],
   "source": [
    "plt.figure(figsize = (14,7), facecolor = 'w')\n",
    "\n",
    "plt.bar([i for i in range(2004, 2018)], sustain, width=.5, color = colors['grey'])\n",
    "plt.xticks([i for i in range(2004, 2018)], [i for i in range(2004, 2018)], fontproperties = regluar_font)\n",
    "plt.yticks(fontproperties = regluar_font)\n",
    "plt.grid(axis = 'y')\n",
    "plt.ylim(0,10)\n",
    "plt.ylabel('Средняя устойчивость региона',  fontproperties = medium_font)\n",
    "plt.xlabel('Год', fontproperties = medium_font)\n",
    "plt.tight_layout()\n",
    "plt.savefig('analysis/percolation_regions/plots_v4/Mean Sustainability.png')\n",
    "# plt.yticks([i for i in range(len(sustain))], [i for i in range(2004, 2018)])"
   ]
  },
  {
   "cell_type": "code",
   "execution_count": 20,
   "metadata": {},
   "outputs": [],
   "source": [
    "df_list = {year : gpd.read_file(f'analysis/percolation_regions/{year} region cores sustain_v2.gpkg') for year in range(2004,2018)}"
   ]
  },
  {
   "cell_type": "code",
   "execution_count": 21,
   "metadata": {},
   "outputs": [
    {
     "ename": "CPLE_AppDefinedError",
     "evalue": "b'sqlite3_exec(CREATE VIRTUAL TABLE \"rtree_2004 region cores sustain_v2_geom\" USING rtree(id, minx, maxx, miny, maxy)) failed: no such module: rtree'",
     "output_type": "error",
     "traceback": [
      "\u001b[1;31m---------------------------------------------------------------------------\u001b[0m",
      "\u001b[1;31mCPLE_AppDefinedError\u001b[0m                      Traceback (most recent call last)",
      "\u001b[1;32mfiona/_err.pyx\u001b[0m in \u001b[0;36mfiona._err.GDALErrCtxManager.__exit__\u001b[1;34m()\u001b[0m\n",
      "\u001b[1;31mCPLE_AppDefinedError\u001b[0m: b'sqlite3_exec(CREATE VIRTUAL TABLE \"rtree_2004 region cores sustain_v2_geom\" USING rtree(id, minx, maxx, miny, maxy)) failed: no such module: rtree'"
     ]
    },
    {
     "name": "stderr",
     "output_type": "stream",
     "text": [
      "Exception ignored in: 'fiona._shim.gdal_flush_cache'\n",
      "Traceback (most recent call last):\n",
      "  File \"fiona/_err.pyx\", line 201, in fiona._err.GDALErrCtxManager.__exit__\n",
      "fiona._err.CPLE_AppDefinedError: b'sqlite3_exec(CREATE VIRTUAL TABLE \"rtree_2004 region cores sustain_v2_geom\" USING rtree(id, minx, maxx, miny, maxy)) failed: no such module: rtree'\n"
     ]
    },
    {
     "ename": "CPLE_AppDefinedError",
     "evalue": "b'sqlite3_exec(CREATE VIRTUAL TABLE \"rtree_2005 region cores sustain_v2_geom\" USING rtree(id, minx, maxx, miny, maxy)) failed: no such module: rtree'",
     "output_type": "error",
     "traceback": [
      "\u001b[1;31m---------------------------------------------------------------------------\u001b[0m",
      "\u001b[1;31mCPLE_AppDefinedError\u001b[0m                      Traceback (most recent call last)",
      "\u001b[1;32mfiona/_err.pyx\u001b[0m in \u001b[0;36mfiona._err.GDALErrCtxManager.__exit__\u001b[1;34m()\u001b[0m\n",
      "\u001b[1;31mCPLE_AppDefinedError\u001b[0m: b'sqlite3_exec(CREATE VIRTUAL TABLE \"rtree_2005 region cores sustain_v2_geom\" USING rtree(id, minx, maxx, miny, maxy)) failed: no such module: rtree'"
     ]
    },
    {
     "name": "stderr",
     "output_type": "stream",
     "text": [
      "Exception ignored in: 'fiona._shim.gdal_flush_cache'\n",
      "Traceback (most recent call last):\n",
      "  File \"fiona/_err.pyx\", line 201, in fiona._err.GDALErrCtxManager.__exit__\n",
      "fiona._err.CPLE_AppDefinedError: b'sqlite3_exec(CREATE VIRTUAL TABLE \"rtree_2005 region cores sustain_v2_geom\" USING rtree(id, minx, maxx, miny, maxy)) failed: no such module: rtree'\n"
     ]
    },
    {
     "ename": "CPLE_AppDefinedError",
     "evalue": "b'sqlite3_exec(CREATE VIRTUAL TABLE \"rtree_2006 region cores sustain_v2_geom\" USING rtree(id, minx, maxx, miny, maxy)) failed: no such module: rtree'",
     "output_type": "error",
     "traceback": [
      "\u001b[1;31m---------------------------------------------------------------------------\u001b[0m",
      "\u001b[1;31mCPLE_AppDefinedError\u001b[0m                      Traceback (most recent call last)",
      "\u001b[1;32mfiona/_err.pyx\u001b[0m in \u001b[0;36mfiona._err.GDALErrCtxManager.__exit__\u001b[1;34m()\u001b[0m\n",
      "\u001b[1;31mCPLE_AppDefinedError\u001b[0m: b'sqlite3_exec(CREATE VIRTUAL TABLE \"rtree_2006 region cores sustain_v2_geom\" USING rtree(id, minx, maxx, miny, maxy)) failed: no such module: rtree'"
     ]
    },
    {
     "name": "stderr",
     "output_type": "stream",
     "text": [
      "Exception ignored in: 'fiona._shim.gdal_flush_cache'\n",
      "Traceback (most recent call last):\n",
      "  File \"fiona/_err.pyx\", line 201, in fiona._err.GDALErrCtxManager.__exit__\n",
      "fiona._err.CPLE_AppDefinedError: b'sqlite3_exec(CREATE VIRTUAL TABLE \"rtree_2006 region cores sustain_v2_geom\" USING rtree(id, minx, maxx, miny, maxy)) failed: no such module: rtree'\n"
     ]
    },
    {
     "ename": "CPLE_AppDefinedError",
     "evalue": "b'sqlite3_exec(CREATE VIRTUAL TABLE \"rtree_2007 region cores sustain_v2_geom\" USING rtree(id, minx, maxx, miny, maxy)) failed: no such module: rtree'",
     "output_type": "error",
     "traceback": [
      "\u001b[1;31m---------------------------------------------------------------------------\u001b[0m",
      "\u001b[1;31mCPLE_AppDefinedError\u001b[0m                      Traceback (most recent call last)",
      "\u001b[1;32mfiona/_err.pyx\u001b[0m in \u001b[0;36mfiona._err.GDALErrCtxManager.__exit__\u001b[1;34m()\u001b[0m\n",
      "\u001b[1;31mCPLE_AppDefinedError\u001b[0m: b'sqlite3_exec(CREATE VIRTUAL TABLE \"rtree_2007 region cores sustain_v2_geom\" USING rtree(id, minx, maxx, miny, maxy)) failed: no such module: rtree'"
     ]
    },
    {
     "name": "stderr",
     "output_type": "stream",
     "text": [
      "Exception ignored in: 'fiona._shim.gdal_flush_cache'\n",
      "Traceback (most recent call last):\n",
      "  File \"fiona/_err.pyx\", line 201, in fiona._err.GDALErrCtxManager.__exit__\n",
      "fiona._err.CPLE_AppDefinedError: b'sqlite3_exec(CREATE VIRTUAL TABLE \"rtree_2007 region cores sustain_v2_geom\" USING rtree(id, minx, maxx, miny, maxy)) failed: no such module: rtree'\n"
     ]
    },
    {
     "ename": "CPLE_AppDefinedError",
     "evalue": "b'sqlite3_exec(CREATE VIRTUAL TABLE \"rtree_2008 region cores sustain_v2_geom\" USING rtree(id, minx, maxx, miny, maxy)) failed: no such module: rtree'",
     "output_type": "error",
     "traceback": [
      "\u001b[1;31m---------------------------------------------------------------------------\u001b[0m",
      "\u001b[1;31mCPLE_AppDefinedError\u001b[0m                      Traceback (most recent call last)",
      "\u001b[1;32mfiona/_err.pyx\u001b[0m in \u001b[0;36mfiona._err.GDALErrCtxManager.__exit__\u001b[1;34m()\u001b[0m\n",
      "\u001b[1;31mCPLE_AppDefinedError\u001b[0m: b'sqlite3_exec(CREATE VIRTUAL TABLE \"rtree_2008 region cores sustain_v2_geom\" USING rtree(id, minx, maxx, miny, maxy)) failed: no such module: rtree'"
     ]
    },
    {
     "name": "stderr",
     "output_type": "stream",
     "text": [
      "Exception ignored in: 'fiona._shim.gdal_flush_cache'\n",
      "Traceback (most recent call last):\n",
      "  File \"fiona/_err.pyx\", line 201, in fiona._err.GDALErrCtxManager.__exit__\n",
      "fiona._err.CPLE_AppDefinedError: b'sqlite3_exec(CREATE VIRTUAL TABLE \"rtree_2008 region cores sustain_v2_geom\" USING rtree(id, minx, maxx, miny, maxy)) failed: no such module: rtree'\n"
     ]
    },
    {
     "ename": "CPLE_AppDefinedError",
     "evalue": "b'sqlite3_exec(CREATE VIRTUAL TABLE \"rtree_2009 region cores sustain_v2_geom\" USING rtree(id, minx, maxx, miny, maxy)) failed: no such module: rtree'",
     "output_type": "error",
     "traceback": [
      "\u001b[1;31m---------------------------------------------------------------------------\u001b[0m",
      "\u001b[1;31mCPLE_AppDefinedError\u001b[0m                      Traceback (most recent call last)",
      "\u001b[1;32mfiona/_err.pyx\u001b[0m in \u001b[0;36mfiona._err.GDALErrCtxManager.__exit__\u001b[1;34m()\u001b[0m\n",
      "\u001b[1;31mCPLE_AppDefinedError\u001b[0m: b'sqlite3_exec(CREATE VIRTUAL TABLE \"rtree_2009 region cores sustain_v2_geom\" USING rtree(id, minx, maxx, miny, maxy)) failed: no such module: rtree'"
     ]
    },
    {
     "name": "stderr",
     "output_type": "stream",
     "text": [
      "Exception ignored in: 'fiona._shim.gdal_flush_cache'\n",
      "Traceback (most recent call last):\n",
      "  File \"fiona/_err.pyx\", line 201, in fiona._err.GDALErrCtxManager.__exit__\n",
      "fiona._err.CPLE_AppDefinedError: b'sqlite3_exec(CREATE VIRTUAL TABLE \"rtree_2009 region cores sustain_v2_geom\" USING rtree(id, minx, maxx, miny, maxy)) failed: no such module: rtree'\n"
     ]
    },
    {
     "ename": "CPLE_AppDefinedError",
     "evalue": "b'sqlite3_exec(CREATE VIRTUAL TABLE \"rtree_2010 region cores sustain_v2_geom\" USING rtree(id, minx, maxx, miny, maxy)) failed: no such module: rtree'",
     "output_type": "error",
     "traceback": [
      "\u001b[1;31m---------------------------------------------------------------------------\u001b[0m",
      "\u001b[1;31mCPLE_AppDefinedError\u001b[0m                      Traceback (most recent call last)",
      "\u001b[1;32mfiona/_err.pyx\u001b[0m in \u001b[0;36mfiona._err.GDALErrCtxManager.__exit__\u001b[1;34m()\u001b[0m\n",
      "\u001b[1;31mCPLE_AppDefinedError\u001b[0m: b'sqlite3_exec(CREATE VIRTUAL TABLE \"rtree_2010 region cores sustain_v2_geom\" USING rtree(id, minx, maxx, miny, maxy)) failed: no such module: rtree'"
     ]
    },
    {
     "name": "stderr",
     "output_type": "stream",
     "text": [
      "Exception ignored in: 'fiona._shim.gdal_flush_cache'\n",
      "Traceback (most recent call last):\n",
      "  File \"fiona/_err.pyx\", line 201, in fiona._err.GDALErrCtxManager.__exit__\n",
      "fiona._err.CPLE_AppDefinedError: b'sqlite3_exec(CREATE VIRTUAL TABLE \"rtree_2010 region cores sustain_v2_geom\" USING rtree(id, minx, maxx, miny, maxy)) failed: no such module: rtree'\n"
     ]
    },
    {
     "ename": "CPLE_AppDefinedError",
     "evalue": "b'sqlite3_exec(CREATE VIRTUAL TABLE \"rtree_2011 region cores sustain_v2_geom\" USING rtree(id, minx, maxx, miny, maxy)) failed: no such module: rtree'",
     "output_type": "error",
     "traceback": [
      "\u001b[1;31m---------------------------------------------------------------------------\u001b[0m",
      "\u001b[1;31mCPLE_AppDefinedError\u001b[0m                      Traceback (most recent call last)",
      "\u001b[1;32mfiona/_err.pyx\u001b[0m in \u001b[0;36mfiona._err.GDALErrCtxManager.__exit__\u001b[1;34m()\u001b[0m\n",
      "\u001b[1;31mCPLE_AppDefinedError\u001b[0m: b'sqlite3_exec(CREATE VIRTUAL TABLE \"rtree_2011 region cores sustain_v2_geom\" USING rtree(id, minx, maxx, miny, maxy)) failed: no such module: rtree'"
     ]
    },
    {
     "name": "stderr",
     "output_type": "stream",
     "text": [
      "Exception ignored in: 'fiona._shim.gdal_flush_cache'\n",
      "Traceback (most recent call last):\n",
      "  File \"fiona/_err.pyx\", line 201, in fiona._err.GDALErrCtxManager.__exit__\n",
      "fiona._err.CPLE_AppDefinedError: b'sqlite3_exec(CREATE VIRTUAL TABLE \"rtree_2011 region cores sustain_v2_geom\" USING rtree(id, minx, maxx, miny, maxy)) failed: no such module: rtree'\n"
     ]
    },
    {
     "ename": "CPLE_AppDefinedError",
     "evalue": "b'sqlite3_exec(CREATE VIRTUAL TABLE \"rtree_2012 region cores sustain_v2_geom\" USING rtree(id, minx, maxx, miny, maxy)) failed: no such module: rtree'",
     "output_type": "error",
     "traceback": [
      "\u001b[1;31m---------------------------------------------------------------------------\u001b[0m",
      "\u001b[1;31mCPLE_AppDefinedError\u001b[0m                      Traceback (most recent call last)",
      "\u001b[1;32mfiona/_err.pyx\u001b[0m in \u001b[0;36mfiona._err.GDALErrCtxManager.__exit__\u001b[1;34m()\u001b[0m\n",
      "\u001b[1;31mCPLE_AppDefinedError\u001b[0m: b'sqlite3_exec(CREATE VIRTUAL TABLE \"rtree_2012 region cores sustain_v2_geom\" USING rtree(id, minx, maxx, miny, maxy)) failed: no such module: rtree'"
     ]
    },
    {
     "name": "stderr",
     "output_type": "stream",
     "text": [
      "Exception ignored in: 'fiona._shim.gdal_flush_cache'\n",
      "Traceback (most recent call last):\n",
      "  File \"fiona/_err.pyx\", line 201, in fiona._err.GDALErrCtxManager.__exit__\n",
      "fiona._err.CPLE_AppDefinedError: b'sqlite3_exec(CREATE VIRTUAL TABLE \"rtree_2012 region cores sustain_v2_geom\" USING rtree(id, minx, maxx, miny, maxy)) failed: no such module: rtree'\n"
     ]
    },
    {
     "ename": "CPLE_AppDefinedError",
     "evalue": "b'sqlite3_exec(CREATE VIRTUAL TABLE \"rtree_2013 region cores sustain_v2_geom\" USING rtree(id, minx, maxx, miny, maxy)) failed: no such module: rtree'",
     "output_type": "error",
     "traceback": [
      "\u001b[1;31m---------------------------------------------------------------------------\u001b[0m",
      "\u001b[1;31mCPLE_AppDefinedError\u001b[0m                      Traceback (most recent call last)",
      "\u001b[1;32mfiona/_err.pyx\u001b[0m in \u001b[0;36mfiona._err.GDALErrCtxManager.__exit__\u001b[1;34m()\u001b[0m\n",
      "\u001b[1;31mCPLE_AppDefinedError\u001b[0m: b'sqlite3_exec(CREATE VIRTUAL TABLE \"rtree_2013 region cores sustain_v2_geom\" USING rtree(id, minx, maxx, miny, maxy)) failed: no such module: rtree'"
     ]
    },
    {
     "name": "stderr",
     "output_type": "stream",
     "text": [
      "Exception ignored in: 'fiona._shim.gdal_flush_cache'\n",
      "Traceback (most recent call last):\n",
      "  File \"fiona/_err.pyx\", line 201, in fiona._err.GDALErrCtxManager.__exit__\n",
      "fiona._err.CPLE_AppDefinedError: b'sqlite3_exec(CREATE VIRTUAL TABLE \"rtree_2013 region cores sustain_v2_geom\" USING rtree(id, minx, maxx, miny, maxy)) failed: no such module: rtree'\n"
     ]
    },
    {
     "ename": "CPLE_AppDefinedError",
     "evalue": "b'sqlite3_exec(CREATE VIRTUAL TABLE \"rtree_2014 region cores sustain_v2_geom\" USING rtree(id, minx, maxx, miny, maxy)) failed: no such module: rtree'",
     "output_type": "error",
     "traceback": [
      "\u001b[1;31m---------------------------------------------------------------------------\u001b[0m",
      "\u001b[1;31mCPLE_AppDefinedError\u001b[0m                      Traceback (most recent call last)",
      "\u001b[1;32mfiona/_err.pyx\u001b[0m in \u001b[0;36mfiona._err.GDALErrCtxManager.__exit__\u001b[1;34m()\u001b[0m\n",
      "\u001b[1;31mCPLE_AppDefinedError\u001b[0m: b'sqlite3_exec(CREATE VIRTUAL TABLE \"rtree_2014 region cores sustain_v2_geom\" USING rtree(id, minx, maxx, miny, maxy)) failed: no such module: rtree'"
     ]
    },
    {
     "name": "stderr",
     "output_type": "stream",
     "text": [
      "Exception ignored in: 'fiona._shim.gdal_flush_cache'\n",
      "Traceback (most recent call last):\n",
      "  File \"fiona/_err.pyx\", line 201, in fiona._err.GDALErrCtxManager.__exit__\n",
      "fiona._err.CPLE_AppDefinedError: b'sqlite3_exec(CREATE VIRTUAL TABLE \"rtree_2014 region cores sustain_v2_geom\" USING rtree(id, minx, maxx, miny, maxy)) failed: no such module: rtree'\n"
     ]
    },
    {
     "ename": "CPLE_AppDefinedError",
     "evalue": "b'sqlite3_exec(CREATE VIRTUAL TABLE \"rtree_2015 region cores sustain_v2_geom\" USING rtree(id, minx, maxx, miny, maxy)) failed: no such module: rtree'",
     "output_type": "error",
     "traceback": [
      "\u001b[1;31m---------------------------------------------------------------------------\u001b[0m",
      "\u001b[1;31mCPLE_AppDefinedError\u001b[0m                      Traceback (most recent call last)",
      "\u001b[1;32mfiona/_err.pyx\u001b[0m in \u001b[0;36mfiona._err.GDALErrCtxManager.__exit__\u001b[1;34m()\u001b[0m\n",
      "\u001b[1;31mCPLE_AppDefinedError\u001b[0m: b'sqlite3_exec(CREATE VIRTUAL TABLE \"rtree_2015 region cores sustain_v2_geom\" USING rtree(id, minx, maxx, miny, maxy)) failed: no such module: rtree'"
     ]
    },
    {
     "name": "stderr",
     "output_type": "stream",
     "text": [
      "Exception ignored in: 'fiona._shim.gdal_flush_cache'\n",
      "Traceback (most recent call last):\n",
      "  File \"fiona/_err.pyx\", line 201, in fiona._err.GDALErrCtxManager.__exit__\n",
      "fiona._err.CPLE_AppDefinedError: b'sqlite3_exec(CREATE VIRTUAL TABLE \"rtree_2015 region cores sustain_v2_geom\" USING rtree(id, minx, maxx, miny, maxy)) failed: no such module: rtree'\n"
     ]
    },
    {
     "ename": "CPLE_AppDefinedError",
     "evalue": "b'sqlite3_exec(CREATE VIRTUAL TABLE \"rtree_2016 region cores sustain_v2_geom\" USING rtree(id, minx, maxx, miny, maxy)) failed: no such module: rtree'",
     "output_type": "error",
     "traceback": [
      "\u001b[1;31m---------------------------------------------------------------------------\u001b[0m",
      "\u001b[1;31mCPLE_AppDefinedError\u001b[0m                      Traceback (most recent call last)",
      "\u001b[1;32mfiona/_err.pyx\u001b[0m in \u001b[0;36mfiona._err.GDALErrCtxManager.__exit__\u001b[1;34m()\u001b[0m\n",
      "\u001b[1;31mCPLE_AppDefinedError\u001b[0m: b'sqlite3_exec(CREATE VIRTUAL TABLE \"rtree_2016 region cores sustain_v2_geom\" USING rtree(id, minx, maxx, miny, maxy)) failed: no such module: rtree'"
     ]
    },
    {
     "name": "stderr",
     "output_type": "stream",
     "text": [
      "Exception ignored in: 'fiona._shim.gdal_flush_cache'\n",
      "Traceback (most recent call last):\n",
      "  File \"fiona/_err.pyx\", line 201, in fiona._err.GDALErrCtxManager.__exit__\n",
      "fiona._err.CPLE_AppDefinedError: b'sqlite3_exec(CREATE VIRTUAL TABLE \"rtree_2016 region cores sustain_v2_geom\" USING rtree(id, minx, maxx, miny, maxy)) failed: no such module: rtree'\n"
     ]
    },
    {
     "ename": "CPLE_AppDefinedError",
     "evalue": "b'sqlite3_exec(CREATE VIRTUAL TABLE \"rtree_2017 region cores sustain_v2_geom\" USING rtree(id, minx, maxx, miny, maxy)) failed: no such module: rtree'",
     "output_type": "error",
     "traceback": [
      "\u001b[1;31m---------------------------------------------------------------------------\u001b[0m",
      "\u001b[1;31mCPLE_AppDefinedError\u001b[0m                      Traceback (most recent call last)",
      "\u001b[1;32mfiona/_err.pyx\u001b[0m in \u001b[0;36mfiona._err.GDALErrCtxManager.__exit__\u001b[1;34m()\u001b[0m\n",
      "\u001b[1;31mCPLE_AppDefinedError\u001b[0m: b'sqlite3_exec(CREATE VIRTUAL TABLE \"rtree_2017 region cores sustain_v2_geom\" USING rtree(id, minx, maxx, miny, maxy)) failed: no such module: rtree'"
     ]
    },
    {
     "name": "stderr",
     "output_type": "stream",
     "text": [
      "Exception ignored in: 'fiona._shim.gdal_flush_cache'\n",
      "Traceback (most recent call last):\n",
      "  File \"fiona/_err.pyx\", line 201, in fiona._err.GDALErrCtxManager.__exit__\n",
      "fiona._err.CPLE_AppDefinedError: b'sqlite3_exec(CREATE VIRTUAL TABLE \"rtree_2017 region cores sustain_v2_geom\" USING rtree(id, minx, maxx, miny, maxy)) failed: no such module: rtree'\n"
     ]
    },
    {
     "data": {
      "text/plain": [
       "[None,\n",
       " None,\n",
       " None,\n",
       " None,\n",
       " None,\n",
       " None,\n",
       " None,\n",
       " None,\n",
       " None,\n",
       " None,\n",
       " None,\n",
       " None,\n",
       " None,\n",
       " None]"
      ]
     },
     "execution_count": 21,
     "metadata": {},
     "output_type": "execute_result"
    }
   ],
   "source": [
    "[\n",
    "    df_list[year].dropna(\n",
    "        subset = ['parent']\n",
    "    ).dissolve(by = 'parent').reset_index().to_file(\n",
    "        f'analysis/percolation_regions/{year} region cores sustain_v2.gpkg'\n",
    "    ) for year in range(2004,2018)\n",
    "]"
   ]
  },
  {
   "cell_type": "code",
   "execution_count": 22,
   "metadata": {
    "scrolled": true
   },
   "outputs": [
    {
     "ename": "CPLE_AppDefinedError",
     "evalue": "b'sqlite3_exec(CREATE VIRTUAL TABLE \"rtree_2004_evolution_v2_geom\" USING rtree(id, minx, maxx, miny, maxy)) failed: no such module: rtree'",
     "output_type": "error",
     "traceback": [
      "\u001b[1;31m---------------------------------------------------------------------------\u001b[0m",
      "\u001b[1;31mCPLE_AppDefinedError\u001b[0m                      Traceback (most recent call last)",
      "\u001b[1;32mfiona/_err.pyx\u001b[0m in \u001b[0;36mfiona._err.GDALErrCtxManager.__exit__\u001b[1;34m()\u001b[0m\n",
      "\u001b[1;31mCPLE_AppDefinedError\u001b[0m: b'sqlite3_exec(CREATE VIRTUAL TABLE \"rtree_2004_evolution_v2_geom\" USING rtree(id, minx, maxx, miny, maxy)) failed: no such module: rtree'"
     ]
    },
    {
     "name": "stderr",
     "output_type": "stream",
     "text": [
      "Exception ignored in: 'fiona._shim.gdal_flush_cache'\n",
      "Traceback (most recent call last):\n",
      "  File \"fiona/_err.pyx\", line 201, in fiona._err.GDALErrCtxManager.__exit__\n",
      "fiona._err.CPLE_AppDefinedError: b'sqlite3_exec(CREATE VIRTUAL TABLE \"rtree_2004_evolution_v2_geom\" USING rtree(id, minx, maxx, miny, maxy)) failed: no such module: rtree'\n"
     ]
    },
    {
     "ename": "CPLE_AppDefinedError",
     "evalue": "b'sqlite3_exec(CREATE VIRTUAL TABLE \"rtree_2005_evolution_v2_geom\" USING rtree(id, minx, maxx, miny, maxy)) failed: no such module: rtree'",
     "output_type": "error",
     "traceback": [
      "\u001b[1;31m---------------------------------------------------------------------------\u001b[0m",
      "\u001b[1;31mCPLE_AppDefinedError\u001b[0m                      Traceback (most recent call last)",
      "\u001b[1;32mfiona/_err.pyx\u001b[0m in \u001b[0;36mfiona._err.GDALErrCtxManager.__exit__\u001b[1;34m()\u001b[0m\n",
      "\u001b[1;31mCPLE_AppDefinedError\u001b[0m: b'sqlite3_exec(CREATE VIRTUAL TABLE \"rtree_2005_evolution_v2_geom\" USING rtree(id, minx, maxx, miny, maxy)) failed: no such module: rtree'"
     ]
    },
    {
     "name": "stderr",
     "output_type": "stream",
     "text": [
      "Exception ignored in: 'fiona._shim.gdal_flush_cache'\n",
      "Traceback (most recent call last):\n",
      "  File \"fiona/_err.pyx\", line 201, in fiona._err.GDALErrCtxManager.__exit__\n",
      "fiona._err.CPLE_AppDefinedError: b'sqlite3_exec(CREATE VIRTUAL TABLE \"rtree_2005_evolution_v2_geom\" USING rtree(id, minx, maxx, miny, maxy)) failed: no such module: rtree'\n"
     ]
    },
    {
     "ename": "CPLE_AppDefinedError",
     "evalue": "b'sqlite3_exec(CREATE VIRTUAL TABLE \"rtree_2006_evolution_v2_geom\" USING rtree(id, minx, maxx, miny, maxy)) failed: no such module: rtree'",
     "output_type": "error",
     "traceback": [
      "\u001b[1;31m---------------------------------------------------------------------------\u001b[0m",
      "\u001b[1;31mCPLE_AppDefinedError\u001b[0m                      Traceback (most recent call last)",
      "\u001b[1;32mfiona/_err.pyx\u001b[0m in \u001b[0;36mfiona._err.GDALErrCtxManager.__exit__\u001b[1;34m()\u001b[0m\n",
      "\u001b[1;31mCPLE_AppDefinedError\u001b[0m: b'sqlite3_exec(CREATE VIRTUAL TABLE \"rtree_2006_evolution_v2_geom\" USING rtree(id, minx, maxx, miny, maxy)) failed: no such module: rtree'"
     ]
    },
    {
     "name": "stderr",
     "output_type": "stream",
     "text": [
      "Exception ignored in: 'fiona._shim.gdal_flush_cache'\n",
      "Traceback (most recent call last):\n",
      "  File \"fiona/_err.pyx\", line 201, in fiona._err.GDALErrCtxManager.__exit__\n",
      "fiona._err.CPLE_AppDefinedError: b'sqlite3_exec(CREATE VIRTUAL TABLE \"rtree_2006_evolution_v2_geom\" USING rtree(id, minx, maxx, miny, maxy)) failed: no such module: rtree'\n"
     ]
    },
    {
     "ename": "CPLE_AppDefinedError",
     "evalue": "b'sqlite3_exec(CREATE VIRTUAL TABLE \"rtree_2007_evolution_v2_geom\" USING rtree(id, minx, maxx, miny, maxy)) failed: no such module: rtree'",
     "output_type": "error",
     "traceback": [
      "\u001b[1;31m---------------------------------------------------------------------------\u001b[0m",
      "\u001b[1;31mCPLE_AppDefinedError\u001b[0m                      Traceback (most recent call last)",
      "\u001b[1;32mfiona/_err.pyx\u001b[0m in \u001b[0;36mfiona._err.GDALErrCtxManager.__exit__\u001b[1;34m()\u001b[0m\n",
      "\u001b[1;31mCPLE_AppDefinedError\u001b[0m: b'sqlite3_exec(CREATE VIRTUAL TABLE \"rtree_2007_evolution_v2_geom\" USING rtree(id, minx, maxx, miny, maxy)) failed: no such module: rtree'"
     ]
    },
    {
     "name": "stderr",
     "output_type": "stream",
     "text": [
      "Exception ignored in: 'fiona._shim.gdal_flush_cache'\n",
      "Traceback (most recent call last):\n",
      "  File \"fiona/_err.pyx\", line 201, in fiona._err.GDALErrCtxManager.__exit__\n",
      "fiona._err.CPLE_AppDefinedError: b'sqlite3_exec(CREATE VIRTUAL TABLE \"rtree_2007_evolution_v2_geom\" USING rtree(id, minx, maxx, miny, maxy)) failed: no such module: rtree'\n"
     ]
    },
    {
     "ename": "CPLE_AppDefinedError",
     "evalue": "b'sqlite3_exec(CREATE VIRTUAL TABLE \"rtree_2008_evolution_v2_geom\" USING rtree(id, minx, maxx, miny, maxy)) failed: no such module: rtree'",
     "output_type": "error",
     "traceback": [
      "\u001b[1;31m---------------------------------------------------------------------------\u001b[0m",
      "\u001b[1;31mCPLE_AppDefinedError\u001b[0m                      Traceback (most recent call last)",
      "\u001b[1;32mfiona/_err.pyx\u001b[0m in \u001b[0;36mfiona._err.GDALErrCtxManager.__exit__\u001b[1;34m()\u001b[0m\n",
      "\u001b[1;31mCPLE_AppDefinedError\u001b[0m: b'sqlite3_exec(CREATE VIRTUAL TABLE \"rtree_2008_evolution_v2_geom\" USING rtree(id, minx, maxx, miny, maxy)) failed: no such module: rtree'"
     ]
    },
    {
     "name": "stderr",
     "output_type": "stream",
     "text": [
      "Exception ignored in: 'fiona._shim.gdal_flush_cache'\n",
      "Traceback (most recent call last):\n",
      "  File \"fiona/_err.pyx\", line 201, in fiona._err.GDALErrCtxManager.__exit__\n",
      "fiona._err.CPLE_AppDefinedError: b'sqlite3_exec(CREATE VIRTUAL TABLE \"rtree_2008_evolution_v2_geom\" USING rtree(id, minx, maxx, miny, maxy)) failed: no such module: rtree'\n"
     ]
    },
    {
     "ename": "CPLE_AppDefinedError",
     "evalue": "b'sqlite3_exec(CREATE VIRTUAL TABLE \"rtree_2009_evolution_v2_geom\" USING rtree(id, minx, maxx, miny, maxy)) failed: no such module: rtree'",
     "output_type": "error",
     "traceback": [
      "\u001b[1;31m---------------------------------------------------------------------------\u001b[0m",
      "\u001b[1;31mCPLE_AppDefinedError\u001b[0m                      Traceback (most recent call last)",
      "\u001b[1;32mfiona/_err.pyx\u001b[0m in \u001b[0;36mfiona._err.GDALErrCtxManager.__exit__\u001b[1;34m()\u001b[0m\n",
      "\u001b[1;31mCPLE_AppDefinedError\u001b[0m: b'sqlite3_exec(CREATE VIRTUAL TABLE \"rtree_2009_evolution_v2_geom\" USING rtree(id, minx, maxx, miny, maxy)) failed: no such module: rtree'"
     ]
    },
    {
     "name": "stderr",
     "output_type": "stream",
     "text": [
      "Exception ignored in: 'fiona._shim.gdal_flush_cache'\n",
      "Traceback (most recent call last):\n",
      "  File \"fiona/_err.pyx\", line 201, in fiona._err.GDALErrCtxManager.__exit__\n",
      "fiona._err.CPLE_AppDefinedError: b'sqlite3_exec(CREATE VIRTUAL TABLE \"rtree_2009_evolution_v2_geom\" USING rtree(id, minx, maxx, miny, maxy)) failed: no such module: rtree'\n"
     ]
    },
    {
     "ename": "CPLE_AppDefinedError",
     "evalue": "b'sqlite3_exec(CREATE VIRTUAL TABLE \"rtree_2010_evolution_v2_geom\" USING rtree(id, minx, maxx, miny, maxy)) failed: no such module: rtree'",
     "output_type": "error",
     "traceback": [
      "\u001b[1;31m---------------------------------------------------------------------------\u001b[0m",
      "\u001b[1;31mCPLE_AppDefinedError\u001b[0m                      Traceback (most recent call last)",
      "\u001b[1;32mfiona/_err.pyx\u001b[0m in \u001b[0;36mfiona._err.GDALErrCtxManager.__exit__\u001b[1;34m()\u001b[0m\n",
      "\u001b[1;31mCPLE_AppDefinedError\u001b[0m: b'sqlite3_exec(CREATE VIRTUAL TABLE \"rtree_2010_evolution_v2_geom\" USING rtree(id, minx, maxx, miny, maxy)) failed: no such module: rtree'"
     ]
    },
    {
     "name": "stderr",
     "output_type": "stream",
     "text": [
      "Exception ignored in: 'fiona._shim.gdal_flush_cache'\n",
      "Traceback (most recent call last):\n",
      "  File \"fiona/_err.pyx\", line 201, in fiona._err.GDALErrCtxManager.__exit__\n",
      "fiona._err.CPLE_AppDefinedError: b'sqlite3_exec(CREATE VIRTUAL TABLE \"rtree_2010_evolution_v2_geom\" USING rtree(id, minx, maxx, miny, maxy)) failed: no such module: rtree'\n"
     ]
    },
    {
     "ename": "CPLE_AppDefinedError",
     "evalue": "b'sqlite3_exec(CREATE VIRTUAL TABLE \"rtree_2011_evolution_v2_geom\" USING rtree(id, minx, maxx, miny, maxy)) failed: no such module: rtree'",
     "output_type": "error",
     "traceback": [
      "\u001b[1;31m---------------------------------------------------------------------------\u001b[0m",
      "\u001b[1;31mCPLE_AppDefinedError\u001b[0m                      Traceback (most recent call last)",
      "\u001b[1;32mfiona/_err.pyx\u001b[0m in \u001b[0;36mfiona._err.GDALErrCtxManager.__exit__\u001b[1;34m()\u001b[0m\n",
      "\u001b[1;31mCPLE_AppDefinedError\u001b[0m: b'sqlite3_exec(CREATE VIRTUAL TABLE \"rtree_2011_evolution_v2_geom\" USING rtree(id, minx, maxx, miny, maxy)) failed: no such module: rtree'"
     ]
    },
    {
     "name": "stderr",
     "output_type": "stream",
     "text": [
      "Exception ignored in: 'fiona._shim.gdal_flush_cache'\n",
      "Traceback (most recent call last):\n",
      "  File \"fiona/_err.pyx\", line 201, in fiona._err.GDALErrCtxManager.__exit__\n",
      "fiona._err.CPLE_AppDefinedError: b'sqlite3_exec(CREATE VIRTUAL TABLE \"rtree_2011_evolution_v2_geom\" USING rtree(id, minx, maxx, miny, maxy)) failed: no such module: rtree'\n"
     ]
    },
    {
     "ename": "CPLE_AppDefinedError",
     "evalue": "b'sqlite3_exec(CREATE VIRTUAL TABLE \"rtree_2012_evolution_v2_geom\" USING rtree(id, minx, maxx, miny, maxy)) failed: no such module: rtree'",
     "output_type": "error",
     "traceback": [
      "\u001b[1;31m---------------------------------------------------------------------------\u001b[0m",
      "\u001b[1;31mCPLE_AppDefinedError\u001b[0m                      Traceback (most recent call last)",
      "\u001b[1;32mfiona/_err.pyx\u001b[0m in \u001b[0;36mfiona._err.GDALErrCtxManager.__exit__\u001b[1;34m()\u001b[0m\n",
      "\u001b[1;31mCPLE_AppDefinedError\u001b[0m: b'sqlite3_exec(CREATE VIRTUAL TABLE \"rtree_2012_evolution_v2_geom\" USING rtree(id, minx, maxx, miny, maxy)) failed: no such module: rtree'"
     ]
    },
    {
     "name": "stderr",
     "output_type": "stream",
     "text": [
      "Exception ignored in: 'fiona._shim.gdal_flush_cache'\n",
      "Traceback (most recent call last):\n",
      "  File \"fiona/_err.pyx\", line 201, in fiona._err.GDALErrCtxManager.__exit__\n",
      "fiona._err.CPLE_AppDefinedError: b'sqlite3_exec(CREATE VIRTUAL TABLE \"rtree_2012_evolution_v2_geom\" USING rtree(id, minx, maxx, miny, maxy)) failed: no such module: rtree'\n"
     ]
    },
    {
     "ename": "CPLE_AppDefinedError",
     "evalue": "b'sqlite3_exec(CREATE VIRTUAL TABLE \"rtree_2013_evolution_v2_geom\" USING rtree(id, minx, maxx, miny, maxy)) failed: no such module: rtree'",
     "output_type": "error",
     "traceback": [
      "\u001b[1;31m---------------------------------------------------------------------------\u001b[0m",
      "\u001b[1;31mCPLE_AppDefinedError\u001b[0m                      Traceback (most recent call last)",
      "\u001b[1;32mfiona/_err.pyx\u001b[0m in \u001b[0;36mfiona._err.GDALErrCtxManager.__exit__\u001b[1;34m()\u001b[0m\n",
      "\u001b[1;31mCPLE_AppDefinedError\u001b[0m: b'sqlite3_exec(CREATE VIRTUAL TABLE \"rtree_2013_evolution_v2_geom\" USING rtree(id, minx, maxx, miny, maxy)) failed: no such module: rtree'"
     ]
    },
    {
     "name": "stderr",
     "output_type": "stream",
     "text": [
      "Exception ignored in: 'fiona._shim.gdal_flush_cache'\n",
      "Traceback (most recent call last):\n",
      "  File \"fiona/_err.pyx\", line 201, in fiona._err.GDALErrCtxManager.__exit__\n",
      "fiona._err.CPLE_AppDefinedError: b'sqlite3_exec(CREATE VIRTUAL TABLE \"rtree_2013_evolution_v2_geom\" USING rtree(id, minx, maxx, miny, maxy)) failed: no such module: rtree'\n"
     ]
    },
    {
     "ename": "CPLE_AppDefinedError",
     "evalue": "b'sqlite3_exec(CREATE VIRTUAL TABLE \"rtree_2014_evolution_v2_geom\" USING rtree(id, minx, maxx, miny, maxy)) failed: no such module: rtree'",
     "output_type": "error",
     "traceback": [
      "\u001b[1;31m---------------------------------------------------------------------------\u001b[0m",
      "\u001b[1;31mCPLE_AppDefinedError\u001b[0m                      Traceback (most recent call last)",
      "\u001b[1;32mfiona/_err.pyx\u001b[0m in \u001b[0;36mfiona._err.GDALErrCtxManager.__exit__\u001b[1;34m()\u001b[0m\n",
      "\u001b[1;31mCPLE_AppDefinedError\u001b[0m: b'sqlite3_exec(CREATE VIRTUAL TABLE \"rtree_2014_evolution_v2_geom\" USING rtree(id, minx, maxx, miny, maxy)) failed: no such module: rtree'"
     ]
    },
    {
     "name": "stderr",
     "output_type": "stream",
     "text": [
      "Exception ignored in: 'fiona._shim.gdal_flush_cache'\n",
      "Traceback (most recent call last):\n",
      "  File \"fiona/_err.pyx\", line 201, in fiona._err.GDALErrCtxManager.__exit__\n",
      "fiona._err.CPLE_AppDefinedError: b'sqlite3_exec(CREATE VIRTUAL TABLE \"rtree_2014_evolution_v2_geom\" USING rtree(id, minx, maxx, miny, maxy)) failed: no such module: rtree'\n"
     ]
    },
    {
     "ename": "CPLE_AppDefinedError",
     "evalue": "b'sqlite3_exec(CREATE VIRTUAL TABLE \"rtree_2015_evolution_v2_geom\" USING rtree(id, minx, maxx, miny, maxy)) failed: no such module: rtree'",
     "output_type": "error",
     "traceback": [
      "\u001b[1;31m---------------------------------------------------------------------------\u001b[0m",
      "\u001b[1;31mCPLE_AppDefinedError\u001b[0m                      Traceback (most recent call last)",
      "\u001b[1;32mfiona/_err.pyx\u001b[0m in \u001b[0;36mfiona._err.GDALErrCtxManager.__exit__\u001b[1;34m()\u001b[0m\n",
      "\u001b[1;31mCPLE_AppDefinedError\u001b[0m: b'sqlite3_exec(CREATE VIRTUAL TABLE \"rtree_2015_evolution_v2_geom\" USING rtree(id, minx, maxx, miny, maxy)) failed: no such module: rtree'"
     ]
    },
    {
     "name": "stderr",
     "output_type": "stream",
     "text": [
      "Exception ignored in: 'fiona._shim.gdal_flush_cache'\n",
      "Traceback (most recent call last):\n",
      "  File \"fiona/_err.pyx\", line 201, in fiona._err.GDALErrCtxManager.__exit__\n",
      "fiona._err.CPLE_AppDefinedError: b'sqlite3_exec(CREATE VIRTUAL TABLE \"rtree_2015_evolution_v2_geom\" USING rtree(id, minx, maxx, miny, maxy)) failed: no such module: rtree'\n"
     ]
    },
    {
     "ename": "CPLE_AppDefinedError",
     "evalue": "b'sqlite3_exec(CREATE VIRTUAL TABLE \"rtree_2016_evolution_v2_geom\" USING rtree(id, minx, maxx, miny, maxy)) failed: no such module: rtree'",
     "output_type": "error",
     "traceback": [
      "\u001b[1;31m---------------------------------------------------------------------------\u001b[0m",
      "\u001b[1;31mCPLE_AppDefinedError\u001b[0m                      Traceback (most recent call last)",
      "\u001b[1;32mfiona/_err.pyx\u001b[0m in \u001b[0;36mfiona._err.GDALErrCtxManager.__exit__\u001b[1;34m()\u001b[0m\n",
      "\u001b[1;31mCPLE_AppDefinedError\u001b[0m: b'sqlite3_exec(CREATE VIRTUAL TABLE \"rtree_2016_evolution_v2_geom\" USING rtree(id, minx, maxx, miny, maxy)) failed: no such module: rtree'"
     ]
    },
    {
     "name": "stderr",
     "output_type": "stream",
     "text": [
      "Exception ignored in: 'fiona._shim.gdal_flush_cache'\n",
      "Traceback (most recent call last):\n",
      "  File \"fiona/_err.pyx\", line 201, in fiona._err.GDALErrCtxManager.__exit__\n",
      "fiona._err.CPLE_AppDefinedError: b'sqlite3_exec(CREATE VIRTUAL TABLE \"rtree_2016_evolution_v2_geom\" USING rtree(id, minx, maxx, miny, maxy)) failed: no such module: rtree'\n"
     ]
    },
    {
     "ename": "CPLE_AppDefinedError",
     "evalue": "b'sqlite3_exec(CREATE VIRTUAL TABLE \"rtree_2017_evolution_v2_geom\" USING rtree(id, minx, maxx, miny, maxy)) failed: no such module: rtree'",
     "output_type": "error",
     "traceback": [
      "\u001b[1;31m---------------------------------------------------------------------------\u001b[0m",
      "\u001b[1;31mCPLE_AppDefinedError\u001b[0m                      Traceback (most recent call last)",
      "\u001b[1;32mfiona/_err.pyx\u001b[0m in \u001b[0;36mfiona._err.GDALErrCtxManager.__exit__\u001b[1;34m()\u001b[0m\n",
      "\u001b[1;31mCPLE_AppDefinedError\u001b[0m: b'sqlite3_exec(CREATE VIRTUAL TABLE \"rtree_2017_evolution_v2_geom\" USING rtree(id, minx, maxx, miny, maxy)) failed: no such module: rtree'"
     ]
    },
    {
     "name": "stderr",
     "output_type": "stream",
     "text": [
      "Exception ignored in: 'fiona._shim.gdal_flush_cache'\n",
      "Traceback (most recent call last):\n",
      "  File \"fiona/_err.pyx\", line 201, in fiona._err.GDALErrCtxManager.__exit__\n",
      "fiona._err.CPLE_AppDefinedError: b'sqlite3_exec(CREATE VIRTUAL TABLE \"rtree_2017_evolution_v2_geom\" USING rtree(id, minx, maxx, miny, maxy)) failed: no such module: rtree'\n"
     ]
    },
    {
     "data": {
      "text/plain": [
       "[None,\n",
       " None,\n",
       " None,\n",
       " None,\n",
       " None,\n",
       " None,\n",
       " None,\n",
       " None,\n",
       " None,\n",
       " None,\n",
       " None,\n",
       " None,\n",
       " None,\n",
       " None]"
      ]
     },
     "execution_count": 22,
     "metadata": {},
     "output_type": "execute_result"
    }
   ],
   "source": [
    "[\n",
    "    bounds.drop(\n",
    "        columns = ['parent', 'sustain']\n",
    "    ).merge(\n",
    "        i, on = 'NAME', how = 'right'\n",
    "    ).dropna(subset = ['geometry']).dissolve(by = ['parent','percolation_threshold']).reset_index().to_file(\n",
    "        f'analysis/percolation_regions/evo/{i.year.unique()[0]}_evolution_v2.gpkg',\n",
    "        driver = 'GPKG'\n",
    "    ) for i in percolation_regions\n",
    "]"
   ]
  },
  {
   "cell_type": "code",
   "execution_count": 23,
   "metadata": {
    "scrolled": true
   },
   "outputs": [
    {
     "ename": "CPLE_AppDefinedError",
     "evalue": "b'sqlite3_exec(CREATE VIRTUAL TABLE \"rtree_2004_evolution_v2_geom\" USING rtree(id, minx, maxx, miny, maxy)) failed: no such module: rtree'",
     "output_type": "error",
     "traceback": [
      "\u001b[1;31m---------------------------------------------------------------------------\u001b[0m",
      "\u001b[1;31mCPLE_AppDefinedError\u001b[0m                      Traceback (most recent call last)",
      "\u001b[1;32mfiona/_err.pyx\u001b[0m in \u001b[0;36mfiona._err.GDALErrCtxManager.__exit__\u001b[1;34m()\u001b[0m\n",
      "\u001b[1;31mCPLE_AppDefinedError\u001b[0m: b'sqlite3_exec(CREATE VIRTUAL TABLE \"rtree_2004_evolution_v2_geom\" USING rtree(id, minx, maxx, miny, maxy)) failed: no such module: rtree'"
     ]
    },
    {
     "name": "stderr",
     "output_type": "stream",
     "text": [
      "Exception ignored in: 'fiona._shim.gdal_flush_cache'\n",
      "Traceback (most recent call last):\n",
      "  File \"fiona/_err.pyx\", line 201, in fiona._err.GDALErrCtxManager.__exit__\n",
      "fiona._err.CPLE_AppDefinedError: b'sqlite3_exec(CREATE VIRTUAL TABLE \"rtree_2004_evolution_v2_geom\" USING rtree(id, minx, maxx, miny, maxy)) failed: no such module: rtree'\n"
     ]
    },
    {
     "ename": "CPLE_AppDefinedError",
     "evalue": "b'sqlite3_exec(CREATE VIRTUAL TABLE \"rtree_2005_evolution_v2_geom\" USING rtree(id, minx, maxx, miny, maxy)) failed: no such module: rtree'",
     "output_type": "error",
     "traceback": [
      "\u001b[1;31m---------------------------------------------------------------------------\u001b[0m",
      "\u001b[1;31mCPLE_AppDefinedError\u001b[0m                      Traceback (most recent call last)",
      "\u001b[1;32mfiona/_err.pyx\u001b[0m in \u001b[0;36mfiona._err.GDALErrCtxManager.__exit__\u001b[1;34m()\u001b[0m\n",
      "\u001b[1;31mCPLE_AppDefinedError\u001b[0m: b'sqlite3_exec(CREATE VIRTUAL TABLE \"rtree_2005_evolution_v2_geom\" USING rtree(id, minx, maxx, miny, maxy)) failed: no such module: rtree'"
     ]
    },
    {
     "name": "stderr",
     "output_type": "stream",
     "text": [
      "Exception ignored in: 'fiona._shim.gdal_flush_cache'\n",
      "Traceback (most recent call last):\n",
      "  File \"fiona/_err.pyx\", line 201, in fiona._err.GDALErrCtxManager.__exit__\n",
      "fiona._err.CPLE_AppDefinedError: b'sqlite3_exec(CREATE VIRTUAL TABLE \"rtree_2005_evolution_v2_geom\" USING rtree(id, minx, maxx, miny, maxy)) failed: no such module: rtree'\n"
     ]
    },
    {
     "ename": "CPLE_AppDefinedError",
     "evalue": "b'sqlite3_exec(CREATE VIRTUAL TABLE \"rtree_2006_evolution_v2_geom\" USING rtree(id, minx, maxx, miny, maxy)) failed: no such module: rtree'",
     "output_type": "error",
     "traceback": [
      "\u001b[1;31m---------------------------------------------------------------------------\u001b[0m",
      "\u001b[1;31mCPLE_AppDefinedError\u001b[0m                      Traceback (most recent call last)",
      "\u001b[1;32mfiona/_err.pyx\u001b[0m in \u001b[0;36mfiona._err.GDALErrCtxManager.__exit__\u001b[1;34m()\u001b[0m\n",
      "\u001b[1;31mCPLE_AppDefinedError\u001b[0m: b'sqlite3_exec(CREATE VIRTUAL TABLE \"rtree_2006_evolution_v2_geom\" USING rtree(id, minx, maxx, miny, maxy)) failed: no such module: rtree'"
     ]
    },
    {
     "name": "stderr",
     "output_type": "stream",
     "text": [
      "Exception ignored in: 'fiona._shim.gdal_flush_cache'\n",
      "Traceback (most recent call last):\n",
      "  File \"fiona/_err.pyx\", line 201, in fiona._err.GDALErrCtxManager.__exit__\n",
      "fiona._err.CPLE_AppDefinedError: b'sqlite3_exec(CREATE VIRTUAL TABLE \"rtree_2006_evolution_v2_geom\" USING rtree(id, minx, maxx, miny, maxy)) failed: no such module: rtree'\n"
     ]
    },
    {
     "ename": "CPLE_AppDefinedError",
     "evalue": "b'sqlite3_exec(CREATE VIRTUAL TABLE \"rtree_2007_evolution_v2_geom\" USING rtree(id, minx, maxx, miny, maxy)) failed: no such module: rtree'",
     "output_type": "error",
     "traceback": [
      "\u001b[1;31m---------------------------------------------------------------------------\u001b[0m",
      "\u001b[1;31mCPLE_AppDefinedError\u001b[0m                      Traceback (most recent call last)",
      "\u001b[1;32mfiona/_err.pyx\u001b[0m in \u001b[0;36mfiona._err.GDALErrCtxManager.__exit__\u001b[1;34m()\u001b[0m\n",
      "\u001b[1;31mCPLE_AppDefinedError\u001b[0m: b'sqlite3_exec(CREATE VIRTUAL TABLE \"rtree_2007_evolution_v2_geom\" USING rtree(id, minx, maxx, miny, maxy)) failed: no such module: rtree'"
     ]
    },
    {
     "name": "stderr",
     "output_type": "stream",
     "text": [
      "Exception ignored in: 'fiona._shim.gdal_flush_cache'\n",
      "Traceback (most recent call last):\n",
      "  File \"fiona/_err.pyx\", line 201, in fiona._err.GDALErrCtxManager.__exit__\n",
      "fiona._err.CPLE_AppDefinedError: b'sqlite3_exec(CREATE VIRTUAL TABLE \"rtree_2007_evolution_v2_geom\" USING rtree(id, minx, maxx, miny, maxy)) failed: no such module: rtree'\n"
     ]
    },
    {
     "ename": "CPLE_AppDefinedError",
     "evalue": "b'sqlite3_exec(CREATE VIRTUAL TABLE \"rtree_2008_evolution_v2_geom\" USING rtree(id, minx, maxx, miny, maxy)) failed: no such module: rtree'",
     "output_type": "error",
     "traceback": [
      "\u001b[1;31m---------------------------------------------------------------------------\u001b[0m",
      "\u001b[1;31mCPLE_AppDefinedError\u001b[0m                      Traceback (most recent call last)",
      "\u001b[1;32mfiona/_err.pyx\u001b[0m in \u001b[0;36mfiona._err.GDALErrCtxManager.__exit__\u001b[1;34m()\u001b[0m\n",
      "\u001b[1;31mCPLE_AppDefinedError\u001b[0m: b'sqlite3_exec(CREATE VIRTUAL TABLE \"rtree_2008_evolution_v2_geom\" USING rtree(id, minx, maxx, miny, maxy)) failed: no such module: rtree'"
     ]
    },
    {
     "name": "stderr",
     "output_type": "stream",
     "text": [
      "Exception ignored in: 'fiona._shim.gdal_flush_cache'\n",
      "Traceback (most recent call last):\n",
      "  File \"fiona/_err.pyx\", line 201, in fiona._err.GDALErrCtxManager.__exit__\n",
      "fiona._err.CPLE_AppDefinedError: b'sqlite3_exec(CREATE VIRTUAL TABLE \"rtree_2008_evolution_v2_geom\" USING rtree(id, minx, maxx, miny, maxy)) failed: no such module: rtree'\n"
     ]
    },
    {
     "ename": "CPLE_AppDefinedError",
     "evalue": "b'sqlite3_exec(CREATE VIRTUAL TABLE \"rtree_2009_evolution_v2_geom\" USING rtree(id, minx, maxx, miny, maxy)) failed: no such module: rtree'",
     "output_type": "error",
     "traceback": [
      "\u001b[1;31m---------------------------------------------------------------------------\u001b[0m",
      "\u001b[1;31mCPLE_AppDefinedError\u001b[0m                      Traceback (most recent call last)",
      "\u001b[1;32mfiona/_err.pyx\u001b[0m in \u001b[0;36mfiona._err.GDALErrCtxManager.__exit__\u001b[1;34m()\u001b[0m\n",
      "\u001b[1;31mCPLE_AppDefinedError\u001b[0m: b'sqlite3_exec(CREATE VIRTUAL TABLE \"rtree_2009_evolution_v2_geom\" USING rtree(id, minx, maxx, miny, maxy)) failed: no such module: rtree'"
     ]
    },
    {
     "name": "stderr",
     "output_type": "stream",
     "text": [
      "Exception ignored in: 'fiona._shim.gdal_flush_cache'\n",
      "Traceback (most recent call last):\n",
      "  File \"fiona/_err.pyx\", line 201, in fiona._err.GDALErrCtxManager.__exit__\n",
      "fiona._err.CPLE_AppDefinedError: b'sqlite3_exec(CREATE VIRTUAL TABLE \"rtree_2009_evolution_v2_geom\" USING rtree(id, minx, maxx, miny, maxy)) failed: no such module: rtree'\n"
     ]
    },
    {
     "ename": "CPLE_AppDefinedError",
     "evalue": "b'sqlite3_exec(CREATE VIRTUAL TABLE \"rtree_2010_evolution_v2_geom\" USING rtree(id, minx, maxx, miny, maxy)) failed: no such module: rtree'",
     "output_type": "error",
     "traceback": [
      "\u001b[1;31m---------------------------------------------------------------------------\u001b[0m",
      "\u001b[1;31mCPLE_AppDefinedError\u001b[0m                      Traceback (most recent call last)",
      "\u001b[1;32mfiona/_err.pyx\u001b[0m in \u001b[0;36mfiona._err.GDALErrCtxManager.__exit__\u001b[1;34m()\u001b[0m\n",
      "\u001b[1;31mCPLE_AppDefinedError\u001b[0m: b'sqlite3_exec(CREATE VIRTUAL TABLE \"rtree_2010_evolution_v2_geom\" USING rtree(id, minx, maxx, miny, maxy)) failed: no such module: rtree'"
     ]
    },
    {
     "name": "stderr",
     "output_type": "stream",
     "text": [
      "Exception ignored in: 'fiona._shim.gdal_flush_cache'\n",
      "Traceback (most recent call last):\n",
      "  File \"fiona/_err.pyx\", line 201, in fiona._err.GDALErrCtxManager.__exit__\n",
      "fiona._err.CPLE_AppDefinedError: b'sqlite3_exec(CREATE VIRTUAL TABLE \"rtree_2010_evolution_v2_geom\" USING rtree(id, minx, maxx, miny, maxy)) failed: no such module: rtree'\n"
     ]
    },
    {
     "ename": "CPLE_AppDefinedError",
     "evalue": "b'sqlite3_exec(CREATE VIRTUAL TABLE \"rtree_2011_evolution_v2_geom\" USING rtree(id, minx, maxx, miny, maxy)) failed: no such module: rtree'",
     "output_type": "error",
     "traceback": [
      "\u001b[1;31m---------------------------------------------------------------------------\u001b[0m",
      "\u001b[1;31mCPLE_AppDefinedError\u001b[0m                      Traceback (most recent call last)",
      "\u001b[1;32mfiona/_err.pyx\u001b[0m in \u001b[0;36mfiona._err.GDALErrCtxManager.__exit__\u001b[1;34m()\u001b[0m\n",
      "\u001b[1;31mCPLE_AppDefinedError\u001b[0m: b'sqlite3_exec(CREATE VIRTUAL TABLE \"rtree_2011_evolution_v2_geom\" USING rtree(id, minx, maxx, miny, maxy)) failed: no such module: rtree'"
     ]
    },
    {
     "name": "stderr",
     "output_type": "stream",
     "text": [
      "Exception ignored in: 'fiona._shim.gdal_flush_cache'\n",
      "Traceback (most recent call last):\n",
      "  File \"fiona/_err.pyx\", line 201, in fiona._err.GDALErrCtxManager.__exit__\n",
      "fiona._err.CPLE_AppDefinedError: b'sqlite3_exec(CREATE VIRTUAL TABLE \"rtree_2011_evolution_v2_geom\" USING rtree(id, minx, maxx, miny, maxy)) failed: no such module: rtree'\n"
     ]
    },
    {
     "ename": "CPLE_AppDefinedError",
     "evalue": "b'sqlite3_exec(CREATE VIRTUAL TABLE \"rtree_2012_evolution_v2_geom\" USING rtree(id, minx, maxx, miny, maxy)) failed: no such module: rtree'",
     "output_type": "error",
     "traceback": [
      "\u001b[1;31m---------------------------------------------------------------------------\u001b[0m",
      "\u001b[1;31mCPLE_AppDefinedError\u001b[0m                      Traceback (most recent call last)",
      "\u001b[1;32mfiona/_err.pyx\u001b[0m in \u001b[0;36mfiona._err.GDALErrCtxManager.__exit__\u001b[1;34m()\u001b[0m\n",
      "\u001b[1;31mCPLE_AppDefinedError\u001b[0m: b'sqlite3_exec(CREATE VIRTUAL TABLE \"rtree_2012_evolution_v2_geom\" USING rtree(id, minx, maxx, miny, maxy)) failed: no such module: rtree'"
     ]
    },
    {
     "name": "stderr",
     "output_type": "stream",
     "text": [
      "Exception ignored in: 'fiona._shim.gdal_flush_cache'\n",
      "Traceback (most recent call last):\n",
      "  File \"fiona/_err.pyx\", line 201, in fiona._err.GDALErrCtxManager.__exit__\n",
      "fiona._err.CPLE_AppDefinedError: b'sqlite3_exec(CREATE VIRTUAL TABLE \"rtree_2012_evolution_v2_geom\" USING rtree(id, minx, maxx, miny, maxy)) failed: no such module: rtree'\n"
     ]
    },
    {
     "ename": "CPLE_AppDefinedError",
     "evalue": "b'sqlite3_exec(CREATE VIRTUAL TABLE \"rtree_2013_evolution_v2_geom\" USING rtree(id, minx, maxx, miny, maxy)) failed: no such module: rtree'",
     "output_type": "error",
     "traceback": [
      "\u001b[1;31m---------------------------------------------------------------------------\u001b[0m",
      "\u001b[1;31mCPLE_AppDefinedError\u001b[0m                      Traceback (most recent call last)",
      "\u001b[1;32mfiona/_err.pyx\u001b[0m in \u001b[0;36mfiona._err.GDALErrCtxManager.__exit__\u001b[1;34m()\u001b[0m\n",
      "\u001b[1;31mCPLE_AppDefinedError\u001b[0m: b'sqlite3_exec(CREATE VIRTUAL TABLE \"rtree_2013_evolution_v2_geom\" USING rtree(id, minx, maxx, miny, maxy)) failed: no such module: rtree'"
     ]
    },
    {
     "name": "stderr",
     "output_type": "stream",
     "text": [
      "Exception ignored in: 'fiona._shim.gdal_flush_cache'\n",
      "Traceback (most recent call last):\n",
      "  File \"fiona/_err.pyx\", line 201, in fiona._err.GDALErrCtxManager.__exit__\n",
      "fiona._err.CPLE_AppDefinedError: b'sqlite3_exec(CREATE VIRTUAL TABLE \"rtree_2013_evolution_v2_geom\" USING rtree(id, minx, maxx, miny, maxy)) failed: no such module: rtree'\n"
     ]
    },
    {
     "ename": "CPLE_AppDefinedError",
     "evalue": "b'sqlite3_exec(CREATE VIRTUAL TABLE \"rtree_2014_evolution_v2_geom\" USING rtree(id, minx, maxx, miny, maxy)) failed: no such module: rtree'",
     "output_type": "error",
     "traceback": [
      "\u001b[1;31m---------------------------------------------------------------------------\u001b[0m",
      "\u001b[1;31mCPLE_AppDefinedError\u001b[0m                      Traceback (most recent call last)",
      "\u001b[1;32mfiona/_err.pyx\u001b[0m in \u001b[0;36mfiona._err.GDALErrCtxManager.__exit__\u001b[1;34m()\u001b[0m\n",
      "\u001b[1;31mCPLE_AppDefinedError\u001b[0m: b'sqlite3_exec(CREATE VIRTUAL TABLE \"rtree_2014_evolution_v2_geom\" USING rtree(id, minx, maxx, miny, maxy)) failed: no such module: rtree'"
     ]
    },
    {
     "name": "stderr",
     "output_type": "stream",
     "text": [
      "Exception ignored in: 'fiona._shim.gdal_flush_cache'\n",
      "Traceback (most recent call last):\n",
      "  File \"fiona/_err.pyx\", line 201, in fiona._err.GDALErrCtxManager.__exit__\n",
      "fiona._err.CPLE_AppDefinedError: b'sqlite3_exec(CREATE VIRTUAL TABLE \"rtree_2014_evolution_v2_geom\" USING rtree(id, minx, maxx, miny, maxy)) failed: no such module: rtree'\n"
     ]
    },
    {
     "ename": "CPLE_AppDefinedError",
     "evalue": "b'sqlite3_exec(CREATE VIRTUAL TABLE \"rtree_2015_evolution_v2_geom\" USING rtree(id, minx, maxx, miny, maxy)) failed: no such module: rtree'",
     "output_type": "error",
     "traceback": [
      "\u001b[1;31m---------------------------------------------------------------------------\u001b[0m",
      "\u001b[1;31mCPLE_AppDefinedError\u001b[0m                      Traceback (most recent call last)",
      "\u001b[1;32mfiona/_err.pyx\u001b[0m in \u001b[0;36mfiona._err.GDALErrCtxManager.__exit__\u001b[1;34m()\u001b[0m\n",
      "\u001b[1;31mCPLE_AppDefinedError\u001b[0m: b'sqlite3_exec(CREATE VIRTUAL TABLE \"rtree_2015_evolution_v2_geom\" USING rtree(id, minx, maxx, miny, maxy)) failed: no such module: rtree'"
     ]
    },
    {
     "name": "stderr",
     "output_type": "stream",
     "text": [
      "Exception ignored in: 'fiona._shim.gdal_flush_cache'\n",
      "Traceback (most recent call last):\n",
      "  File \"fiona/_err.pyx\", line 201, in fiona._err.GDALErrCtxManager.__exit__\n",
      "fiona._err.CPLE_AppDefinedError: b'sqlite3_exec(CREATE VIRTUAL TABLE \"rtree_2015_evolution_v2_geom\" USING rtree(id, minx, maxx, miny, maxy)) failed: no such module: rtree'\n"
     ]
    },
    {
     "ename": "CPLE_AppDefinedError",
     "evalue": "b'sqlite3_exec(CREATE VIRTUAL TABLE \"rtree_2016_evolution_v2_geom\" USING rtree(id, minx, maxx, miny, maxy)) failed: no such module: rtree'",
     "output_type": "error",
     "traceback": [
      "\u001b[1;31m---------------------------------------------------------------------------\u001b[0m",
      "\u001b[1;31mCPLE_AppDefinedError\u001b[0m                      Traceback (most recent call last)",
      "\u001b[1;32mfiona/_err.pyx\u001b[0m in \u001b[0;36mfiona._err.GDALErrCtxManager.__exit__\u001b[1;34m()\u001b[0m\n",
      "\u001b[1;31mCPLE_AppDefinedError\u001b[0m: b'sqlite3_exec(CREATE VIRTUAL TABLE \"rtree_2016_evolution_v2_geom\" USING rtree(id, minx, maxx, miny, maxy)) failed: no such module: rtree'"
     ]
    },
    {
     "name": "stderr",
     "output_type": "stream",
     "text": [
      "Exception ignored in: 'fiona._shim.gdal_flush_cache'\n",
      "Traceback (most recent call last):\n",
      "  File \"fiona/_err.pyx\", line 201, in fiona._err.GDALErrCtxManager.__exit__\n",
      "fiona._err.CPLE_AppDefinedError: b'sqlite3_exec(CREATE VIRTUAL TABLE \"rtree_2016_evolution_v2_geom\" USING rtree(id, minx, maxx, miny, maxy)) failed: no such module: rtree'\n"
     ]
    },
    {
     "ename": "CPLE_AppDefinedError",
     "evalue": "b'sqlite3_exec(CREATE VIRTUAL TABLE \"rtree_2017_evolution_v2_geom\" USING rtree(id, minx, maxx, miny, maxy)) failed: no such module: rtree'",
     "output_type": "error",
     "traceback": [
      "\u001b[1;31m---------------------------------------------------------------------------\u001b[0m",
      "\u001b[1;31mCPLE_AppDefinedError\u001b[0m                      Traceback (most recent call last)",
      "\u001b[1;32mfiona/_err.pyx\u001b[0m in \u001b[0;36mfiona._err.GDALErrCtxManager.__exit__\u001b[1;34m()\u001b[0m\n",
      "\u001b[1;31mCPLE_AppDefinedError\u001b[0m: b'sqlite3_exec(CREATE VIRTUAL TABLE \"rtree_2017_evolution_v2_geom\" USING rtree(id, minx, maxx, miny, maxy)) failed: no such module: rtree'"
     ]
    },
    {
     "name": "stderr",
     "output_type": "stream",
     "text": [
      "Exception ignored in: 'fiona._shim.gdal_flush_cache'\n",
      "Traceback (most recent call last):\n",
      "  File \"fiona/_err.pyx\", line 201, in fiona._err.GDALErrCtxManager.__exit__\n",
      "fiona._err.CPLE_AppDefinedError: b'sqlite3_exec(CREATE VIRTUAL TABLE \"rtree_2017_evolution_v2_geom\" USING rtree(id, minx, maxx, miny, maxy)) failed: no such module: rtree'\n"
     ]
    },
    {
     "data": {
      "text/plain": [
       "[None,\n",
       " None,\n",
       " None,\n",
       " None,\n",
       " None,\n",
       " None,\n",
       " None,\n",
       " None,\n",
       " None,\n",
       " None,\n",
       " None,\n",
       " None,\n",
       " None,\n",
       " None]"
      ]
     },
     "execution_count": 23,
     "metadata": {},
     "output_type": "execute_result"
    }
   ],
   "source": [
    "[\n",
    "    bounds.drop(\n",
    "        columns = ['parent', 'sustain']\n",
    "    ).merge(\n",
    "        i, on = 'NAME', how = 'right'\n",
    "    ).dropna(subset = ['geometry']).dissolve(by = ['parent','percolation_threshold']).reset_index().to_file(\n",
    "        f'analysis/percolation_regions/evo/{i.year.unique()[0]}_evolution_v2.gpkg',\n",
    "        driver = 'GPKG'\n",
    "    ) for i in percolation_regions\n",
    "]"
   ]
  },
  {
   "cell_type": "code",
   "execution_count": 94,
   "metadata": {},
   "outputs": [
    {
     "name": "stderr",
     "output_type": "stream",
     "text": [
      "C:\\Users\\mtopn\\Anaconda3\\lib\\site-packages\\ipykernel_launcher.py:1: FutureWarning: The signature of `Series.to_csv` was aligned to that of `DataFrame.to_csv`, and argument 'header' will change its default value from False to True: please pass an explicit value to suppress this warning.\n",
      "  \"\"\"Entry point for launching an IPython kernel.\n"
     ]
    }
   ],
   "source": [
    "pd.Series([f'percolation_{eps}' for eps in epses]).rename('percolation_threshold').to_csv('analysis/percolation_regions/evo/Atlas.csv')"
   ]
  },
  {
   "cell_type": "code",
   "execution_count": null,
   "metadata": {},
   "outputs": [],
   "source": []
  }
 ],
 "metadata": {
  "kernelspec": {
   "display_name": "Python 3",
   "language": "python",
   "name": "python3"
  },
  "language_info": {
   "codemirror_mode": {
    "name": "ipython",
    "version": 3
   },
   "file_extension": ".py",
   "mimetype": "text/x-python",
   "name": "python",
   "nbconvert_exporter": "python",
   "pygments_lexer": "ipython3",
   "version": "3.7.4"
  }
 },
 "nbformat": 4,
 "nbformat_minor": 2
}
