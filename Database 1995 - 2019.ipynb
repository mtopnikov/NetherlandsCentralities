{
 "cells": [
  {
   "cell_type": "markdown",
   "metadata": {},
   "source": [
    "# Database 1995 - 2019\n",
    "\n",
    "Work with the database of all the data, possibility to extract more economy data"
   ]
  },
  {
   "cell_type": "code",
   "execution_count": 1,
   "metadata": {},
   "outputs": [],
   "source": [
    "import pandas as pd\n",
    "import geopandas as gpd\n",
    "import json\n",
    "import os\n",
    "import googlemaps\n",
    "from collections import defaultdict, OrderedDict\n",
    "from tqdm import tqdm\n",
    "import cbsodata"
   ]
  },
  {
   "cell_type": "code",
   "execution_count": 2,
   "metadata": {},
   "outputs": [],
   "source": [
    "os.chdir('D:/bachelors/datasets/')"
   ]
  },
  {
   "cell_type": "code",
   "execution_count": 9,
   "metadata": {},
   "outputs": [],
   "source": [
    "meta = pd.DataFrame(cbsodata.get_meta('70072ned', 'DataProperties'))\n",
    "meta.to_excel('territory_bases_v3/meta.xlsx', index = None)"
   ]
  },
  {
   "cell_type": "code",
   "execution_count": 141,
   "metadata": {},
   "outputs": [],
   "source": [
    "df = pd.DataFrame(cbsodata.get_data('70072ned', typed = True))\n",
    "df = df[(df.KoppelvariabeleRegioCode_306.str.contains('GM|gm')) & (df.Perioden.astype(int) >= 2004)]"
   ]
  },
  {
   "cell_type": "code",
   "execution_count": 142,
   "metadata": {},
   "outputs": [],
   "source": [
    "meta = pd.read_excel('D:/Google Drive/Projects/bachelors/territory_bases\\meta.xlsx')\n",
    "meta = meta[meta.selected == 1]"
   ]
  },
  {
   "cell_type": "code",
   "execution_count": 143,
   "metadata": {},
   "outputs": [],
   "source": [
    "df = df[meta['Key'].tolist()]\n",
    "df = df.set_index('RegioS').apply(lambda column: pd.to_numeric(column, errors = 'coerce'))\n",
    "\n",
    "df['Perioden'] = pd.to_datetime(df.Perioden, format = '%Y')\n",
    "df = df[df.Perioden < pd.Timestamp('2018-01-01')]\n",
    "df = df.reset_index()"
   ]
  },
  {
   "cell_type": "code",
   "execution_count": 144,
   "metadata": {},
   "outputs": [],
   "source": [
    "\n",
    "communes_mapper = pd.read_excel('FINAL COMMUNES MERGE_EDITED.xlsx').set_index('index')['communes_from_geo'].to_dict()\n",
    "communes_list = list(pd.read_excel('FINAL COMMUNES MERGE_EDITED.xlsx')['communes_from_geo'].unique())"
   ]
  },
  {
   "cell_type": "code",
   "execution_count": 145,
   "metadata": {},
   "outputs": [],
   "source": [
    "df['commune_ok'] = df['RegioS'].str.replace(\n",
    "    ' \\(gemeente\\)', ''\n",
    ").map(communes_mapper)\n",
    "\n",
    "df.set_index('RegioS', inplace = True)\n",
    "df.loc['Beek (L.)', 'commune_ok'] = 'Beek'\n",
    "df.loc['Laren (NH.)', 'commune_ok'] = 'Laren'\n",
    "df.loc['Middelburg (Z.)', 'commune_ok'] = 'Middelburg'\n",
    "df.loc['Rijswijk (ZH.)', 'commune_ok'] = 'Rijswijk'\n",
    "df.loc['Stein (L.)', 'commune_ok'] = 'Stein'\n",
    "df.loc['Valkenburg (ZH.)', 'commune_ok'] = 'Katwijk'"
   ]
  },
  {
   "cell_type": "code",
   "execution_count": 146,
   "metadata": {},
   "outputs": [],
   "source": [
    "df = df.reset_index().drop(columns = ['RegioS']).set_index(['commune_ok', 'Perioden'])"
   ]
  },
  {
   "cell_type": "code",
   "execution_count": 147,
   "metadata": {},
   "outputs": [],
   "source": [
    "filter_series = pd.isna(df).sum()\n",
    "\n",
    "summarisable_variables = df[(filter_series[filter_series == 0].index)]\n",
    "non_summarisable_variables = df[(filter_series[filter_series != 0].index)]"
   ]
  },
  {
   "cell_type": "code",
   "execution_count": 148,
   "metadata": {},
   "outputs": [],
   "source": [
    "summarisable_variables.reset_index(inplace = True)\n",
    "summarisable_variables = summarisable_variables.groupby(['commune_ok', 'Perioden']).sum()"
   ]
  },
  {
   "cell_type": "markdown",
   "metadata": {},
   "source": [
    "## Non-summarizable variables"
   ]
  },
  {
   "cell_type": "markdown",
   "metadata": {},
   "source": [
    "### Employment"
   ]
  },
  {
   "cell_type": "code",
   "execution_count": 149,
   "metadata": {},
   "outputs": [],
   "source": [
    "def replace_zeros(series):\n",
    "    series.loc[series == 0] = None\n",
    "    return series"
   ]
  },
  {
   "cell_type": "code",
   "execution_count": 150,
   "metadata": {},
   "outputs": [],
   "source": [
    "employment = non_summarisable_variables[['TotaalAantalBanen_112',\n",
    "       'ALandbouwBosbouwEnVisserij_113', 'BFNijverheidEnEnergie_114',\n",
    "       'GNCommercieleDienstverlening_115',\n",
    "       'OUNietCommercieleDienstverlening_116']]"
   ]
  },
  {
   "cell_type": "code",
   "execution_count": 151,
   "metadata": {},
   "outputs": [],
   "source": [
    "def precompute(df, agg_func = 'sum'):\n",
    "    df = df.reset_index().groupby(\n",
    "        ['commune_ok', 'Perioden']\n",
    "    ).agg(agg_func).apply(\n",
    "        lambda column: replace_zeros(column)\n",
    "    )\n",
    "    \n",
    "    return df"
   ]
  },
  {
   "cell_type": "code",
   "execution_count": 152,
   "metadata": {},
   "outputs": [],
   "source": [
    "employment = employment.reset_index().groupby(['commune_ok', 'Perioden']).sum().apply(lambda column: replace_zeros(column))"
   ]
  },
  {
   "cell_type": "code",
   "execution_count": 154,
   "metadata": {},
   "outputs": [],
   "source": [
    "def interpolate_all(df):\n",
    "    df_list = []\n",
    "    for commune in communes_list:\n",
    "        try:\n",
    "            df_list.append(df.loc[commune].interpolate(\n",
    "                method = 'spline', order = 1,\n",
    "                limit_direction = 'both'\n",
    "            ).assign(commune_ok = commune))\n",
    "        except Exception as e:\n",
    "            print(e)\n",
    "\n",
    "    df = pd.concat(df_list)\n",
    "    df = df.reset_index().set_index(['commune_ok', 'Perioden'])\n",
    "    return df"
   ]
  },
  {
   "cell_type": "code",
   "execution_count": 155,
   "metadata": {},
   "outputs": [
    {
     "name": "stdout",
     "output_type": "stream",
     "text": [
      "(m>k) failed for hidden m: fpcurf0:m=1\n",
      "(m>k) failed for hidden m: fpcurf0:m=1\n",
      "(m>k) failed for hidden m: fpcurf0:m=1\n",
      "(m>k) failed for hidden m: fpcurf0:m=1\n",
      "(m>k) failed for hidden m: fpcurf0:m=1\n",
      "(m>k) failed for hidden m: fpcurf0:m=1\n"
     ]
    }
   ],
   "source": [
    "employment = interpolate_all(employment)"
   ]
  },
  {
   "cell_type": "markdown",
   "metadata": {},
   "source": [
    "### Income"
   ]
  },
  {
   "cell_type": "code",
   "execution_count": 185,
   "metadata": {},
   "outputs": [],
   "source": [
    "incomes = non_summarisable_variables[['ParticuliereHuishoudensExclStudenten_122',\n",
    "       'ParticuliereHuishoudensExclStudenten_132']]"
   ]
  },
  {
   "cell_type": "code",
   "execution_count": 186,
   "metadata": {},
   "outputs": [],
   "source": [
    "incomes = incomes.reset_index().groupby(['commune_ok', 'Perioden']).mean().apply(lambda column: replace_zeros(column))"
   ]
  },
  {
   "cell_type": "code",
   "execution_count": 158,
   "metadata": {},
   "outputs": [],
   "source": [
    "incomes = interpolate_all(incomes)"
   ]
  },
  {
   "cell_type": "markdown",
   "metadata": {},
   "source": [
    "### Business"
   ]
  },
  {
   "cell_type": "code",
   "execution_count": 159,
   "metadata": {},
   "outputs": [],
   "source": [
    "business = non_summarisable_variables[['BedrijfsvestigingenTotaal_164', 'ALandbouwBosbouwEnVisserij_165',\n",
    "       'BFNijverheidEnEnergie_166', 'GIHandelEnHoreca_167',\n",
    "       'HJVervoerInformatieEnCommunicatie_168',\n",
    "       'KLFinancieleDienstenOnroerendGoed_169',\n",
    "       'MNZakelijkeDienstverlening_170',\n",
    "       'RUCultuurRecreatieOverigeDiensten_171']]"
   ]
  },
  {
   "cell_type": "code",
   "execution_count": 160,
   "metadata": {},
   "outputs": [],
   "source": [
    "business = precompute(business, agg_func = 'sum')"
   ]
  },
  {
   "cell_type": "code",
   "execution_count": 161,
   "metadata": {},
   "outputs": [
    {
     "name": "stderr",
     "output_type": "stream",
     "text": [
      "C:\\Users\\mtopn\\Anaconda3\\lib\\site-packages\\scipy\\interpolate\\fitpack2.py:227: UserWarning: \n",
      "The maximal number of iterations maxit (set to 20 by the program)\n",
      "allowed for finding a smoothing spline with fp=s has been reached: s\n",
      "too small.\n",
      "There is an approximation returned but the corresponding weighted sum\n",
      "of squared residuals does not satisfy the condition abs(fp-s)/s < tol.\n",
      "  warnings.warn(message)\n"
     ]
    }
   ],
   "source": [
    "business = interpolate_all(business)"
   ]
  },
  {
   "cell_type": "code",
   "execution_count": 162,
   "metadata": {},
   "outputs": [],
   "source": [
    "business = business.apply(lambda column: round(column, 0))"
   ]
  },
  {
   "cell_type": "markdown",
   "metadata": {},
   "source": [
    "### Distances"
   ]
  },
  {
   "cell_type": "code",
   "execution_count": 163,
   "metadata": {},
   "outputs": [],
   "source": [
    "distances = non_summarisable_variables[['AfstandTotHuisartsenpraktijk_209', 'AfstandTotZiekenhuis_212',\n",
    "       'AfstandTotKinderdagverblijf_214', 'AfstandTotSchoolBasisonderwijs_216',\n",
    "       'AfstandTotRestaurant_224', 'AfstandTotBibliotheek_226',\n",
    "       'AfstandTotBioscoop_227', 'AfstandTotZwembad_229',\n",
    "       'AfstandTotSportterrein_230', 'AfstandTotOpenbaarGroen_231',\n",
    "       'AfstandTotOpritHoofdverkeersweg_232', 'AfstandTotTreinstation_233']]"
   ]
  },
  {
   "cell_type": "code",
   "execution_count": 164,
   "metadata": {},
   "outputs": [],
   "source": [
    "distances = precompute(distances, agg_func = 'mean')"
   ]
  },
  {
   "cell_type": "code",
   "execution_count": 165,
   "metadata": {},
   "outputs": [],
   "source": [
    "distances = interpolate_all(distances)"
   ]
  },
  {
   "cell_type": "markdown",
   "metadata": {},
   "source": [
    "# Rename columns to english"
   ]
  },
  {
   "cell_type": "code",
   "execution_count": 92,
   "metadata": {},
   "outputs": [],
   "source": [
    "columns_map = meta.set_index('Key')['eng_desc'].to_dict()"
   ]
  },
  {
   "cell_type": "code",
   "execution_count": 167,
   "metadata": {},
   "outputs": [],
   "source": [
    "business.rename(columns = columns_map, inplace = True)\n",
    "distances.rename(columns = columns_map, inplace = True)\n",
    "incomes.rename(columns = columns_map, inplace = True)\n",
    "employment.rename(columns = columns_map, inplace = True)\n",
    "summarisable_variables.rename(columns = columns_map, inplace = True)"
   ]
  },
  {
   "cell_type": "code",
   "execution_count": 118,
   "metadata": {},
   "outputs": [],
   "source": [
    "coeff_func_def = (distances.unstack().apply(\n",
    "    lambda column: column / column.mean()\n",
    ").stack().agg(\n",
    "    lambda x: x.mean(), axis = 1\n",
    ").agg(\n",
    "    lambda x: x / x.max()\n",
    ") * -1 + 1).rename('func_access').reset_index()"
   ]
  },
  {
   "cell_type": "code",
   "execution_count": 129,
   "metadata": {},
   "outputs": [],
   "source": [
    "total_business = business['total business establishments'].copy()"
   ]
  },
  {
   "cell_type": "code",
   "execution_count": 134,
   "metadata": {},
   "outputs": [],
   "source": [
    "business_shares = business.drop(columns = 'total business establishments').apply(lambda column: column / total_business * 100)"
   ]
  },
  {
   "cell_type": "code",
   "execution_count": 135,
   "metadata": {},
   "outputs": [],
   "source": [
    "os.mkdir('territory_bases_v3/datatables/')"
   ]
  },
  {
   "cell_type": "code",
   "execution_count": 138,
   "metadata": {},
   "outputs": [],
   "source": [
    "incomes.to_csv('territory_bases_v3/datatables/incomes.csv', encoding = 'utf-8')\n",
    "business.to_csv('territory_bases_v3/datatables/business_totals.csv', encoding = 'utf-8')\n",
    "distances.to_csv('territory_bases_v3/datatables/distances_to_objects.csv', encoding = 'utf-8')\n",
    "incomes.to_csv('territory_bases_v3/datatables/incomes.csv', encoding = 'utf-8')\n",
    "employment.to_csv('territory_bases_v3/datatables/employment.csv', encoding = 'utf-8')\n",
    "business_shares.to_csv('territory_bases_v3/datatables/business_shares.csv', encoding = 'utf-8')\n",
    "coeff_func_def.to_csv('territory_bases_v3/datatables/coeff_func_def.csv', index = None, encoding = 'utf-8')"
   ]
  },
  {
   "cell_type": "code",
   "execution_count": 197,
   "metadata": {},
   "outputs": [],
   "source": [
    "summarisable_variables.rename(columns = columns_map, inplace = True)"
   ]
  },
  {
   "cell_type": "code",
   "execution_count": 199,
   "metadata": {},
   "outputs": [
    {
     "data": {
      "text/plain": [
       "Index(['Total population', 'Men', 'Women', 'Dutch background',\n",
       "       'Total migration background', 'Western immigrant background',\n",
       "       'Total non-Western immigrant background', 'Morocco',\n",
       "       '(Former) Netherlands Antilles, Aruba', 'Suriname', 'Turkey',\n",
       "       'Other non-Western immigrant background', 'Highly urbanized',\n",
       "       'strong urban', 'Poor urban', 'few urban', 'not urban',\n",
       "       'Population density', 'Total number of private households',\n",
       "       'Households without children', 'Households with children', 'New Build',\n",
       "       'Primary education', 'University education', 'Bachelor's Degree',\n",
       "       'cars'],\n",
       "      dtype='object')"
      ]
     },
     "execution_count": 199,
     "metadata": {},
     "output_type": "execute_result"
    }
   ],
   "source": [
    "summarisable_variables.columns"
   ]
  },
  {
   "cell_type": "code",
   "execution_count": 201,
   "metadata": {},
   "outputs": [],
   "source": [
    "summarisable_variables = summarisable_variables[['Total population', 'Total migration background', 'Total number of private households',\n",
    "                        'Households with children', 'University education', \"Bachelor's Degree\"]]"
   ]
  },
  {
   "cell_type": "code",
   "execution_count": 202,
   "metadata": {},
   "outputs": [
    {
     "data": {
      "text/plain": [
       "Index(['Total population', 'Total migration background',\n",
       "       'Total number of private households', 'Households with children',\n",
       "       'University education', 'Bachelor's Degree'],\n",
       "      dtype='object')"
      ]
     },
     "execution_count": 202,
     "metadata": {},
     "output_type": "execute_result"
    }
   ],
   "source": [
    "summarisable_variables.columns"
   ]
  },
  {
   "cell_type": "code",
   "execution_count": 203,
   "metadata": {},
   "outputs": [
    {
     "name": "stderr",
     "output_type": "stream",
     "text": [
      "C:\\Users\\mtopn\\Anaconda3\\lib\\site-packages\\ipykernel_launcher.py:1: SettingWithCopyWarning: \n",
      "A value is trying to be set on a copy of a slice from a DataFrame.\n",
      "Try using .loc[row_indexer,col_indexer] = value instead\n",
      "\n",
      "See the caveats in the documentation: http://pandas.pydata.org/pandas-docs/stable/user_guide/indexing.html#returning-a-view-versus-a-copy\n",
      "  \"\"\"Entry point for launching an IPython kernel.\n"
     ]
    }
   ],
   "source": [
    "summarisable_variables['Доля мигрантов на населении'] = summarisable_variables['Total migration background'] / summarisable_variables['Total population'] * 100"
   ]
  },
  {
   "cell_type": "code",
   "execution_count": 204,
   "metadata": {},
   "outputs": [
    {
     "name": "stderr",
     "output_type": "stream",
     "text": [
      "C:\\Users\\mtopn\\Anaconda3\\lib\\site-packages\\ipykernel_launcher.py:1: SettingWithCopyWarning: \n",
      "A value is trying to be set on a copy of a slice from a DataFrame.\n",
      "Try using .loc[row_indexer,col_indexer] = value instead\n",
      "\n",
      "See the caveats in the documentation: http://pandas.pydata.org/pandas-docs/stable/user_guide/indexing.html#returning-a-view-versus-a-copy\n",
      "  \"\"\"Entry point for launching an IPython kernel.\n",
      "C:\\Users\\mtopn\\Anaconda3\\lib\\site-packages\\ipykernel_launcher.py:2: SettingWithCopyWarning: \n",
      "A value is trying to be set on a copy of a slice from a DataFrame.\n",
      "Try using .loc[row_indexer,col_indexer] = value instead\n",
      "\n",
      "See the caveats in the documentation: http://pandas.pydata.org/pandas-docs/stable/user_guide/indexing.html#returning-a-view-versus-a-copy\n",
      "  \n"
     ]
    }
   ],
   "source": [
    "summarisable_variables['Доля домохозяйств с детьми'] = summarisable_variables['Households with children'] / summarisable_variables['Total number of private households'] * 100\n",
    "summarisable_variables['Доля людей с высшим образованием'] = summarisable_variables['University education'] / summarisable_variables['Total population'] * 100"
   ]
  },
  {
   "cell_type": "code",
   "execution_count": 207,
   "metadata": {},
   "outputs": [],
   "source": [
    "summarisable_variables = summarisable_variables.drop(\n",
    "    columns = ['Total migration background', 'Households with children', \n",
    "               'University education', \"Bachelor's Degree\"]\n",
    ")"
   ]
  },
  {
   "cell_type": "code",
   "execution_count": 212,
   "metadata": {},
   "outputs": [],
   "source": [
    "summarisable_variables.сolumns = ['pop', 'hholds', 'migr_share', 'hh_with_children_share', 'high_edu_share']"
   ]
  },
  {
   "cell_type": "code",
   "execution_count": 215,
   "metadata": {},
   "outputs": [],
   "source": [
    "summarisable_variables.columns = ['pop', 'hholds', 'migr_share', 'hh_with_children_share', 'high_edu_share']"
   ]
  },
  {
   "cell_type": "code",
   "execution_count": 217,
   "metadata": {},
   "outputs": [],
   "source": [
    "summarisable_variables.to_csv('territory_bases_v3/datatables/other_variables.csv', encoding = 'utf-8')"
   ]
  },
  {
   "cell_type": "code",
   "execution_count": 12,
   "metadata": {},
   "outputs": [],
   "source": [
    "geo_communes = gpd.read_file('../qgis/base/Netherlands_communes.gpkg')\n",
    "centrality_index = gpd.read_file('D:/Google Drive/Projects/bachelors/nether_cent_clust_16.geojson')"
   ]
  },
  {
   "cell_type": "code",
   "execution_count": 13,
   "metadata": {},
   "outputs": [],
   "source": [
    "centrality_join = gpd.sjoin(centrality_index, geo_communes)\n",
    "centrality_join = centrality_join.groupby('NAME')['cent_idx_sum'].sum().reset_index()\n",
    "centrality_join.rename(columns = {'NAME' : 'commune_ok'}, inplace = True)"
   ]
  },
  {
   "cell_type": "code",
   "execution_count": 233,
   "metadata": {},
   "outputs": [],
   "source": [
    "centrality_join = pd.concat(\n",
    "    [centrality_join.assign(Perioden = pd.Timestamp(f'{year}-01-01')) for year in range(2004, 2018)]\n",
    ")"
   ]
  },
  {
   "cell_type": "code",
   "execution_count": 238,
   "metadata": {},
   "outputs": [],
   "source": [
    "centrality_join.to_csv('territory_bases_v3/datatables/zent_idx.csv', index = None, encoding = 'utf-8')"
   ]
  },
  {
   "cell_type": "code",
   "execution_count": 14,
   "metadata": {},
   "outputs": [],
   "source": [
    "gdf_centrality = geo_communes.merge(centrality_join, left_on = 'NAME', right_on = 'commune_ok', how = 'left')"
   ]
  },
  {
   "cell_type": "code",
   "execution_count": 22,
   "metadata": {},
   "outputs": [
    {
     "name": "stderr",
     "output_type": "stream",
     "text": [
      "ERROR:fiona._env:sqlite3_exec(CREATE VIRTUAL TABLE \"rtree_centrality_by_municipality_geom\" USING rtree(id, minx, maxx, miny, maxy)) failed: no such module: rtree\n"
     ]
    },
    {
     "ename": "CPLE_AppDefinedError",
     "evalue": "b'sqlite3_exec(CREATE VIRTUAL TABLE \"rtree_centrality_by_municipality_geom\" USING rtree(id, minx, maxx, miny, maxy)) failed: no such module: rtree'",
     "output_type": "error",
     "traceback": [
      "\u001b[1;31m---------------------------------------------------------------------------\u001b[0m",
      "\u001b[1;31mCPLE_AppDefinedError\u001b[0m                      Traceback (most recent call last)",
      "\u001b[1;32mfiona/_err.pyx\u001b[0m in \u001b[0;36mfiona._err.GDALErrCtxManager.__exit__\u001b[1;34m()\u001b[0m\n",
      "\u001b[1;31mCPLE_AppDefinedError\u001b[0m: b'sqlite3_exec(CREATE VIRTUAL TABLE \"rtree_centrality_by_municipality_geom\" USING rtree(id, minx, maxx, miny, maxy)) failed: no such module: rtree'"
     ]
    },
    {
     "name": "stderr",
     "output_type": "stream",
     "text": [
      "Exception ignored in: 'fiona._shim.gdal_flush_cache'\n",
      "Traceback (most recent call last):\n",
      "  File \"fiona/_err.pyx\", line 201, in fiona._err.GDALErrCtxManager.__exit__\n",
      "fiona._err.CPLE_AppDefinedError: b'sqlite3_exec(CREATE VIRTUAL TABLE \"rtree_centrality_by_municipality_geom\" USING rtree(id, minx, maxx, miny, maxy)) failed: no such module: rtree'\n"
     ]
    }
   ],
   "source": [
    "gdf_centrality.to_file('centrality_by_municipality.gpkg', driver = 'GPKG')"
   ]
  },
  {
   "cell_type": "markdown",
   "metadata": {},
   "source": [
    "# Population increase"
   ]
  },
  {
   "cell_type": "code",
   "execution_count": 28,
   "metadata": {},
   "outputs": [],
   "source": [
    "summarisable_variables = pd.read_csv('territory_bases_v3/datatables/other_variables.csv', encoding = 'utf-8')\n",
    "summarisable_variables.set_index('commune_ok', inplace = True)"
   ]
  },
  {
   "cell_type": "code",
   "execution_count": 29,
   "metadata": {},
   "outputs": [],
   "source": [
    "pop_increase = summarisable_variables.loc[summarisable_variables.Perioden == '2017-01-01', 'pop']/ summarisable_variables.loc[summarisable_variables.Perioden == '2004-01-01', 'pop'] * 100"
   ]
  },
  {
   "cell_type": "code",
   "execution_count": 30,
   "metadata": {},
   "outputs": [],
   "source": [
    "pop_increase = pop_increase.reset_index().rename(columns = {'commune_ok' : 'NAME', 'pop' : 'pop_increase'})"
   ]
  },
  {
   "cell_type": "code",
   "execution_count": 31,
   "metadata": {},
   "outputs": [],
   "source": [
    "geo_communes = gpd.read_file('../qgis/base/Netherlands_communes.gpkg')"
   ]
  },
  {
   "cell_type": "code",
   "execution_count": 32,
   "metadata": {},
   "outputs": [],
   "source": [
    "pop_increase_geo = geo_communes.merge(pop_increase, on = 'NAME', how = 'left')"
   ]
  },
  {
   "cell_type": "code",
   "execution_count": 33,
   "metadata": {},
   "outputs": [],
   "source": [
    "pop_increase_geo['pop_increase'] = pop_increase_geo['pop_increase'] - 100"
   ]
  },
  {
   "cell_type": "code",
   "execution_count": 34,
   "metadata": {},
   "outputs": [
    {
     "name": "stderr",
     "output_type": "stream",
     "text": [
      "ERROR:fiona._env:sqlite3_exec(CREATE VIRTUAL TABLE \"rtree_Population_increase_geom\" USING rtree(id, minx, maxx, miny, maxy)) failed: no such module: rtree\n"
     ]
    },
    {
     "ename": "CPLE_AppDefinedError",
     "evalue": "b'sqlite3_exec(CREATE VIRTUAL TABLE \"rtree_Population_increase_geom\" USING rtree(id, minx, maxx, miny, maxy)) failed: no such module: rtree'",
     "output_type": "error",
     "traceback": [
      "\u001b[1;31m---------------------------------------------------------------------------\u001b[0m",
      "\u001b[1;31mCPLE_AppDefinedError\u001b[0m                      Traceback (most recent call last)",
      "\u001b[1;32mfiona/_err.pyx\u001b[0m in \u001b[0;36mfiona._err.GDALErrCtxManager.__exit__\u001b[1;34m()\u001b[0m\n",
      "\u001b[1;31mCPLE_AppDefinedError\u001b[0m: b'sqlite3_exec(CREATE VIRTUAL TABLE \"rtree_Population_increase_geom\" USING rtree(id, minx, maxx, miny, maxy)) failed: no such module: rtree'"
     ]
    },
    {
     "name": "stderr",
     "output_type": "stream",
     "text": [
      "Exception ignored in: 'fiona._shim.gdal_flush_cache'\n",
      "Traceback (most recent call last):\n",
      "  File \"fiona/_err.pyx\", line 201, in fiona._err.GDALErrCtxManager.__exit__\n",
      "fiona._err.CPLE_AppDefinedError: b'sqlite3_exec(CREATE VIRTUAL TABLE \"rtree_Population_increase_geom\" USING rtree(id, minx, maxx, miny, maxy)) failed: no such module: rtree'\n"
     ]
    }
   ],
   "source": [
    "pop_increase_geo.to_file('analysis/Population_increase.gpkg', driver = 'GPKG')"
   ]
  },
  {
   "cell_type": "code",
   "execution_count": null,
   "metadata": {},
   "outputs": [],
   "source": []
  }
 ],
 "metadata": {
  "kernelspec": {
   "display_name": "Python 3",
   "language": "python",
   "name": "python3"
  },
  "language_info": {
   "codemirror_mode": {
    "name": "ipython",
    "version": 3
   },
   "file_extension": ".py",
   "mimetype": "text/x-python",
   "name": "python",
   "nbconvert_exporter": "python",
   "pygments_lexer": "ipython3",
   "version": "3.7.4"
  }
 },
 "nbformat": 4,
 "nbformat_minor": 2
}
