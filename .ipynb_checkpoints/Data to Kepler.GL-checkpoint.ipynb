{
 "cells": [
  {
   "cell_type": "code",
   "execution_count": 10,
   "metadata": {},
   "outputs": [],
   "source": [
    "import pandas as pd\n",
    "import geopandas as gpd\n",
    "import os\n",
    "import json"
   ]
  },
  {
   "cell_type": "code",
   "execution_count": 4,
   "metadata": {},
   "outputs": [],
   "source": [
    "os.chdir('D:/bachelors/datasets/')"
   ]
  },
  {
   "cell_type": "code",
   "execution_count": 5,
   "metadata": {},
   "outputs": [],
   "source": [
    "bounds = gpd.read_file('../qgis/base/Netherlands_communes.gpkg')"
   ]
  },
  {
   "cell_type": "code",
   "execution_count": 6,
   "metadata": {},
   "outputs": [],
   "source": [
    "nodes = [i for i in os.listdir('analysis/yearly_graphs_v2/total/') if 'nodes_' in i and '.csv' in i]"
   ]
  },
  {
   "cell_type": "code",
   "execution_count": 11,
   "metadata": {},
   "outputs": [],
   "source": [
    "with open('Variables/mappers/communes_names_toRussian_map.json') as infile:\n",
    "    rus_names = json.load(infile)"
   ]
  },
  {
   "cell_type": "code",
   "execution_count": 18,
   "metadata": {},
   "outputs": [],
   "source": [
    "dfList = []\n",
    "for node in nodes:\n",
    "    nd = pd.read_csv('analysis/yearly_graphs_v2/total/' + node)[['commune', 'flow_cent']].rename(columns = {'commune' : 'NAME'})\n",
    "    bd_year = bounds.merge(nd, on = 'NAME', how = 'left').assign(\n",
    "        year = int(node.split('_')[-1].split('.')[0])\n",
    "    )\n",
    "    dfList.append(bd_year)"
   ]
  },
  {
   "cell_type": "code",
   "execution_count": 38,
   "metadata": {},
   "outputs": [],
   "source": [
    "full_gdf = pd.concat(dfList)"
   ]
  },
  {
   "cell_type": "code",
   "execution_count": 39,
   "metadata": {},
   "outputs": [],
   "source": [
    "import datetime as dt"
   ]
  },
  {
   "cell_type": "code",
   "execution_count": 40,
   "metadata": {},
   "outputs": [],
   "source": [
    "full_gdf['year'] = full_gdf['year'].apply(lambda x: dt.datetime.strptime(str(x), '%Y'))"
   ]
  },
  {
   "cell_type": "code",
   "execution_count": 36,
   "metadata": {},
   "outputs": [],
   "source": [
    "full_gdf['year'] = pd.to_datetime(full_gdf['year'], unit = 'Y')"
   ]
  },
  {
   "cell_type": "code",
   "execution_count": 41,
   "metadata": {},
   "outputs": [],
   "source": [
    "full_gdf.to_file('KEPLER.geojson', driver = 'GeoJSON')"
   ]
  },
  {
   "cell_type": "code",
   "execution_count": 14,
   "metadata": {},
   "outputs": [],
   "source": [
    "node = nodes[0]"
   ]
  },
  {
   "cell_type": "code",
   "execution_count": 17,
   "metadata": {},
   "outputs": [
    {
     "data": {
      "text/plain": [
       "2004"
      ]
     },
     "execution_count": 17,
     "metadata": {},
     "output_type": "execute_result"
    }
   ],
   "source": [
    "int(node.split('_')[-1].split('.')[0])"
   ]
  },
  {
   "cell_type": "code",
   "execution_count": 12,
   "metadata": {},
   "outputs": [
    {
     "data": {
      "text/html": [
       "<div>\n",
       "<style scoped>\n",
       "    .dataframe tbody tr th:only-of-type {\n",
       "        vertical-align: middle;\n",
       "    }\n",
       "\n",
       "    .dataframe tbody tr th {\n",
       "        vertical-align: top;\n",
       "    }\n",
       "\n",
       "    .dataframe thead th {\n",
       "        text-align: right;\n",
       "    }\n",
       "</style>\n",
       "<table border=\"1\" class=\"dataframe\">\n",
       "  <thead>\n",
       "    <tr style=\"text-align: right;\">\n",
       "      <th></th>\n",
       "      <th>NAME</th>\n",
       "      <th>POPULATION</th>\n",
       "      <th>Area</th>\n",
       "      <th>DENSITY</th>\n",
       "      <th>geometry</th>\n",
       "    </tr>\n",
       "  </thead>\n",
       "  <tbody>\n",
       "    <tr>\n",
       "      <td>0</td>\n",
       "      <td>Aa en Hunze</td>\n",
       "      <td>25390</td>\n",
       "      <td>279914646</td>\n",
       "      <td>90.71</td>\n",
       "      <td>MULTIPOLYGON (((6.94484 52.99216, 6.93764 52.9...</td>\n",
       "    </tr>\n",
       "    <tr>\n",
       "      <td>1</td>\n",
       "      <td>Assen</td>\n",
       "      <td>67708</td>\n",
       "      <td>83621452</td>\n",
       "      <td>809.70</td>\n",
       "      <td>MULTIPOLYGON (((6.56860 52.94577, 6.55969 52.9...</td>\n",
       "    </tr>\n",
       "    <tr>\n",
       "      <td>2</td>\n",
       "      <td>Borger-Odoorn</td>\n",
       "      <td>25351</td>\n",
       "      <td>272907572</td>\n",
       "      <td>92.89</td>\n",
       "      <td>MULTIPOLYGON (((7.02043 52.87131, 7.01917 52.8...</td>\n",
       "    </tr>\n",
       "    <tr>\n",
       "      <td>3</td>\n",
       "      <td>Coevorden</td>\n",
       "      <td>35299</td>\n",
       "      <td>299357668</td>\n",
       "      <td>117.92</td>\n",
       "      <td>MULTIPOLYGON (((6.81502 52.64786, 6.81413 52.6...</td>\n",
       "    </tr>\n",
       "    <tr>\n",
       "      <td>4</td>\n",
       "      <td>De Wolden</td>\n",
       "      <td>23917</td>\n",
       "      <td>226940619</td>\n",
       "      <td>105.39</td>\n",
       "      <td>MULTIPOLYGON (((6.45437 52.78520, 6.45427 52.7...</td>\n",
       "    </tr>\n",
       "  </tbody>\n",
       "</table>\n",
       "</div>"
      ],
      "text/plain": [
       "            NAME  POPULATION       Area  DENSITY  \\\n",
       "0    Aa en Hunze       25390  279914646    90.71   \n",
       "1          Assen       67708   83621452   809.70   \n",
       "2  Borger-Odoorn       25351  272907572    92.89   \n",
       "3      Coevorden       35299  299357668   117.92   \n",
       "4      De Wolden       23917  226940619   105.39   \n",
       "\n",
       "                                            geometry  \n",
       "0  MULTIPOLYGON (((6.94484 52.99216, 6.93764 52.9...  \n",
       "1  MULTIPOLYGON (((6.56860 52.94577, 6.55969 52.9...  \n",
       "2  MULTIPOLYGON (((7.02043 52.87131, 7.01917 52.8...  \n",
       "3  MULTIPOLYGON (((6.81502 52.64786, 6.81413 52.6...  \n",
       "4  MULTIPOLYGON (((6.45437 52.78520, 6.45427 52.7...  "
      ]
     },
     "execution_count": 12,
     "metadata": {},
     "output_type": "execute_result"
    }
   ],
   "source": [
    "bounds.head()"
   ]
  }
 ],
 "metadata": {
  "kernelspec": {
   "display_name": "Python 3",
   "language": "python",
   "name": "python3"
  },
  "language_info": {
   "codemirror_mode": {
    "name": "ipython",
    "version": 3
   },
   "file_extension": ".py",
   "mimetype": "text/x-python",
   "name": "python",
   "nbconvert_exporter": "python",
   "pygments_lexer": "ipython3",
   "version": "3.7.4"
  }
 },
 "nbformat": 4,
 "nbformat_minor": 2
}
