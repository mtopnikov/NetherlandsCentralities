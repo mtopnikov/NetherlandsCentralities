{
 "cells": [
  {
   "cell_type": "code",
   "execution_count": 1,
   "metadata": {},
   "outputs": [],
   "source": [
    "import pandas as pd\n",
    "import os\n",
    "import geopandas as gpd\n",
    "from scipy.stats import linregress as lr"
   ]
  },
  {
   "cell_type": "code",
   "execution_count": 2,
   "metadata": {},
   "outputs": [],
   "source": [
    "import pandas as pd\n",
    "import geopandas as gpd\n",
    "import matplotlib.pyplot as plt\n",
    "from matplotlib import font_manager as fm\n",
    "import seaborn as sns"
   ]
  },
  {
   "cell_type": "code",
   "execution_count": 3,
   "metadata": {},
   "outputs": [],
   "source": [
    "medium_font = fm.FontProperties(fname =  r\"D:/bachelors/datasets/viz/Roboto-Medium.ttf\",size = 12)\n",
    "regluar_font = fm.FontProperties(fname = r\"D:\\bachelors\\datasets\\viz\\Roboto-Regular.ttf\", size = 12)\n",
    "\n",
    "colors = {\n",
    "    'peach' : '#FCB886',\n",
    "    'blue' : '#6FC7F7',\n",
    "    'green' : '#78AF34',\n",
    "    'red' : '#D25B5B',\n",
    "    'grey' : '#8B8B8B'\n",
    "}"
   ]
  },
  {
   "cell_type": "code",
   "execution_count": 4,
   "metadata": {},
   "outputs": [],
   "source": [
    "os.chdir('D:/bachelors/datasets/')"
   ]
  },
  {
   "cell_type": "markdown",
   "metadata": {},
   "source": [
    "## Import nodes"
   ]
  },
  {
   "cell_type": "code",
   "execution_count": 12,
   "metadata": {},
   "outputs": [
    {
     "data": {
      "text/html": [
       "<div>\n",
       "<style scoped>\n",
       "    .dataframe tbody tr th:only-of-type {\n",
       "        vertical-align: middle;\n",
       "    }\n",
       "\n",
       "    .dataframe tbody tr th {\n",
       "        vertical-align: top;\n",
       "    }\n",
       "\n",
       "    .dataframe thead th {\n",
       "        text-align: right;\n",
       "    }\n",
       "</style>\n",
       "<table border=\"1\" class=\"dataframe\">\n",
       "  <thead>\n",
       "    <tr style=\"text-align: right;\">\n",
       "      <th></th>\n",
       "      <th>commune</th>\n",
       "      <th>flow_cent</th>\n",
       "      <th>flow_cent_weighted</th>\n",
       "      <th>lat</th>\n",
       "      <th>lon</th>\n",
       "    </tr>\n",
       "  </thead>\n",
       "  <tbody>\n",
       "    <tr>\n",
       "      <td>0</td>\n",
       "      <td>'s-Hertogenbosch</td>\n",
       "      <td>4044.998939</td>\n",
       "      <td>6425.120416</td>\n",
       "      <td>51.716578</td>\n",
       "      <td>5.354612</td>\n",
       "    </tr>\n",
       "    <tr>\n",
       "      <td>1</td>\n",
       "      <td>Aalburg</td>\n",
       "      <td>228.430508</td>\n",
       "      <td>451.462882</td>\n",
       "      <td>51.745721</td>\n",
       "      <td>5.068460</td>\n",
       "    </tr>\n",
       "    <tr>\n",
       "      <td>2</td>\n",
       "      <td>Almelo</td>\n",
       "      <td>1239.923576</td>\n",
       "      <td>2002.925994</td>\n",
       "      <td>52.347764</td>\n",
       "      <td>6.666955</td>\n",
       "    </tr>\n",
       "    <tr>\n",
       "      <td>3</td>\n",
       "      <td>Almere</td>\n",
       "      <td>2495.102412</td>\n",
       "      <td>3865.450762</td>\n",
       "      <td>52.366282</td>\n",
       "      <td>5.249946</td>\n",
       "    </tr>\n",
       "    <tr>\n",
       "      <td>4</td>\n",
       "      <td>Alphen aan den Rijn</td>\n",
       "      <td>1540.276304</td>\n",
       "      <td>2225.913278</td>\n",
       "      <td>52.112423</td>\n",
       "      <td>4.641881</td>\n",
       "    </tr>\n",
       "    <tr>\n",
       "      <td>...</td>\n",
       "      <td>...</td>\n",
       "      <td>...</td>\n",
       "      <td>...</td>\n",
       "      <td>...</td>\n",
       "      <td>...</td>\n",
       "    </tr>\n",
       "    <tr>\n",
       "      <td>373</td>\n",
       "      <td>Valkenburg aan de Geul</td>\n",
       "      <td>516.785481</td>\n",
       "      <td>577.022303</td>\n",
       "      <td>50.862246</td>\n",
       "      <td>5.831572</td>\n",
       "    </tr>\n",
       "    <tr>\n",
       "      <td>374</td>\n",
       "      <td>Gulpen-Wittem</td>\n",
       "      <td>634.298116</td>\n",
       "      <td>624.548588</td>\n",
       "      <td>50.803984</td>\n",
       "      <td>5.906796</td>\n",
       "    </tr>\n",
       "    <tr>\n",
       "      <td>375</td>\n",
       "      <td>Ten Boer</td>\n",
       "      <td>258.001323</td>\n",
       "      <td>342.204732</td>\n",
       "      <td>53.277802</td>\n",
       "      <td>6.699298</td>\n",
       "    </tr>\n",
       "    <tr>\n",
       "      <td>376</td>\n",
       "      <td>Zuidhorn</td>\n",
       "      <td>364.151314</td>\n",
       "      <td>606.290369</td>\n",
       "      <td>53.271983</td>\n",
       "      <td>6.380709</td>\n",
       "    </tr>\n",
       "    <tr>\n",
       "      <td>377</td>\n",
       "      <td>Schiermonnikoog</td>\n",
       "      <td>22.599883</td>\n",
       "      <td>11.743073</td>\n",
       "      <td>53.487630</td>\n",
       "      <td>6.213665</td>\n",
       "    </tr>\n",
       "  </tbody>\n",
       "</table>\n",
       "<p>378 rows × 5 columns</p>\n",
       "</div>"
      ],
      "text/plain": [
       "                    commune    flow_cent  flow_cent_weighted        lat  \\\n",
       "0          's-Hertogenbosch  4044.998939         6425.120416  51.716578   \n",
       "1                   Aalburg   228.430508          451.462882  51.745721   \n",
       "2                    Almelo  1239.923576         2002.925994  52.347764   \n",
       "3                    Almere  2495.102412         3865.450762  52.366282   \n",
       "4       Alphen aan den Rijn  1540.276304         2225.913278  52.112423   \n",
       "..                      ...          ...                 ...        ...   \n",
       "373  Valkenburg aan de Geul   516.785481          577.022303  50.862246   \n",
       "374           Gulpen-Wittem   634.298116          624.548588  50.803984   \n",
       "375                Ten Boer   258.001323          342.204732  53.277802   \n",
       "376                Zuidhorn   364.151314          606.290369  53.271983   \n",
       "377         Schiermonnikoog    22.599883           11.743073  53.487630   \n",
       "\n",
       "          lon  \n",
       "0    5.354612  \n",
       "1    5.068460  \n",
       "2    6.666955  \n",
       "3    5.249946  \n",
       "4    4.641881  \n",
       "..        ...  \n",
       "373  5.831572  \n",
       "374  5.906796  \n",
       "375  6.699298  \n",
       "376  6.380709  \n",
       "377  6.213665  \n",
       "\n",
       "[378 rows x 5 columns]"
      ]
     },
     "execution_count": 12,
     "metadata": {},
     "output_type": "execute_result"
    }
   ],
   "source": [
    "pd.read_csv(\n",
    "        f'analysis/yearly_graphs_v4/total/nodes_total_{year}.csv')"
   ]
  },
  {
   "cell_type": "code",
   "execution_count": 13,
   "metadata": {},
   "outputs": [],
   "source": [
    "nodes = pd.concat([\n",
    "    pd.read_csv(\n",
    "        f'analysis/yearly_graphs_v4/total/nodes_total_{year}.csv'\n",
    "    ).assign(\n",
    "        year = pd.Timestamp(f'{year}-01-01')\n",
    "    ) for year in range(2004, 2018)\n",
    "]).set_index(['year', 'commune'])['flow_cent']"
   ]
  },
  {
   "cell_type": "code",
   "execution_count": 14,
   "metadata": {},
   "outputs": [
    {
     "data": {
      "text/plain": [
       "year        commune               \n",
       "2004-01-01  's-Hertogenbosch          3613.827049\n",
       "            Aalburg                    427.784161\n",
       "            Alkmaar                   1658.776524\n",
       "            Almere                    2943.174698\n",
       "            Amersfoort                2809.391779\n",
       "                                         ...     \n",
       "2017-01-01  Valkenburg aan de Geul     516.785481\n",
       "            Gulpen-Wittem              634.298116\n",
       "            Ten Boer                   258.001323\n",
       "            Zuidhorn                   364.151314\n",
       "            Schiermonnikoog             22.599883\n",
       "Name: flow_cent, Length: 5310, dtype: float64"
      ]
     },
     "execution_count": 14,
     "metadata": {},
     "output_type": "execute_result"
    }
   ],
   "source": [
    "nodes"
   ]
  },
  {
   "cell_type": "markdown",
   "metadata": {},
   "source": [
    "## Import Edges"
   ]
  },
  {
   "cell_type": "code",
   "execution_count": 6,
   "metadata": {},
   "outputs": [],
   "source": [
    "def stats(communes_list, graph):\n",
    "    series_list = []\n",
    "    for commune in communes_list:\n",
    "        series_list.append(\n",
    "            graph[\n",
    "                (graph.local_1 == commune) | (graph.local_2 == commune)\n",
    "            ].agg(\n",
    "                {'flow' : 'mean'}\n",
    "            ).rename(commune)\n",
    "        )\n",
    "    typology = pd.DataFrame(series_list)\n",
    "\n",
    "    typology = typology.assign(\n",
    "        flow = typology.flow / typology.flow.max()\n",
    "    #     flow = zscore(typology.flow)\n",
    "    )\n",
    "    \n",
    "    return typology"
   ]
  },
  {
   "cell_type": "code",
   "execution_count": 21,
   "metadata": {},
   "outputs": [],
   "source": [
    "dflist = []\n",
    "for year in range(2004,2018):\n",
    "    graph = pd.read_csv(f'analysis/yearly_graphs_v4/total/edges_total_{year}.csv')\n",
    "    \n",
    "    communes_list = set(graph.local_1).union(set(graph.local_2))\n",
    "    \n",
    "    typology = stats(communes_list, graph).assign(\n",
    "        year = pd.Timestamp(f'{year}-01-01')\n",
    "    )\n",
    "    typology.index.set_names(['commune'], inplace = True)\n",
    "    typology = typology.reset_index().set_index(['year', 'commune'])['flow']\n",
    "    dflist.append(typology)\n",
    "#     plot_types(typology, year)"
   ]
  },
  {
   "cell_type": "code",
   "execution_count": 23,
   "metadata": {},
   "outputs": [],
   "source": [
    "edges = pd.concat(dflist)"
   ]
  },
  {
   "cell_type": "markdown",
   "metadata": {},
   "source": [
    "## Import data"
   ]
  },
  {
   "cell_type": "code",
   "execution_count": 24,
   "metadata": {},
   "outputs": [],
   "source": [
    "dataset_paths = dict(zip(\n",
    "    ['Структура предприятий по специализации',\n",
    "     'Число предприятий по специализации',\n",
    "     'Коэффициент обеспеченности услугами',\n",
    "     'Расстояние до основных объектов инфраструктуры',\n",
    "     'Число рабочих мест и структура занятости',\n",
    "     'Доходы населения и домохозяйств',\n",
    "     'Другие показатели',\n",
    "     'Индекс коммерческой активности'],\n",
    "    os.listdir('territory_bases_v3/datatables/')\n",
    "))"
   ]
  },
  {
   "cell_type": "code",
   "execution_count": 25,
   "metadata": {},
   "outputs": [
    {
     "data": {
      "text/plain": [
       "{'Структура предприятий по специализации': 'business_shares.csv',\n",
       " 'Число предприятий по специализации': 'business_totals.csv',\n",
       " 'Коэффициент обеспеченности услугами': 'coeff_func_def.csv',\n",
       " 'Расстояние до основных объектов инфраструктуры': 'distances_to_objects.csv',\n",
       " 'Число рабочих мест и структура занятости': 'employment.csv',\n",
       " 'Доходы населения и домохозяйств': 'incomes.csv',\n",
       " 'Другие показатели': 'other_variables.csv',\n",
       " 'Индекс коммерческой активности': 'zent_idx.csv'}"
      ]
     },
     "execution_count": 25,
     "metadata": {},
     "output_type": "execute_result"
    }
   ],
   "source": [
    "dataset_paths"
   ]
  },
  {
   "cell_type": "code",
   "execution_count": 108,
   "metadata": {},
   "outputs": [],
   "source": [
    "columns = [list(pd.read_csv(f'territory_bases_v3/datatables/{df}').columns) for df in os.listdir('territory_bases_v3/datatables/')]"
   ]
  },
  {
   "cell_type": "code",
   "execution_count": 111,
   "metadata": {},
   "outputs": [],
   "source": [
    "from functools import reduce\n",
    "cols = reduce(lambda left, right: left + right, columns)\n",
    "colNames = pd.DataFrame(cols)\n",
    "colNames.columns = ['name_eng']\n",
    "\n",
    "colNames.to_excel('ColNames.xlsx', index = None)"
   ]
  },
  {
   "cell_type": "code",
   "execution_count": 26,
   "metadata": {},
   "outputs": [],
   "source": [
    "colNames_dict = pd.read_excel('ColNames_edited.xlsx')"
   ]
  },
  {
   "cell_type": "code",
   "execution_count": 27,
   "metadata": {},
   "outputs": [],
   "source": [
    "def read_data(name):\n",
    "    data = pd.read_csv(\n",
    "        f\"territory_bases_v3/datatables/{dataset_paths[name]}\"\n",
    "    )\n",
    "    data['Perioden'] = pd.to_datetime(data['Perioden'])\n",
    "    data = data.rename(columns = {'commune_ok' : 'commune', 'Perioden' : 'year'})\n",
    "    data = data.set_index(['year', 'commune'])\n",
    "    colNames_rename = colNames_dict[colNames_dict.dataset == name].set_index('name_eng')['name_rus'].to_dict()\n",
    "    data = data.rename(columns = colNames_rename)\n",
    "    return data"
   ]
  },
  {
   "cell_type": "code",
   "execution_count": 286,
   "metadata": {},
   "outputs": [],
   "source": [
    "def plot_reg(df, linreg):    \n",
    "    plt.figure(figsize = (7,7), facecolor = 'w')\n",
    "\n",
    "    sns.regplot(df.iloc[:, 0], df.iloc[:, 1],\n",
    "                scatter_kws = {'s' : 3, 'color' : colors['peach']},\n",
    "                line_kws = {'color' : colors['blue']})\n",
    "\n",
    "    plt.grid()\n",
    "    plt.xlim(-.01, 1.01)\n",
    "    plt.ylim(-.01, 1.01)\n",
    "    plt.yticks(fontproperties = regluar_font)\n",
    "    plt.ylabel('Индекс центральности', fontproperties = medium_font)\n",
    "\n",
    "    plt.xticks(fontproperties = regluar_font)\n",
    "    plt.xlabel(df.iloc[:, 0].name, fontproperties = medium_font)\n",
    "    slope = round(linreg.slope, 2)\n",
    "    intersept = round(linreg.intercept, 2)\n",
    "    if intersept >= 0:\n",
    "        plt.text(.01, .95, f'${slope}x + {intersept}$'.replace(',','.'), fontsize = 15)\n",
    "    else:\n",
    "        plt.text(.01, .95, f'${slope}x {intersept}$'.replace(',','.'), fontsize = 15)\n",
    "    plt.text(.99, .95, timestamp.year, fontproperties = medium_font, fontsize = 18, ha = 'right')\n",
    "    plt.savefig(f'analysis/')"
   ]
  },
  {
   "cell_type": "code",
   "execution_count": 28,
   "metadata": {},
   "outputs": [],
   "source": [
    "def correalte(column, nodes_one_year, year):\n",
    "    df = pd.concat([column / column.max(), nodes_one_year], axis = 1).dropna()\n",
    "    linreg = lr(df)\n",
    "#     plot_reg(df, linreg)\n",
    "    return(linreg)"
   ]
  },
  {
   "cell_type": "markdown",
   "metadata": {},
   "source": [
    "# Compute each"
   ]
  },
  {
   "cell_type": "code",
   "execution_count": 29,
   "metadata": {},
   "outputs": [],
   "source": [
    "nodes = edges"
   ]
  },
  {
   "cell_type": "code",
   "execution_count": 30,
   "metadata": {},
   "outputs": [
    {
     "name": "stderr",
     "output_type": "stream",
     "text": [
      "C:\\Users\\mtopn\\Anaconda3\\lib\\site-packages\\ipykernel_launcher.py:2: FutureWarning: Sorting because non-concatenation axis is not aligned. A future version\n",
      "of pandas will change to not sort by default.\n",
      "\n",
      "To accept the future behavior, pass 'sort=False'.\n",
      "\n",
      "To retain the current behavior and silence the warning, pass 'sort=True'.\n",
      "\n",
      "  \n"
     ]
    }
   ],
   "source": [
    "dfs = []\n",
    "for ds_name in dataset_paths:\n",
    "    data = read_data(ds_name)\n",
    "    df = []\n",
    "    for year in range(2004, 2018):\n",
    "        timestamp = pd.Timestamp(f'{year}-01-01')\n",
    "        one_year = data.loc[timestamp]\n",
    "        nodes_one_year = nodes.loc[timestamp] / nodes.loc[timestamp].max()\n",
    "\n",
    "        df.append(one_year.apply(lambda column: correalte(column, nodes_one_year, year)).rename(year))\n",
    "    df = pd.DataFrame(df).transpose().stack().reset_index()\n",
    "    df.columns = ['Показатель', 'Год', 'model']\n",
    "    df = df.assign(data_group = ds_name)\n",
    "    \n",
    "    dfs.append(df)"
   ]
  },
  {
   "cell_type": "code",
   "execution_count": 31,
   "metadata": {},
   "outputs": [],
   "source": [
    "models = pd.concat(dfs).rename(columns = {'data_group' : 'Группа показателей'}).set_index(['Группа показателей', 'Показатель', 'Год'])"
   ]
  },
  {
   "cell_type": "code",
   "execution_count": 32,
   "metadata": {},
   "outputs": [],
   "source": [
    "def form_equation(x):\n",
    "    if x.intercept >=0:\n",
    "        return f\"{round(x.slope, 2)}x+{round(x.intercept,2)}\".replace('.', ',')\n",
    "    else:\n",
    "        return f\"{round(x.slope, 2)}x{round(x.intercept,2)}\".replace('.', ',')"
   ]
  },
  {
   "cell_type": "code",
   "execution_count": 299,
   "metadata": {},
   "outputs": [
    {
     "data": {
      "text/plain": [
       "0.10140873445753898"
      ]
     },
     "execution_count": 299,
     "metadata": {},
     "output_type": "execute_result"
    }
   ],
   "source": [
    "lin_reg.intercept"
   ]
  },
  {
   "cell_type": "code",
   "execution_count": 33,
   "metadata": {},
   "outputs": [],
   "source": [
    "models['Уравнение'] = models.model.apply(lambda x: form_equation(x))\n",
    "models['R2'] = models.model.apply(lambda x: round(x.rvalue, 2))\n",
    "models['p'] = models.model.apply(lambda x: round(x.pvalue, 4))\n",
    "models['Стандартная ошибка'] = models.model.apply(lambda x: round(x.stderr, 4))"
   ]
  },
  {
   "cell_type": "code",
   "execution_count": 246,
   "metadata": {},
   "outputs": [],
   "source": [
    "models_True = models[models.p < .001]"
   ]
  },
  {
   "cell_type": "code",
   "execution_count": 36,
   "metadata": {},
   "outputs": [],
   "source": [
    "models = models.drop(columns = 'model').stack().unstack('Год')"
   ]
  },
  {
   "cell_type": "code",
   "execution_count": 39,
   "metadata": {},
   "outputs": [],
   "source": [
    "models = models.sort_index()"
   ]
  },
  {
   "cell_type": "code",
   "execution_count": 40,
   "metadata": {},
   "outputs": [],
   "source": [
    "models.to_excel('analysis/correlations_flow_mean.xlsx')"
   ]
  }
 ],
 "metadata": {
  "kernelspec": {
   "display_name": "Python 3",
   "language": "python",
   "name": "python3"
  },
  "language_info": {
   "codemirror_mode": {
    "name": "ipython",
    "version": 3
   },
   "file_extension": ".py",
   "mimetype": "text/x-python",
   "name": "python",
   "nbconvert_exporter": "python",
   "pygments_lexer": "ipython3",
   "version": "3.7.4"
  }
 },
 "nbformat": 4,
 "nbformat_minor": 2
}
