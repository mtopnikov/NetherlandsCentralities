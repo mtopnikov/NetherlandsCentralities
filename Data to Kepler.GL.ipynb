{
 "cells": [
  {
   "cell_type": "code",
   "execution_count": 10,
   "metadata": {},
   "outputs": [],
   "source": [
    "import pandas as pd\n",
    "import geopandas as gpd\n",
    "import os\n",
    "import json"
   ]
  },
  {
   "cell_type": "code",
   "execution_count": 4,
   "metadata": {},
   "outputs": [],
   "source": [
    "os.chdir('D:/bachelors/datasets/')"
   ]
  },
  {
   "cell_type": "code",
   "execution_count": 5,
   "metadata": {},
   "outputs": [],
   "source": [
    "bounds = gpd.read_file('../qgis/base/Netherlands_communes.gpkg')"
   ]
  },
  {
   "cell_type": "code",
   "execution_count": 6,
   "metadata": {},
   "outputs": [],
   "source": [
    "nodes = [i for i in os.listdir('analysis/yearly_graphs_v2/total/') if 'nodes_' in i and '.csv' in i]"
   ]
  },
  {
   "cell_type": "code",
   "execution_count": 11,
   "metadata": {},
   "outputs": [],
   "source": [
    "with open('Variables/mappers/communes_names_toRussian_map.json') as infile:\n",
    "    rus_names = json.load(infile)"
   ]
  },
  {
   "cell_type": "code",
   "execution_count": 18,
   "metadata": {},
   "outputs": [],
   "source": [
    "dfList = []\n",
    "for node in nodes:\n",
    "    nd = pd.read_csv('analysis/yearly_graphs_v2/total/' + node)[['commune', 'flow_cent']].rename(columns = {'commune' : 'NAME'})\n",
    "    bd_year = bounds.merge(nd, on = 'NAME', how = 'left').assign(\n",
    "        year = int(node.split('_')[-1].split('.')[0])\n",
    "    )\n",
    "    dfList.append(bd_year)"
   ]
  },
  {
   "cell_type": "code",
   "execution_count": 38,
   "metadata": {},
   "outputs": [],
   "source": [
    "full_gdf = pd.concat(dfList)"
   ]
  },
  {
   "cell_type": "code",
   "execution_count": 39,
   "metadata": {},
   "outputs": [],
   "source": [
    "import datetime as dt"
   ]
  },
  {
   "cell_type": "code",
   "execution_count": 40,
   "metadata": {},
   "outputs": [],
   "source": [
    "full_gdf['year'] = full_gdf['year'].apply(lambda x: dt.datetime.strptime(str(x), '%Y'))"
   ]
  },
  {
   "cell_type": "code",
   "execution_count": 36,
   "metadata": {},
   "outputs": [],
   "source": [
    "full_gdf['year'] = pd.to_datetime(full_gdf['year'], unit = 'Y')"
   ]
  },
  {
   "cell_type": "code",
   "execution_count": 24,
   "metadata": {},
   "outputs": [
    {
     "data": {
      "text/plain": [
       "0     1970-01-01 00:00:00.000002004\n",
       "1     1970-01-01 00:00:00.000002004\n",
       "2     1970-01-01 00:00:00.000002004\n",
       "3     1970-01-01 00:00:00.000002004\n",
       "4     1970-01-01 00:00:00.000002004\n",
       "                   ...             \n",
       "375   1970-01-01 00:00:00.000002017\n",
       "376   1970-01-01 00:00:00.000002017\n",
       "377   1970-01-01 00:00:00.000002017\n",
       "378   1970-01-01 00:00:00.000002017\n",
       "379   1970-01-01 00:00:00.000002017\n",
       "Name: year, Length: 5320, dtype: datetime64[ns]"
      ]
     },
     "execution_count": 24,
     "metadata": {},
     "output_type": "execute_result"
    }
   ],
   "source": [
    "full_gdf['year']"
   ]
  },
  {
   "cell_type": "code",
   "execution_count": 41,
   "metadata": {},
   "outputs": [],
   "source": [
    "full_gdf.to_file('KEPLER.geojson', driver = 'GeoJSON')"
   ]
  },
  {
   "cell_type": "code",
   "execution_count": 14,
   "metadata": {},
   "outputs": [],
   "source": [
    "node = nodes[0]"
   ]
  },
  {
   "cell_type": "code",
   "execution_count": 17,
   "metadata": {},
   "outputs": [
    {
     "data": {
      "text/plain": [
       "2004"
      ]
     },
     "execution_count": 17,
     "metadata": {},
     "output_type": "execute_result"
    }
   ],
   "source": [
    "int(node.split('_')[-1].split('.')[0])"
   ]
  },
  {
   "cell_type": "code",
   "execution_count": 12,
   "metadata": {},
   "outputs": [
    {
     "data": {
      "text/html": [
       "<div>\n",
       "<style scoped>\n",
       "    .dataframe tbody tr th:only-of-type {\n",
       "        vertical-align: middle;\n",
       "    }\n",
       "\n",
       "    .dataframe tbody tr th {\n",
       "        vertical-align: top;\n",
       "    }\n",
       "\n",
       "    .dataframe thead th {\n",
       "        text-align: right;\n",
       "    }\n",
       "</style>\n",
       "<table border=\"1\" class=\"dataframe\">\n",
       "  <thead>\n",
       "    <tr style=\"text-align: right;\">\n",
       "      <th></th>\n",
       "      <th>NAME</th>\n",
       "      <th>POPULATION</th>\n",
       "      <th>Area</th>\n",
       "      <th>DENSITY</th>\n",
       "      <th>geometry</th>\n",
       "    </tr>\n",
       "  </thead>\n",
       "  <tbody>\n",
       "    <tr>\n",
       "      <td>0</td>\n",
       "      <td>Aa en Hunze</td>\n",
       "      <td>25390</td>\n",
       "      <td>279914646</td>\n",
       "      <td>90.71</td>\n",
       "      <td>MULTIPOLYGON (((6.94484 52.99216, 6.93764 52.9...</td>\n",
       "    </tr>\n",
       "    <tr>\n",
       "      <td>1</td>\n",
       "      <td>Assen</td>\n",
       "      <td>67708</td>\n",
       "      <td>83621452</td>\n",
       "      <td>809.70</td>\n",
       "      <td>MULTIPOLYGON (((6.56860 52.94577, 6.55969 52.9...</td>\n",
       "    </tr>\n",
       "    <tr>\n",
       "      <td>2</td>\n",
       "      <td>Borger-Odoorn</td>\n",
       "      <td>25351</td>\n",
       "      <td>272907572</td>\n",
       "      <td>92.89</td>\n",
       "      <td>MULTIPOLYGON (((7.02043 52.87131, 7.01917 52.8...</td>\n",
       "    </tr>\n",
       "    <tr>\n",
       "      <td>3</td>\n",
       "      <td>Coevorden</td>\n",
       "      <td>35299</td>\n",
       "      <td>299357668</td>\n",
       "      <td>117.92</td>\n",
       "      <td>MULTIPOLYGON (((6.81502 52.64786, 6.81413 52.6...</td>\n",
       "    </tr>\n",
       "    <tr>\n",
       "      <td>4</td>\n",
       "      <td>De Wolden</td>\n",
       "      <td>23917</td>\n",
       "      <td>226940619</td>\n",
       "      <td>105.39</td>\n",
       "      <td>MULTIPOLYGON (((6.45437 52.78520, 6.45427 52.7...</td>\n",
       "    </tr>\n",
       "  </tbody>\n",
       "</table>\n",
       "</div>"
      ],
      "text/plain": [
       "            NAME  POPULATION       Area  DENSITY  \\\n",
       "0    Aa en Hunze       25390  279914646    90.71   \n",
       "1          Assen       67708   83621452   809.70   \n",
       "2  Borger-Odoorn       25351  272907572    92.89   \n",
       "3      Coevorden       35299  299357668   117.92   \n",
       "4      De Wolden       23917  226940619   105.39   \n",
       "\n",
       "                                            geometry  \n",
       "0  MULTIPOLYGON (((6.94484 52.99216, 6.93764 52.9...  \n",
       "1  MULTIPOLYGON (((6.56860 52.94577, 6.55969 52.9...  \n",
       "2  MULTIPOLYGON (((7.02043 52.87131, 7.01917 52.8...  \n",
       "3  MULTIPOLYGON (((6.81502 52.64786, 6.81413 52.6...  \n",
       "4  MULTIPOLYGON (((6.45437 52.78520, 6.45427 52.7...  "
      ]
     },
     "execution_count": 12,
     "metadata": {},
     "output_type": "execute_result"
    }
   ],
   "source": [
    "bounds.head()"
   ]
  },
  {
   "cell_type": "code",
   "execution_count": null,
   "metadata": {},
   "outputs": [],
   "source": []
  },
  {
   "cell_type": "code",
   "execution_count": 8,
   "metadata": {},
   "outputs": [
    {
     "data": {
      "text/html": [
       "<div>\n",
       "<style scoped>\n",
       "    .dataframe tbody tr th:only-of-type {\n",
       "        vertical-align: middle;\n",
       "    }\n",
       "\n",
       "    .dataframe tbody tr th {\n",
       "        vertical-align: top;\n",
       "    }\n",
       "\n",
       "    .dataframe thead th {\n",
       "        text-align: right;\n",
       "    }\n",
       "</style>\n",
       "<table border=\"1\" class=\"dataframe\">\n",
       "  <thead>\n",
       "    <tr style=\"text-align: right;\">\n",
       "      <th></th>\n",
       "      <th>commune</th>\n",
       "      <th>flow_cent</th>\n",
       "      <th>flow_cent_weighted</th>\n",
       "      <th>lat</th>\n",
       "      <th>lon</th>\n",
       "    </tr>\n",
       "  </thead>\n",
       "  <tbody>\n",
       "    <tr>\n",
       "      <td>0</td>\n",
       "      <td>'s-Hertogenbosch</td>\n",
       "      <td>3417.120580</td>\n",
       "      <td>5647.921771</td>\n",
       "      <td>51.716578</td>\n",
       "      <td>5.354612</td>\n",
       "    </tr>\n",
       "    <tr>\n",
       "      <td>1</td>\n",
       "      <td>Aa en Hunze</td>\n",
       "      <td>822.746157</td>\n",
       "      <td>1152.077493</td>\n",
       "      <td>52.992338</td>\n",
       "      <td>6.735571</td>\n",
       "    </tr>\n",
       "    <tr>\n",
       "      <td>2</td>\n",
       "      <td>Aalburg</td>\n",
       "      <td>402.308329</td>\n",
       "      <td>1207.051831</td>\n",
       "      <td>51.745721</td>\n",
       "      <td>5.068460</td>\n",
       "    </tr>\n",
       "    <tr>\n",
       "      <td>3</td>\n",
       "      <td>Aalsmeer</td>\n",
       "      <td>456.776004</td>\n",
       "      <td>822.100724</td>\n",
       "      <td>52.256592</td>\n",
       "      <td>4.756445</td>\n",
       "    </tr>\n",
       "    <tr>\n",
       "      <td>4</td>\n",
       "      <td>Aalten</td>\n",
       "      <td>326.636535</td>\n",
       "      <td>606.675459</td>\n",
       "      <td>51.923426</td>\n",
       "      <td>6.569697</td>\n",
       "    </tr>\n",
       "    <tr>\n",
       "      <td>...</td>\n",
       "      <td>...</td>\n",
       "      <td>...</td>\n",
       "      <td>...</td>\n",
       "      <td>...</td>\n",
       "      <td>...</td>\n",
       "    </tr>\n",
       "    <tr>\n",
       "      <td>374</td>\n",
       "      <td>Zundert</td>\n",
       "      <td>326.166500</td>\n",
       "      <td>560.220401</td>\n",
       "      <td>51.478423</td>\n",
       "      <td>4.644465</td>\n",
       "    </tr>\n",
       "    <tr>\n",
       "      <td>375</td>\n",
       "      <td>Zutphen</td>\n",
       "      <td>976.068925</td>\n",
       "      <td>1927.860046</td>\n",
       "      <td>52.136103</td>\n",
       "      <td>6.241262</td>\n",
       "    </tr>\n",
       "    <tr>\n",
       "      <td>376</td>\n",
       "      <td>Zwartewaterland</td>\n",
       "      <td>547.527166</td>\n",
       "      <td>898.964559</td>\n",
       "      <td>52.601674</td>\n",
       "      <td>6.070748</td>\n",
       "    </tr>\n",
       "    <tr>\n",
       "      <td>377</td>\n",
       "      <td>Zwijndrecht</td>\n",
       "      <td>668.363639</td>\n",
       "      <td>1292.627242</td>\n",
       "      <td>51.821506</td>\n",
       "      <td>4.606817</td>\n",
       "    </tr>\n",
       "    <tr>\n",
       "      <td>378</td>\n",
       "      <td>Zwolle</td>\n",
       "      <td>3322.507669</td>\n",
       "      <td>5482.876226</td>\n",
       "      <td>52.518026</td>\n",
       "      <td>6.124732</td>\n",
       "    </tr>\n",
       "  </tbody>\n",
       "</table>\n",
       "<p>379 rows × 5 columns</p>\n",
       "</div>"
      ],
      "text/plain": [
       "              commune    flow_cent  flow_cent_weighted        lat       lon\n",
       "0    's-Hertogenbosch  3417.120580         5647.921771  51.716578  5.354612\n",
       "1         Aa en Hunze   822.746157         1152.077493  52.992338  6.735571\n",
       "2             Aalburg   402.308329         1207.051831  51.745721  5.068460\n",
       "3            Aalsmeer   456.776004          822.100724  52.256592  4.756445\n",
       "4              Aalten   326.636535          606.675459  51.923426  6.569697\n",
       "..                ...          ...                 ...        ...       ...\n",
       "374           Zundert   326.166500          560.220401  51.478423  4.644465\n",
       "375           Zutphen   976.068925         1927.860046  52.136103  6.241262\n",
       "376   Zwartewaterland   547.527166          898.964559  52.601674  6.070748\n",
       "377       Zwijndrecht   668.363639         1292.627242  51.821506  4.606817\n",
       "378            Zwolle  3322.507669         5482.876226  52.518026  6.124732\n",
       "\n",
       "[379 rows x 5 columns]"
      ]
     },
     "execution_count": 8,
     "metadata": {},
     "output_type": "execute_result"
    }
   ],
   "source": [
    "pd.read_csv('analysis/yearly_graphs_v2/total/' + nodes[0])"
   ]
  },
  {
   "cell_type": "code",
   "execution_count": null,
   "metadata": {},
   "outputs": [],
   "source": []
  }
 ],
 "metadata": {
  "kernelspec": {
   "display_name": "Python 3",
   "language": "python",
   "name": "python3"
  },
  "language_info": {
   "codemirror_mode": {
    "name": "ipython",
    "version": 3
   },
   "file_extension": ".py",
   "mimetype": "text/x-python",
   "name": "python",
   "nbconvert_exporter": "python",
   "pygments_lexer": "ipython3",
   "version": "3.7.4"
  }
 },
 "nbformat": 4,
 "nbformat_minor": 2
}
